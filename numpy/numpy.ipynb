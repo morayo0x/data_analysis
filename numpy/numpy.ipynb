{
 "cells": [
  {
   "cell_type": "markdown",
   "metadata": {},
   "source": [
    "# Important Numpy Methods and Tricks\n",
    "\n",
    "---\n",
    "---|||\n",
    "### Fancy (Sub) Indexing\n",
    "\n",
    "This provides a mechanism where one can select *particular rows* from an ndarray. Initially, I had though that passing the second arguments, would also return the columns of the selected rows in the order specified, but running the code behaved differently.\n",
    "\n",
    "E.g Say we have the following 2D array, \n",
    "\n",
    "- [10, 11, 12, 13]\n",
    "- [20, 21, 22, 23]\n",
    "- [30, 31, 32, 33]\n",
    "- [40, 41, 42, 43]\n",
    "\n",
    "and we want to **select the 4th, 1st, and 3rd row in that order**, i.e.\n",
    "- [40, 41, 42, 43]\n",
    "- [10, 11, 12, 13]\n",
    "- [30, 31, 32, 33]\n",
    "\n",
    "then we use the following sub-indexing\n",
    "\n",
    "- **array[ [3, 0, 2] ]** =>> return an array containg the rows in the same order specified.\n",
    "\n",
    "Now, one might be tempted to say, we also want to get the say; **first and last column of the returned slice, so that we would have;\n",
    "\n",
    "- [40, 43]\n",
    "- [30, 33]\n",
    "\n",
    "*But an error will be returned, because the second sub-indexing does not act on the entire slice returned but **on independent row slices**. Thats is, the rows returned are independent slice from the orders, and hence any operation we want to perform using the second sub-indexing, will now act on the independent slice. In our case, we got a 1D independed slice arrays, and therefore the second sub indexing will **act only on the element in the array***\n",
    "\n",
    "> Of importance to note is that the second sub-index must be of the same length as that of  firs sub-index, or be broadcastable to the length of the first index\n",
    "\n",
    "As an example, passing the following to the preceeding array\n",
    "\n",
    "- **array[ [3, 0, 2], [0]]: broadcasting will occur here, and this will be;\n",
    "  - **array[ [3, 0, 2], [0, 0, 0] ]\n",
    "\n",
    "the result of this will  be as follows:\n",
    "\n",
    "- return the **4th, 1st, and 2nd rows of the source array**\n",
    "- then return the **first elements (our 0)** of this independents rows\n",
    "\n",
    "this will then return [40, 10, 30] as the result\n",
    "\n",
    "\n",
    "> The take away is that one must see sub-indexing as returning independent slices, in the order required and the second sub-indexing acting on this independent slice\n",
    "\n",
    "> Note when a slice is returned by the first argument (i.e. instead of using sub-indexing, we used a range instead), then the second argument will see a slice and not independent slices\n",
    "\n",
    "---\n",
    "\n",
    "---\n",
    "---|||\n",
    "\n",
    "### **nonzero** method\n",
    "\n",
    "Accidentally: while trying to **find the indices of non-zero elements in array**\n",
    "\n",
    "> *It works also works for higher dimension, returning arrays containing the indices arong the last axis*\n",
    "---\n",
    "\n",
    "---|||\n",
    "### **eye** and **identity** method\n",
    "\n",
    "Curiously: they are similar, except that *eye* permits more modification than *identity*. While the *identity* will always return an identity **square matrix** of specifed order along the main diagonal, the eye method can return a **non-square matrix**\n",
    "\n",
    "---\n",
    "\n",
    "---|||\n",
    "### **randint**, **random**, **randn**method\n",
    "\n",
    "They allow for initializing an ndarray with random values (and size)\n",
    "\n",
    "##### **randint(low, high, size)**: \n",
    "\n",
    "Used for creating random integers between a **low**(inclusive) value and a **high**(exclusive) value, with an **optional size argument, that defaults to 1, i.e. return a single value**. \n",
    "\n",
    "Note: the size can be specified as the shape of the ndarray to be returned, and the array will be populated with the random integer values\n",
    "\n",
    "---\n",
    "\n",
    "##### **random**: \n",
    "\n",
    "This is used for creating random values between [0.0, 1.0)\n",
    "\n",
    "- **the values are floats**, not integers.\n",
    "- unlike randint, it takes a value that determines the size, and shape of the output arrays\n",
    "\n",
    "---\n",
    "\n",
    "##### **randn**: Normally Distributed Random Values (N ~ (mean = 0, std = 1))\n",
    "\n",
    "This is similar to to **randint**, except that:\n",
    "\n",
    "- **the values are floats**, not integers.\n",
    "- the returned values are **normally distributed**, as the values are selected from a random distribution of **mean = 0**, and **standard deviation = 1**.\n",
    "\n",
    "---\n",
    "\n",
    "##### **rand**: Uniformly Distributed Random Values (U ~ (a = 0, b = 1))\n",
    "\n",
    "This is similar to to **randint**, except that:\n",
    "\n",
    "- the values are between 0 and 1(exclusive)\n",
    "- **the values are floats**, not integers.\n",
    "- the returned values are **uniformly distributed**, as the values are selected from a random distribution of **a = 0**, and **b = 1**.\n",
    "\n",
    "---\n",
    "---|||\n",
    "\n",
    "### **diagonal and diag method** (array, k)\n",
    "\n",
    "They perform the same operation, but the **diagonal** perform its operation **in-place**, while **diag** returns a copy.\n",
    "\n",
    "If array, is 1d, then it constructs a square matrix with the main diagonal replaced by the data in the array. \n",
    "\n",
    "**The value of k (defaults: k = 0), determines which diagonal to place the data**;\n",
    "\n",
    "- if k > 0: above the main diagonal\n",
    "- if k < 0: below the main diagonal\n",
    "\n",
    "I had to construct a (5, 5) matrix and replace diagonal elements just below the main diagonal with new data. I concocted a rather convoluted solution using the *eye* method by:\n",
    "\n",
    "- making the diagonal k = -1, just below the main diagonal\n",
    "- replacing the elements there by the given data using sub-indexing\n",
    "\n",
    "Turns out I could do this in a single step using the diagonal or diag method.\n",
    "\n",
    "---\n",
    "\n"
   ]
  },
  {
   "cell_type": "code",
   "execution_count": 2,
   "metadata": {},
   "outputs": [],
   "source": [
    "import numpy as np\n",
    "import pandas as pd\n",
    "import seaborn as sns\n",
    "import scipy\n",
    "from matplotlib import pyplot as plt"
   ]
  },
  {
   "cell_type": "markdown",
   "metadata": {},
   "source": [
    "### NDARRAY: Multidimensional Array Object\n"
   ]
  },
  {
   "cell_type": "code",
   "execution_count": 3,
   "metadata": {},
   "outputs": [
    {
     "data": {
      "text/plain": [
       "array([[ 0.66813485,  1.65763368, -0.92245877],\n",
       "       [-0.58826662,  0.20676144, -0.82823253]])"
      ]
     },
     "execution_count": 3,
     "metadata": {},
     "output_type": "execute_result"
    }
   ],
   "source": [
    "# generate random data filling 2 rows and three columns\n",
    "data = np.random.randn(2, 3)\n",
    "data"
   ]
  },
  {
   "cell_type": "code",
   "execution_count": 4,
   "metadata": {},
   "outputs": [
    {
     "data": {
      "text/plain": [
       "array([[ 66.81348469, 165.76336771, -92.24587662],\n",
       "       [-58.82666173,  20.6761441 , -82.82325283]])"
      ]
     },
     "execution_count": 4,
     "metadata": {},
     "output_type": "execute_result"
    }
   ],
   "source": [
    "# multiply all the elements in the array by 100\n",
    "data * 100"
   ]
  },
  {
   "cell_type": "code",
   "execution_count": 5,
   "metadata": {},
   "outputs": [
    {
     "data": {
      "text/plain": [
       "(2, 3)"
      ]
     },
     "execution_count": 5,
     "metadata": {},
     "output_type": "execute_result"
    }
   ],
   "source": [
    "# get the shape of the array\n",
    "data.shape"
   ]
  },
  {
   "cell_type": "code",
   "execution_count": 6,
   "metadata": {},
   "outputs": [
    {
     "data": {
      "text/plain": [
       "dtype('float64')"
      ]
     },
     "execution_count": 6,
     "metadata": {},
     "output_type": "execute_result"
    }
   ],
   "source": [
    "# get the type of data in the array\n",
    "data.dtype"
   ]
  },
  {
   "cell_type": "markdown",
   "metadata": {},
   "source": [
    "## Creating ndarray"
   ]
  },
  {
   "cell_type": "code",
   "execution_count": 7,
   "metadata": {},
   "outputs": [],
   "source": [
    "# Creating ndarrays\n",
    "data1 = [1, 2, 3, 4, 5.1, 6.2]\n",
    "arr1 = np.array(data1)"
   ]
  },
  {
   "cell_type": "code",
   "execution_count": 8,
   "metadata": {},
   "outputs": [
    {
     "data": {
      "text/plain": [
       "array([1. , 2. , 3. , 4. , 5.1, 6.2])"
      ]
     },
     "execution_count": 8,
     "metadata": {},
     "output_type": "execute_result"
    }
   ],
   "source": [
    "arr1"
   ]
  },
  {
   "cell_type": "code",
   "execution_count": 9,
   "metadata": {},
   "outputs": [],
   "source": [
    "data2 = ['c', 'b', 'a']\n",
    "arr2 = np.array(data2)"
   ]
  },
  {
   "cell_type": "code",
   "execution_count": 10,
   "metadata": {},
   "outputs": [
    {
     "data": {
      "text/plain": [
       "array(['c', 'b', 'a'], dtype='<U1')"
      ]
     },
     "execution_count": 10,
     "metadata": {},
     "output_type": "execute_result"
    }
   ],
   "source": [
    "arr2"
   ]
  },
  {
   "cell_type": "code",
   "execution_count": 11,
   "metadata": {},
   "outputs": [],
   "source": [
    "data3 = [[1, 2, 3, 4], [5, 6, 7, 8]]\n",
    "arr3 = np.array(data3)"
   ]
  },
  {
   "cell_type": "code",
   "execution_count": 12,
   "metadata": {},
   "outputs": [
    {
     "name": "stdout",
     "output_type": "stream",
     "text": [
      "(2, 4)\n",
      "int64\n"
     ]
    },
    {
     "data": {
      "text/plain": [
       "array([[1, 2, 3, 4],\n",
       "       [5, 6, 7, 8]])"
      ]
     },
     "execution_count": 12,
     "metadata": {},
     "output_type": "execute_result"
    }
   ],
   "source": [
    "print(arr3.shape)\n",
    "print(arr3.dtype)\n",
    "arr3"
   ]
  },
  {
   "cell_type": "code",
   "execution_count": 13,
   "metadata": {},
   "outputs": [
    {
     "name": "stdout",
     "output_type": "stream",
     "text": [
      "1\n",
      "2\n"
     ]
    }
   ],
   "source": [
    "# get the dimension of the array\n",
    "print(arr1.ndim)\n",
    "print(arr3.ndim)"
   ]
  },
  {
   "cell_type": "code",
   "execution_count": 14,
   "metadata": {},
   "outputs": [
    {
     "name": "stdout",
     "output_type": "stream",
     "text": [
      "a [0. 0. 0. 0. 0. 0. 0. 0. 0. 0.]\n",
      "\n",
      "b [[0. 0. 0. 0.]\n",
      " [0. 0. 0. 0.]\n",
      " [0. 0. 0. 0.]]\n"
     ]
    }
   ],
   "source": [
    "# create arrays filled with zeros, given a specific length or shape \n",
    "\n",
    "# an array of 10 zeroes in length (10,)\n",
    "a = np.zeros(10)\n",
    "\n",
    "# an array of a given shape (3, 4), containing zeroes\n",
    "b = np.zeros((3, 4))\n",
    "\n",
    "print('a', a)\n",
    "print()\n",
    "print('b' , b)"
   ]
  },
  {
   "cell_type": "code",
   "execution_count": 15,
   "metadata": {},
   "outputs": [
    {
     "name": "stdout",
     "output_type": "stream",
     "text": [
      "a [1. 1. 1. 1. 1. 1. 1. 1. 1. 1.]\n",
      "\n",
      "b [[1. 1. 1. 1.]\n",
      " [1. 1. 1. 1.]\n",
      " [1. 1. 1. 1.]]\n"
     ]
    },
    {
     "data": {
      "text/plain": [
       "2"
      ]
     },
     "execution_count": 15,
     "metadata": {},
     "output_type": "execute_result"
    }
   ],
   "source": [
    "# creating an array of ones\n",
    "a = np.ones(10)\n",
    "b = np.ones((3, 4))\n",
    "\n",
    "print('a', a)\n",
    "print()\n",
    "print('b', b)\n",
    "b.ndim"
   ]
  },
  {
   "cell_type": "code",
   "execution_count": 16,
   "metadata": {},
   "outputs": [
    {
     "data": {
      "text/plain": [
       "array([[1., 1., 1., 1.],\n",
       "       [1., 1., 1., 1.],\n",
       "       [1., 1., 1., 1.]])"
      ]
     },
     "execution_count": 16,
     "metadata": {},
     "output_type": "execute_result"
    }
   ],
   "source": [
    "# using empty to intialise an array\n",
    "np.empty((3, 4,))"
   ]
  },
  {
   "cell_type": "markdown",
   "metadata": {},
   "source": [
    "### NOTE\n",
    "using empty method to intiialise an ndarray is almost similar to using random, except that it could fill it with garbage values"
   ]
  },
  {
   "cell_type": "markdown",
   "metadata": {},
   "source": [
    "---"
   ]
  },
  {
   "cell_type": "markdown",
   "metadata": {},
   "source": [
    "## Arange \n",
    "\n",
    "Creates an ndarray from start to stop-1; just like the python range function"
   ]
  },
  {
   "cell_type": "code",
   "execution_count": 17,
   "metadata": {},
   "outputs": [
    {
     "data": {
      "text/plain": [
       "array([ 10,  12,  14,  16,  18,  20,  22,  24,  26,  28,  30,  32,  34,\n",
       "        36,  38,  40,  42,  44,  46,  48,  50,  52,  54,  56,  58,  60,\n",
       "        62,  64,  66,  68,  70,  72,  74,  76,  78,  80,  82,  84,  86,\n",
       "        88,  90,  92,  94,  96,  98, 100])"
      ]
     },
     "execution_count": 17,
     "metadata": {},
     "output_type": "execute_result"
    }
   ],
   "source": [
    "# create an array of elements starting from 10 to 100, in steps of 2\n",
    "np.arange(10, 101, 2,)"
   ]
  },
  {
   "cell_type": "markdown",
   "metadata": {},
   "source": [
    "## Linspace \n",
    "\n",
    "works similarly as *arange* but the third specified parameter indicates how many element should be returned between the *start* and *stop* (inclusive)\n",
    "\n",
    "> The elements returned are evenly spaced"
   ]
  },
  {
   "cell_type": "code",
   "execution_count": 18,
   "metadata": {},
   "outputs": [
    {
     "data": {
      "text/plain": [
       "array([  1.,  12.,  23.,  34.,  45.,  56.,  67.,  78.,  89., 100.])"
      ]
     },
     "execution_count": 18,
     "metadata": {},
     "output_type": "execute_result"
    }
   ],
   "source": [
    "np.linspace(1, 100, 10)"
   ]
  },
  {
   "cell_type": "code",
   "execution_count": 19,
   "metadata": {},
   "outputs": [
    {
     "data": {
      "text/plain": [
       "array([0, 1, 2, 3, 4, 5, 6, 7, 8, 9])"
      ]
     },
     "execution_count": 19,
     "metadata": {},
     "output_type": "execute_result"
    }
   ],
   "source": [
    "np.asarray(np.arange(10))"
   ]
  },
  {
   "cell_type": "markdown",
   "metadata": {},
   "source": [
    "## ones_like and zeros_like\n",
    "\n",
    "the *ones_like*  and *zeros_like* method takes an ndarray, and produce the same ndarray with its element change to one (ones_like) or zero (zeros_like)"
   ]
  },
  {
   "cell_type": "code",
   "execution_count": 20,
   "metadata": {},
   "outputs": [
    {
     "name": "stdout",
     "output_type": "stream",
     "text": [
      "arr1 [[1 2 3]\n",
      " [4 5 6]\n",
      " [7 8 9]]\n",
      "\n",
      "arr2 [[1 2 3]\n",
      " [4 5 6]\n",
      " [7 8 9]]\n",
      "arr1 ones_like:  [[1 1 1]\n",
      " [1 1 1]\n",
      " [1 1 1]]\n",
      "arr1 zeros_like:  [[0 0 0]\n",
      " [0 0 0]\n",
      " [0 0 0]]\n"
     ]
    },
    {
     "data": {
      "text/plain": [
       "array([[1, 1, 1],\n",
       "       [1, 1, 1],\n",
       "       [1, 1, 1]])"
      ]
     },
     "execution_count": 20,
     "metadata": {},
     "output_type": "execute_result"
    }
   ],
   "source": [
    "data = [[1, 2, 3], [4, 5, 6], [7, 8, 9]]\n",
    "\n",
    "# create an array from the data \n",
    "arr1 = np.array(data)\n",
    "\n",
    "# using the asarray method. note that arr1 == arr2\n",
    "arr2 = np.asarray(data)\n",
    "print('arr1', arr1)\n",
    "print(\"\")\n",
    "print('arr2', arr2)\n",
    "\n",
    "# change the element of arr1 to one\n",
    "a = np.ones_like(arr1)\n",
    "print('arr1 ones_like: ', a)\n",
    "\n",
    "# change the element of arr2 to zeros\n",
    "b = np.zeros_like(arr2)\n",
    "print('arr1 zeros_like: ', b)\n",
    "\n",
    "# instead of converting to an ndarray before passing to the method,\n",
    "# we pass the list directly\n",
    "np.ones_like(data)"
   ]
  },
  {
   "cell_type": "markdown",
   "metadata": {},
   "source": [
    "## full and full_like method\n",
    "\n",
    "#### full\n",
    "Takes the shape and an element that will be used to fill the ndarray of that same shape\n",
    "\n",
    "#### full_like\n",
    "takes another array and fill it with the specified value; note the same data type will be used as the passed array"
   ]
  },
  {
   "cell_type": "code",
   "execution_count": 21,
   "metadata": {},
   "outputs": [
    {
     "data": {
      "text/plain": [
       "array([[2, 4, 5],\n",
       "       [2, 4, 5]])"
      ]
     },
     "execution_count": 21,
     "metadata": {},
     "output_type": "execute_result"
    }
   ],
   "source": [
    " \n",
    "from numpy import unicode_\n",
    "\n",
    "\n",
    "a = np.full((2, 3), [2, 4, 5], )\n",
    "\n",
    "a"
   ]
  },
  {
   "cell_type": "code",
   "execution_count": 22,
   "metadata": {},
   "outputs": [
    {
     "data": {
      "text/plain": [
       "array([[100, 100, 100],\n",
       "       [100, 100, 100]])"
      ]
     },
     "execution_count": 22,
     "metadata": {},
     "output_type": "execute_result"
    }
   ],
   "source": [
    "np.full_like(a, 100)"
   ]
  },
  {
   "cell_type": "code",
   "execution_count": 23,
   "metadata": {},
   "outputs": [
    {
     "data": {
      "text/plain": [
       "array([[ 30,  90, 270],\n",
       "       [ 30,  90, 270]])"
      ]
     },
     "execution_count": 23,
     "metadata": {},
     "output_type": "execute_result"
    }
   ],
   "source": [
    "np.full_like(a, [30, 90, 270])"
   ]
  },
  {
   "cell_type": "markdown",
   "metadata": {},
   "source": [
    "## Type Casting\n",
    "\n",
    "The *astype* method can be used to change (if possible) the underlying type of an ndarray"
   ]
  },
  {
   "cell_type": "code",
   "execution_count": 24,
   "metadata": {},
   "outputs": [
    {
     "data": {
      "text/plain": [
       "array([['4', '4', '4'],\n",
       "       ['4', '4', '4'],\n",
       "       ['4', '4', '4']], dtype='<U11')"
      ]
     },
     "execution_count": 24,
     "metadata": {},
     "output_type": "execute_result"
    }
   ],
   "source": [
    "# create a 3 x 3 ndarray of type int32 and change the underlying type to unicode\n",
    "np.full((3, 3), 4, dtype='int32').astype(np.unicode_)"
   ]
  },
  {
   "cell_type": "code",
   "execution_count": 25,
   "metadata": {},
   "outputs": [
    {
     "name": "stdout",
     "output_type": "stream",
     "text": [
      "float32\n",
      "arr1:  [[0.19808379 0.19595602 0.9845133 ]\n",
      " [0.35863563 0.43376517 0.3693019 ]\n",
      " [0.6041211  0.13783641 0.549505  ]]\n"
     ]
    },
    {
     "data": {
      "text/plain": [
       "array([[0, 0, 0],\n",
       "       [0, 0, 0],\n",
       "       [0, 0, 0]], dtype=int32)"
      ]
     },
     "execution_count": 25,
     "metadata": {},
     "output_type": "execute_result"
    }
   ],
   "source": [
    "# create an random 3 x 3 ndarray of float32\n",
    "\n",
    "arr1 = np.random.random((3, 3)).astype('float32')\n",
    "print(arr1.dtype)\n",
    "print('arr1: ', arr1)\n",
    "\n",
    "# cast the result to an int type\n",
    "arr1.astype('int32') "
   ]
  },
  {
   "cell_type": "markdown",
   "metadata": {},
   "source": [
    "---\n"
   ]
  },
  {
   "cell_type": "markdown",
   "metadata": {},
   "source": [
    "# Arithmetic with ndarrays\n",
    "\n",
    "Arithmetic operations are performed on ndarrays of equal size without writing a for loop. This is known as **batch processing** or **vectorization**\n",
    "\n",
    "The arithmetic operation is applied to each element of the array OR element-wise operation IF two or more arrays are supplied"
   ]
  },
  {
   "cell_type": "code",
   "execution_count": 26,
   "metadata": {},
   "outputs": [],
   "source": [
    "# array\n",
    "# arange\n",
    "# ones, ones_like\n",
    "# zeros, zeros_like\n",
    "# linspace\n",
    "# astype\n",
    "# full, full_like"
   ]
  },
  {
   "cell_type": "code",
   "execution_count": 27,
   "metadata": {},
   "outputs": [
    {
     "data": {
      "text/plain": [
       "array([[1., 2., 3.],\n",
       "       [4., 5., 6.]])"
      ]
     },
     "execution_count": 27,
     "metadata": {},
     "output_type": "execute_result"
    }
   ],
   "source": [
    "arr1 = np.asarray([[1, 2, 3], [4, 5, 6]], dtype='float64')\n",
    "arr1"
   ]
  },
  {
   "cell_type": "code",
   "execution_count": 28,
   "metadata": {},
   "outputs": [
    {
     "data": {
      "text/plain": [
       "array([[ 1,  0,  3],\n",
       "       [-5,  4,  1]])"
      ]
     },
     "execution_count": 28,
     "metadata": {},
     "output_type": "execute_result"
    }
   ],
   "source": [
    "arr2 = np.asarray([[1, 0, 3], [-5, 4, 1]])\n",
    "arr2"
   ]
  },
  {
   "cell_type": "code",
   "execution_count": 29,
   "metadata": {},
   "outputs": [
    {
     "name": "stderr",
     "output_type": "stream",
     "text": [
      "/tmp/ipykernel_11367/456473153.py:1: RuntimeWarning: divide by zero encountered in divide\n",
      "  (1/ arr2) ** 3\n"
     ]
    },
    {
     "data": {
      "text/plain": [
       "array([[ 1.        ,         inf,  0.03703704],\n",
       "       [-0.008     ,  0.015625  ,  1.        ]])"
      ]
     },
     "execution_count": 29,
     "metadata": {},
     "output_type": "execute_result"
    }
   ],
   "source": [
    "(1/ arr2) ** 3\n"
   ]
  },
  {
   "cell_type": "markdown",
   "metadata": {},
   "source": [
    "# Broadcasting\n",
    "\n",
    "In vectorization, the arrays must have the same size (shape). In broadcasting however, the arrays can have different size.\n",
    "\n",
    "\n",
    "Broadcasting Operations\n",
    "\n",
    "- multiplication of an ndarray with a scalar value\n",
    "\n",
    "\n",
    "---\n",
    "---"
   ]
  },
  {
   "cell_type": "markdown",
   "metadata": {},
   "source": [
    "# Slicing and Indexing an Ndarray\n",
    "\n"
   ]
  },
  {
   "cell_type": "code",
   "execution_count": 30,
   "metadata": {},
   "outputs": [
    {
     "data": {
      "text/plain": [
       "array([ 0,  1,  2,  3,  4,  5,  6,  7,  8,  9, 10])"
      ]
     },
     "execution_count": 30,
     "metadata": {},
     "output_type": "execute_result"
    }
   ],
   "source": [
    "# create an ndarray with element 1 - 10\n",
    "\n",
    "arr = np.arange(11)\n",
    "arr"
   ]
  },
  {
   "cell_type": "code",
   "execution_count": 31,
   "metadata": {},
   "outputs": [
    {
     "name": "stdout",
     "output_type": "stream",
     "text": [
      "4\n",
      "[1 3 5]\n",
      "[3 4 5 6 7 8 9]\n"
     ]
    }
   ],
   "source": [
    "# select the 5th element\n",
    "print(arr[4])\n",
    "\n",
    "# select the 2nd, 4th, and 6th element\n",
    "print(arr[1:7:2])\n",
    "\n",
    "# select the 4th to 9th element\n",
    "print(arr[3:10])"
   ]
  },
  {
   "cell_type": "code",
   "execution_count": 32,
   "metadata": {},
   "outputs": [
    {
     "data": {
      "text/plain": [
       "array([ 0,  1,  2,  3,  4,  5,  6,  7,  8,  9, 10])"
      ]
     },
     "execution_count": 32,
     "metadata": {},
     "output_type": "execute_result"
    }
   ],
   "source": [
    "# replacing through broadcasting\n",
    "arr"
   ]
  },
  {
   "cell_type": "code",
   "execution_count": 33,
   "metadata": {},
   "outputs": [
    {
     "data": {
      "text/plain": [
       "array([ 0,  1,  2,  3, 12, 12, 12, 12, 12,  9, 10])"
      ]
     },
     "execution_count": 33,
     "metadata": {},
     "output_type": "execute_result"
    }
   ],
   "source": [
    "arr[4:9] = 12\n",
    "arr"
   ]
  },
  {
   "cell_type": "markdown",
   "metadata": {},
   "source": [
    "> ### Any modification on slices will be reflected on the source array, because slices are views on the source array\n",
    "\n",
    "The result of slicing an ndarray is a view on the source array and not a copy of data from the source array"
   ]
  },
  {
   "cell_type": "code",
   "execution_count": 34,
   "metadata": {},
   "outputs": [
    {
     "data": {
      "text/plain": [
       "array([ 0,  1,  2,  3, 12, 12, 12, 12, 12,  9, 10])"
      ]
     },
     "execution_count": 34,
     "metadata": {},
     "output_type": "execute_result"
    }
   ],
   "source": [
    "arr"
   ]
  },
  {
   "cell_type": "code",
   "execution_count": 35,
   "metadata": {},
   "outputs": [
    {
     "name": "stdout",
     "output_type": "stream",
     "text": [
      "slice [12 12 12 12 12  9]\n",
      "modified slice:  [101 101 101 101 101 101]\n",
      "source ndarray:  [  0   1   2   3 101 101 101 101 101 101  10]\n",
      "\n",
      "\n",
      "slice copied [  1   2   3 101 101]\n",
      "modified copied slice [230 230 230 230 230]\n",
      "source:  [  0   1   2   3 101 101 101 101 101 101  10]\n"
     ]
    }
   ],
   "source": [
    "# create a slice of 4th to 9th element\n",
    "arr_slice = arr[4:10]\n",
    "print('slice', arr_slice)\n",
    "\n",
    "# modify all the element in the slice to 101\n",
    "arr_slice[:] = 101\n",
    "print('modified slice: ', arr_slice)\n",
    "\n",
    "# we notice immediately that the source ndarray is modified simultaneously\n",
    "print('source ndarray: ', arr)\n",
    "\n",
    "print(\"\")\n",
    "print(\"\")\n",
    "# copy a slice which upon modification will not reflect on the source\n",
    "arr_slice_copied = arr[1:6].copy()\n",
    "print('slice copied', arr_slice_copied)\n",
    "\n",
    "# modify the copied slice\n",
    "arr_slice_copied[:] = 230\n",
    "print('modified copied slice', arr_slice_copied)\n",
    "\n",
    "# check the source that it is not modified\n",
    "print('source: ', arr)"
   ]
  },
  {
   "cell_type": "markdown",
   "metadata": {},
   "source": [
    "# Slicing and Indexing in Multidimensional Arrays\n",
    "\n",
    "In >= 2 ndarrays, when indexed, output a lower dimension array"
   ]
  },
  {
   "cell_type": "code",
   "execution_count": 36,
   "metadata": {},
   "outputs": [
    {
     "name": "stdout",
     "output_type": "stream",
     "text": [
      "source ndarray: \n",
      "[[1 2 3]\n",
      " [4 5 6]\n",
      " [7 8 9]]\n"
     ]
    }
   ],
   "source": [
    "arr = np.asarray([[1, 2, 3], [4, 5, 6], [7, 8, 9]])\n",
    "print('source ndarray: '), \n",
    "print(arr)"
   ]
  },
  {
   "cell_type": "code",
   "execution_count": 37,
   "metadata": {},
   "outputs": [
    {
     "data": {
      "text/plain": [
       "array([[1, 2, 3],\n",
       "       [4, 5, 6],\n",
       "       [7, 8, 9]])"
      ]
     },
     "execution_count": 37,
     "metadata": {},
     "output_type": "execute_result"
    }
   ],
   "source": [
    "# create a slice from the \n",
    "arr"
   ]
  },
  {
   "cell_type": "code",
   "execution_count": 38,
   "metadata": {},
   "outputs": [
    {
     "data": {
      "text/plain": [
       "array([3, 6, 9])"
      ]
     },
     "execution_count": 38,
     "metadata": {},
     "output_type": "execute_result"
    }
   ],
   "source": [
    "arr[0:3,2]"
   ]
  },
  {
   "cell_type": "markdown",
   "metadata": {},
   "source": [
    "## Indexing using a comma seperated value for >= 2 ndarray\n",
    "\n",
    "The order of indexing is always from *Outside* --> *Inside*"
   ]
  },
  {
   "cell_type": "code",
   "execution_count": 39,
   "metadata": {},
   "outputs": [
    {
     "data": {
      "text/plain": [
       "array([[1, 2, 3],\n",
       "       [4, 5, 6],\n",
       "       [7, 8, 9]])"
      ]
     },
     "execution_count": 39,
     "metadata": {},
     "output_type": "execute_result"
    }
   ],
   "source": [
    "arr[1] = [4, 5, 6]\n",
    "arr"
   ]
  },
  {
   "cell_type": "code",
   "execution_count": 40,
   "metadata": {},
   "outputs": [
    {
     "data": {
      "text/plain": [
       "array([3, 6, 9])"
      ]
     },
     "execution_count": 40,
     "metadata": {},
     "output_type": "execute_result"
    }
   ],
   "source": [
    "# select all the element in the third column\n",
    "arr[:, 2]"
   ]
  },
  {
   "cell_type": "code",
   "execution_count": 41,
   "metadata": {},
   "outputs": [
    {
     "name": "stdout",
     "output_type": "stream",
     "text": [
      "dimension:  3\n",
      "shape:  (2, 3, 4)\n",
      "\n"
     ]
    },
    {
     "data": {
      "text/plain": [
       "array([[[  1,   2,   3,   4],\n",
       "        [  4,   5,   6,  40],\n",
       "        [ 10,  10,  10,  10]],\n",
       "\n",
       "       [[  2,   2,   2,   2],\n",
       "        [  7,   8,   9, 160],\n",
       "        [ 10,  11,  12, 524]]])"
      ]
     },
     "execution_count": 41,
     "metadata": {},
     "output_type": "execute_result"
    }
   ],
   "source": [
    "# working with three dimensional data\n",
    "\n",
    "arr = np.asarray([ [[1, 2, 3, 4], [4, 5, 6, 40], [10, 10, 10, 10]] , [[2, 2, 2, 2], [7, 8, 9, 160], [10, 11, 12, 524]] ])\n",
    "\n",
    "print('dimension: ', arr.ndim)\n",
    "print('shape: ', arr.shape)\n",
    "\n",
    "print(\"\")\n",
    "arr"
   ]
  },
  {
   "cell_type": "code",
   "execution_count": 42,
   "metadata": {},
   "outputs": [
    {
     "data": {
      "text/plain": [
       "array([[1, 2, 3],\n",
       "       [2, 2, 2]])"
      ]
     },
     "execution_count": 42,
     "metadata": {},
     "output_type": "execute_result"
    }
   ],
   "source": [
    "# select all the element in the \n",
    "arr[:, 0, :3]"
   ]
  },
  {
   "cell_type": "markdown",
   "metadata": {},
   "source": [
    "---\n",
    "\n",
    "# Boolean Indexing\n",
    "\n"
   ]
  },
  {
   "cell_type": "code",
   "execution_count": 43,
   "metadata": {},
   "outputs": [
    {
     "data": {
      "text/plain": [
       "array([[[-0.2242805 , -2.12635727,  0.50326203, -1.51650285],\n",
       "        [-2.54103551,  0.50634617, -0.20153036, -2.13595148],\n",
       "        [ 0.10848961,  0.04376301,  0.74941708,  0.86755243]],\n",
       "\n",
       "       [[ 1.52768714, -0.55695967, -0.46622903,  1.14811254],\n",
       "        [ 0.16455652,  1.15498917,  0.62591617,  0.58339692],\n",
       "        [ 1.58923747, -0.9855792 , -1.22636359, -0.68643483]],\n",
       "\n",
       "       [[-1.84001211, -1.21973283, -0.38504854,  1.36676267],\n",
       "        [-0.91000847,  0.31146525, -0.7776592 ,  0.01688607],\n",
       "        [ 0.64079284, -1.23410598,  0.70472509, -0.28858216]],\n",
       "\n",
       "       [[ 0.29673089,  0.69962391, -0.21481433,  0.62649599],\n",
       "        [-0.94046523, -0.72286074, -0.27285462, -1.45875529],\n",
       "        [-1.20532702,  1.6224497 ,  1.7985424 , -0.92536235]],\n",
       "\n",
       "       [[ 0.6806849 ,  0.47515984,  0.2873606 , -0.35698876],\n",
       "        [-0.25579566, -1.37360623, -0.15634725, -0.24855451],\n",
       "        [ 0.84749483,  0.03941111, -1.11665033, -0.13171845]],\n",
       "\n",
       "       [[-0.93638173,  0.23174568,  0.72374006,  0.76562863],\n",
       "        [-0.2291883 , -0.65606724, -0.46757395, -0.33082044],\n",
       "        [-0.20994666,  0.39255502,  0.5908284 ,  0.12876104]],\n",
       "\n",
       "       [[-0.87637069, -0.04134075,  0.6509569 ,  0.24025026],\n",
       "        [ 0.08525293, -0.7934761 , -0.1016421 ,  0.36671551],\n",
       "        [ 2.07077866,  1.09194261, -0.95195404, -0.21790155]]])"
      ]
     },
     "execution_count": 43,
     "metadata": {},
     "output_type": "execute_result"
    }
   ],
   "source": [
    "# names = np.array(['Bob', 'Joe', 'Will', 'Bob', 'Will', 'Joe', 'Joe'])\n",
    "data = np.random.randn(7, 3, 4)\n",
    "data"
   ]
  },
  {
   "cell_type": "code",
   "execution_count": 44,
   "metadata": {},
   "outputs": [
    {
     "data": {
      "text/plain": [
       "array([-0.2242805 , -1.84001211, -0.93638173, -0.87637069])"
      ]
     },
     "execution_count": 44,
     "metadata": {},
     "output_type": "execute_result"
    }
   ],
   "source": [
    "# select only columns for which the first element of its rows is less than 0\n",
    "\n",
    "# first we create the truthy value\n",
    "cond = data[:, 0, 0] < 0\n",
    "\n",
    "# select columns, where the first elements of the innermost rows is less than 0\n",
    "data[cond, :, 0][:, 0]\n"
   ]
  },
  {
   "cell_type": "code",
   "execution_count": 45,
   "metadata": {},
   "outputs": [
    {
     "data": {
      "text/plain": [
       "array([[ True,  True, False,  True],\n",
       "       [False,  True,  True, False],\n",
       "       [ True,  True,  True, False],\n",
       "       [False, False,  True, False],\n",
       "       [False, False, False,  True],\n",
       "       [ True, False, False, False],\n",
       "       [ True,  True, False, False]])"
      ]
     },
     "execution_count": 45,
     "metadata": {},
     "output_type": "execute_result"
    }
   ],
   "source": [
    "# select only inner row elements less than 0, for each element of the 3d-array \n",
    "\n",
    "# Note: each element of the (7, 3, 4) array is a 2d array of (3, 4) rows and column\n",
    "\n",
    "# So, we want to select each element of the (7, 3, 4) array ==> this will  result in seven; 7 different (3, 4) arrays,\n",
    "\n",
    "# Then we select the first rows of the (3, 4) resulting arrays ==> this will result in seven; 7 different, (1, 4) array.\n",
    "\n",
    "# then we check that the inner elements of each resulting rows has a value less than 0\n",
    "\n",
    "cond2 = data[:, 0] < 0\n",
    "cond2"
   ]
  },
  {
   "cell_type": "code",
   "execution_count": 46,
   "metadata": {},
   "outputs": [
    {
     "name": "stdout",
     "output_type": "stream",
     "text": [
      "[-0.2242805  -2.12635727 -1.51650285]\n",
      "\n",
      "[-0.55695967 -0.46622903]\n",
      "\n",
      "[-1.84001211 -1.21973283 -0.38504854]\n",
      "\n",
      "[-0.21481433]\n",
      "\n",
      "[-0.35698876]\n",
      "\n",
      "[-0.93638173]\n",
      "\n",
      "[-0.87637069 -0.04134075]\n",
      "\n"
     ]
    },
    {
     "data": {
      "text/plain": [
       "array([-0.2242805 , -2.12635727, -1.51650285, -0.55695967, -0.46622903,\n",
       "       -1.84001211, -1.21973283, -0.38504854, -0.21481433, -0.35698876,\n",
       "       -0.93638173, -0.87637069, -0.04134075])"
      ]
     },
     "execution_count": 46,
     "metadata": {},
     "output_type": "execute_result"
    }
   ],
   "source": [
    "# this method here is the same as the one below\n",
    "for i, cond in enumerate(cond2):\n",
    "  print(data[:, 0, cond][i])\n",
    "  print()\n",
    "  \n",
    "# second method\n",
    "data[:, 0][cond2]\n"
   ]
  },
  {
   "cell_type": "markdown",
   "metadata": {},
   "source": [
    "## !NOTE\n",
    "\n",
    "When applying a conditional indexing, the dimension of the resulting conditional must match the slice, it is going to be applied to\n",
    "\n",
    "--- "
   ]
  },
  {
   "cell_type": "code",
   "execution_count": 47,
   "metadata": {},
   "outputs": [
    {
     "data": {
      "text/plain": [
       "array([[5.09964089e-310, 0.00000000e+000, 2.41907520e-312,\n",
       "        2.14321575e-312],\n",
       "       [2.46151512e-312, 2.31297541e-312, 2.35541533e-312,\n",
       "        2.05833592e-312],\n",
       "       [2.22809558e-312, 2.56761491e-312, 2.48273508e-312,\n",
       "        2.05833592e-312],\n",
       "       [2.05833592e-312, 2.29175545e-312, 2.07955588e-312,\n",
       "        2.14321575e-312]])"
      ]
     },
     "execution_count": 47,
     "metadata": {},
     "output_type": "execute_result"
    }
   ],
   "source": [
    "arr = np.empty((4, 4))\n",
    "arr"
   ]
  },
  {
   "cell_type": "code",
   "execution_count": 48,
   "metadata": {},
   "outputs": [
    {
     "data": {
      "text/plain": [
       "array([5.09964089e-310, 2.31297541e-312, 2.48273508e-312, 2.14321575e-312])"
      ]
     },
     "execution_count": 48,
     "metadata": {},
     "output_type": "execute_result"
    }
   ],
   "source": [
    "arr[[0, 1, 2, 3], [0, 1, 2, 3]]"
   ]
  },
  {
   "cell_type": "code",
   "execution_count": 49,
   "metadata": {},
   "outputs": [
    {
     "data": {
      "text/plain": [
       "array([[[ 0,  1,  2,  3,  4],\n",
       "        [ 5,  6,  7,  8,  9],\n",
       "        [10, 11, 12, 13, 14]],\n",
       "\n",
       "       [[15, 16, 17, 18, 19],\n",
       "        [20, 21, 22, 23, 24],\n",
       "        [25, 26, 27, 28, 29]],\n",
       "\n",
       "       [[30, 31, 32, 33, 34],\n",
       "        [35, 36, 37, 38, 39],\n",
       "        [40, 41, 42, 43, 44]]])"
      ]
     },
     "execution_count": 49,
     "metadata": {},
     "output_type": "execute_result"
    }
   ],
   "source": [
    "arr = np.arange(45).reshape(3, 3, 5)\n",
    "arr"
   ]
  },
  {
   "cell_type": "markdown",
   "metadata": {},
   "source": [
    "# Fancy Indexing\n",
    "\n",
    "This allows the selection of the rows of an ndarray, in a specific order, by passing a list with the index of the rows to be selected.\n",
    "\n",
    "> However this indexing does not apply *in the same manner* to the next inner indexing\n",
    "\n",
    "If mulltiple index are passed in, then it would select a one-dimensional array of elements corresponding to each tuple of indices"
   ]
  },
  {
   "cell_type": "code",
   "execution_count": 50,
   "metadata": {},
   "outputs": [
    {
     "data": {
      "text/plain": [
       "array([ 9, 33, 26])"
      ]
     },
     "execution_count": 50,
     "metadata": {},
     "output_type": "execute_result"
    }
   ],
   "source": [
    "# one can select the first and last element of the (3, 3, 5) ndarray ==> two (2, 3, 5) ndarray\n",
    "\n",
    "# note the tuple of indices are: (0, 1, 4), (2, 0, 3) ==> \n",
    "# \tselect the first(0) outer row, second(1) inner row, and 5th(4)  element\n",
    "# \tselect the third(2) outer row, first(0) inner row, and 4th(3)  element\n",
    "# \tselect the second(1) outer row, third(2) inner row, and 2nd(1)  element\n",
    "# \t\n",
    "arr[[0, 2, 1], [1, 0, 2], [4, 3, 1]]"
   ]
  },
  {
   "cell_type": "code",
   "execution_count": 51,
   "metadata": {},
   "outputs": [
    {
     "data": {
      "text/plain": [
       "array([[ 0,  1,  2,  3,  4],\n",
       "       [ 5,  6,  7,  8,  9],\n",
       "       [10, 11, 12, 13, 14],\n",
       "       [15, 16, 17, 18, 19]])"
      ]
     },
     "execution_count": 51,
     "metadata": {},
     "output_type": "execute_result"
    }
   ],
   "source": [
    "# with the 2d-array\n",
    "arr = np.arange(20).reshape(4, 5)\n",
    "arr"
   ]
  },
  {
   "cell_type": "code",
   "execution_count": 52,
   "metadata": {},
   "outputs": [
    {
     "data": {
      "text/plain": [
       "array([ 1, 11,  6])"
      ]
     },
     "execution_count": 52,
     "metadata": {},
     "output_type": "execute_result"
    }
   ],
   "source": [
    "# select the first(0), and third(2) outer row\n",
    "# then select their second(1) and fifth(4) element respectively.\n",
    "arr[[0,2, 1], [1]]"
   ]
  },
  {
   "cell_type": "markdown",
   "metadata": {},
   "source": [
    "> ### In general when using fancy indexing, the multiple array index passed must either have the same length OR the second index, have a single element; in which case, the array is expanded, to the same length as its first array index with its containing element\n",
    "\n",
    "> ### The length of the first array index, determines the length of the other array indices\n",
    "\n",
    "> ### If the array is k-dimensional, then a maximum of [k] multiple indices can be passed in. Also, the kth array index will index into individual element of the preceeding [k-1] resulting array"
   ]
  },
  {
   "cell_type": "code",
   "execution_count": 53,
   "metadata": {},
   "outputs": [
    {
     "data": {
      "text/plain": [
       "array([[[[  0,   1,   2,   3,   4],\n",
       "         [  5,   6,   7,   8,   9],\n",
       "         [ 10,  11,  12,  13,  14],\n",
       "         [ 15,  16,  17,  18,  19]],\n",
       "\n",
       "        [[ 20,  21,  22,  23,  24],\n",
       "         [ 25,  26,  27,  28,  29],\n",
       "         [ 30,  31,  32,  33,  34],\n",
       "         [ 35,  36,  37,  38,  39]],\n",
       "\n",
       "        [[ 40,  41,  42,  43,  44],\n",
       "         [ 45,  46,  47,  48,  49],\n",
       "         [ 50,  51,  52,  53,  54],\n",
       "         [ 55,  56,  57,  58,  59]]],\n",
       "\n",
       "\n",
       "       [[[ 60,  61,  62,  63,  64],\n",
       "         [ 65,  66,  67,  68,  69],\n",
       "         [ 70,  71,  72,  73,  74],\n",
       "         [ 75,  76,  77,  78,  79]],\n",
       "\n",
       "        [[ 80,  81,  82,  83,  84],\n",
       "         [ 85,  86,  87,  88,  89],\n",
       "         [ 90,  91,  92,  93,  94],\n",
       "         [ 95,  96,  97,  98,  99]],\n",
       "\n",
       "        [[100, 101, 102, 103, 104],\n",
       "         [105, 106, 107, 108, 109],\n",
       "         [110, 111, 112, 113, 114],\n",
       "         [115, 116, 117, 118, 119]]],\n",
       "\n",
       "\n",
       "       [[[120, 121, 122, 123, 124],\n",
       "         [125, 126, 127, 128, 129],\n",
       "         [130, 131, 132, 133, 134],\n",
       "         [135, 136, 137, 138, 139]],\n",
       "\n",
       "        [[140, 141, 142, 143, 144],\n",
       "         [145, 146, 147, 148, 149],\n",
       "         [150, 151, 152, 153, 154],\n",
       "         [155, 156, 157, 158, 159]],\n",
       "\n",
       "        [[160, 161, 162, 163, 164],\n",
       "         [165, 166, 167, 168, 169],\n",
       "         [170, 171, 172, 173, 174],\n",
       "         [175, 176, 177, 178, 179]]]])"
      ]
     },
     "execution_count": 53,
     "metadata": {},
     "output_type": "execute_result"
    }
   ],
   "source": [
    "# 4d-array\n",
    "\n",
    "arr = np.arange(180).reshape(3, 3, 4, 5)\n",
    "arr"
   ]
  },
  {
   "cell_type": "code",
   "execution_count": 54,
   "metadata": {},
   "outputs": [
    {
     "data": {
      "text/plain": [
       "array([[ 28, 119]])"
      ]
     },
     "execution_count": 54,
     "metadata": {},
     "output_type": "execute_result"
    }
   ],
   "source": [
    "# 4 multiple array indices are needed to select an element in the array\n",
    "\n",
    "arr[[0, 1], [1, 2], [1, 3], [[3, 4]]]"
   ]
  },
  {
   "cell_type": "markdown",
   "metadata": {},
   "source": [
    "---\n",
    "\n",
    "# Transposing Arrays and Swapping Axes\n",
    "\n",
    "This returns a view of the underlying data without copying the source array"
   ]
  },
  {
   "cell_type": "code",
   "execution_count": 55,
   "metadata": {},
   "outputs": [
    {
     "data": {
      "text/plain": [
       "array([[ 0,  1,  2,  3,  4],\n",
       "       [ 5,  6,  7,  8,  9],\n",
       "       [10, 11, 12, 13, 14]])"
      ]
     },
     "execution_count": 55,
     "metadata": {},
     "output_type": "execute_result"
    }
   ],
   "source": [
    "# create a 3, 5 array\n",
    "arr = np.arange(15).reshape((3, 5))\n",
    "\n",
    "arr"
   ]
  },
  {
   "cell_type": "code",
   "execution_count": 56,
   "metadata": {},
   "outputs": [
    {
     "data": {
      "text/plain": [
       "array([[ 0,  5, 10],\n",
       "       [ 1,  6, 11],\n",
       "       [ 2,  7, 12],\n",
       "       [ 3,  8, 13],\n",
       "       [ 4,  9, 14]])"
      ]
     },
     "execution_count": 56,
     "metadata": {},
     "output_type": "execute_result"
    }
   ],
   "source": [
    "# transpose it to a (5, 3) array\n",
    "\n",
    "arr_T = arr.T # or arr.transpose()\n",
    "\n",
    "arr_T"
   ]
  },
  {
   "cell_type": "code",
   "execution_count": 57,
   "metadata": {},
   "outputs": [
    {
     "name": "stdout",
     "output_type": "stream",
     "text": [
      "modified arr_T\n",
      "[[   0    5   10]\n",
      " [   1    6   11]\n",
      " [1000 1000 1000]\n",
      " [   3    8   13]\n",
      " [   4    9   14]]\n",
      "source array:\n",
      "[[   0    1 1000    3    4]\n",
      " [   5    6 1000    8    9]\n",
      " [  10   11 1000   13   14]]\n"
     ]
    }
   ],
   "source": [
    "# we modify the transposed array and confirm that the source array is also modified\n",
    "# thus indicating that the transposed array is a view\n",
    "\n",
    "arr_T[2] = 1000\n",
    "\n",
    "print('modified arr_T')\n",
    "print(arr_T)\n",
    "\n",
    "print(\"source array:\")\n",
    "print(arr)"
   ]
  },
  {
   "cell_type": "markdown",
   "metadata": {},
   "source": [
    "# Matrix multiplication and the Transpose of an ndarray\n",
    "\n",
    "> To mutiply two matrix, the num of columns of the first must match the num of rows of the second. Hence to multiply a non-square matrix (m x n; where m!=n) by itself, then we have to multiply it with a transpose of itself\n",
    "\n",
    "Note that this is otherwise \n",
    "> [!NOTE]\n",
    "> Multiplication of two matrix, not element wise, is done using the [dot] method\n",
    "\n"
   ]
  },
  {
   "cell_type": "code",
   "execution_count": 58,
   "metadata": {},
   "outputs": [
    {
     "data": {
      "text/plain": [
       "array([[-0.45295072,  0.63677929, -0.41571569,  0.60105865,  0.17548674],\n",
       "       [ 0.47855948,  0.65010579, -2.98946281, -0.67135629, -0.80892608],\n",
       "       [-1.87287102,  0.17837524,  0.97885428, -1.78882037, -0.45768712],\n",
       "       [-1.57462177, -1.27847301, -0.77104735,  0.10054869,  0.73829486],\n",
       "       [ 1.60182857,  2.4600325 ,  0.21153221,  0.41392851, -0.61960728],\n",
       "       [ 0.07985715, -0.92491184,  0.68936563,  1.09676905,  0.0754714 ],\n",
       "       [-1.06302903, -0.62896788, -0.95987518,  1.33045702, -0.82574065],\n",
       "       [ 0.10250464, -1.40898314, -1.56495416,  1.12866524,  1.08572623],\n",
       "       [ 1.99301744, -1.50349339, -0.57538926,  1.40589433, -0.33860732],\n",
       "       [ 0.15586126,  1.23695884,  0.36149796, -0.27696213, -0.71786774]])"
      ]
     },
     "execution_count": 58,
     "metadata": {},
     "output_type": "execute_result"
    }
   ],
   "source": [
    "arr = np.random.randn(10, 5)\n",
    "arr"
   ]
  },
  {
   "cell_type": "code",
   "execution_count": 59,
   "metadata": {},
   "outputs": [
    {
     "data": {
      "text/plain": [
       "array([[14.13044419,  3.28890098, -1.69806498,  4.8091804 , -1.55608982],\n",
       "       [ 3.28890098, 15.57305182,  2.95593079, -5.38090669, -4.42301433],\n",
       "       [-1.69806498,  2.95593079, 15.01454343, -3.18020279,  0.27781252],\n",
       "       [ 4.8091804 , -5.38090669, -3.18020279, 10.49346625,  1.21739671],\n",
       "       [-1.55608982, -4.42301433,  0.27781252,  1.21739671,  4.31996099]])"
      ]
     },
     "execution_count": 59,
     "metadata": {},
     "output_type": "execute_result"
    }
   ],
   "source": [
    "arr_mul = np.dot(arr.T, arr)\n",
    "arr_mul"
   ]
  },
  {
   "cell_type": "markdown",
   "metadata": {},
   "source": [
    "### Transpose and Higher Dimensional Array\n",
    "\n",
    "This is similar to re-ordering the axes of the higher dimensional array"
   ]
  },
  {
   "cell_type": "code",
   "execution_count": 60,
   "metadata": {},
   "outputs": [
    {
     "data": {
      "text/plain": [
       "array([[[ 0,  1,  2,  3],\n",
       "        [ 4,  5,  6,  7]],\n",
       "\n",
       "       [[ 8,  9, 10, 11],\n",
       "        [12, 13, 14, 15]]])"
      ]
     },
     "execution_count": 60,
     "metadata": {},
     "output_type": "execute_result"
    }
   ],
   "source": [
    "arr = np.arange(16).reshape((2, 2, 4))\n",
    "\n",
    "arr"
   ]
  },
  {
   "cell_type": "code",
   "execution_count": 61,
   "metadata": {},
   "outputs": [
    {
     "data": {
      "text/plain": [
       "array([[[ 0,  1,  2,  3],\n",
       "        [ 8,  9, 10, 11]],\n",
       "\n",
       "       [[ 4,  5,  6,  7],\n",
       "        [12, 13, 14, 15]]])"
      ]
     },
     "execution_count": 61,
     "metadata": {},
     "output_type": "execute_result"
    }
   ],
   "source": [
    "# make the second(1) axis first, first(0) axis second, and the third axis unchannged \n",
    "arr.transpose((1, 0, 2))"
   ]
  },
  {
   "cell_type": "markdown",
   "metadata": {},
   "source": [
    "---\n",
    "# Array Functions\n",
    "\n",
    "A universal array function (ufunc), is any function that performs element-wise operations on the ndarrays, and returns a scalar or array of scalar values as its result\n",
    "\n",
    "- Unary Unfunc\n",
    "\t- sqrt, exp\n",
    "\n",
    "- binary ufuncs\n",
    "\t- add,\n",
    "\n",
    "- n-aryy ufuncs"
   ]
  },
  {
   "cell_type": "code",
   "execution_count": 62,
   "metadata": {},
   "outputs": [
    {
     "data": {
      "text/plain": [
       "array([ 4,  5,  6,  7,  8,  9, 10, 11, 12, 13, 14, 15, 16, 17, 18, 19])"
      ]
     },
     "execution_count": 62,
     "metadata": {},
     "output_type": "execute_result"
    }
   ],
   "source": [
    "arr1d = np.arange(4, 20)\n",
    "arr1d"
   ]
  },
  {
   "cell_type": "code",
   "execution_count": 63,
   "metadata": {},
   "outputs": [
    {
     "data": {
      "text/plain": [
       "array([2.        , 2.23606798, 2.44948974, 2.64575131, 2.82842712,\n",
       "       3.        , 3.16227766, 3.31662479, 3.46410162, 3.60555128,\n",
       "       3.74165739, 3.87298335, 4.        , 4.12310563, 4.24264069,\n",
       "       4.35889894])"
      ]
     },
     "execution_count": 63,
     "metadata": {},
     "output_type": "execute_result"
    }
   ],
   "source": [
    "# square root of element\n",
    "np.sqrt(arr1d)"
   ]
  },
  {
   "cell_type": "code",
   "execution_count": 64,
   "metadata": {},
   "outputs": [
    {
     "data": {
      "text/plain": [
       "array([[ 0,  1,  2,  3],\n",
       "       [ 4,  5,  6,  7],\n",
       "       [ 8,  9, 10, 11],\n",
       "       [12, 13, 14, 15]])"
      ]
     },
     "execution_count": 64,
     "metadata": {},
     "output_type": "execute_result"
    }
   ],
   "source": [
    "arr2d = np.arange(16).reshape((4, 4))\n",
    "arr2d"
   ]
  },
  {
   "cell_type": "code",
   "execution_count": 65,
   "metadata": {},
   "outputs": [
    {
     "data": {
      "text/plain": [
       "array([[0.        , 1.        , 1.41421356, 1.73205081],\n",
       "       [2.        , 2.23606798, 2.44948974, 2.64575131],\n",
       "       [2.82842712, 3.        , 3.16227766, 3.31662479],\n",
       "       [3.46410162, 3.60555128, 3.74165739, 3.87298335]])"
      ]
     },
     "execution_count": 65,
     "metadata": {},
     "output_type": "execute_result"
    }
   ],
   "source": [
    "# square of the 2d elements \n",
    "\n",
    "np.sqrt(arr2d)"
   ]
  },
  {
   "cell_type": "code",
   "execution_count": 66,
   "metadata": {},
   "outputs": [
    {
     "name": "stdout",
     "output_type": "stream",
     "text": [
      "e^(each array element): \n"
     ]
    },
    {
     "data": {
      "text/plain": [
       "array([[1.00000000e+00, 2.71828183e+00, 7.38905610e+00, 2.00855369e+01],\n",
       "       [5.45981500e+01, 1.48413159e+02, 4.03428793e+02, 1.09663316e+03],\n",
       "       [2.98095799e+03, 8.10308393e+03, 2.20264658e+04, 5.98741417e+04],\n",
       "       [1.62754791e+05, 4.42413392e+05, 1.20260428e+06, 3.26901737e+06]])"
      ]
     },
     "execution_count": 66,
     "metadata": {},
     "output_type": "execute_result"
    }
   ],
   "source": [
    "# as exponential of e\n",
    "print(\"e^(each array element): \")\n",
    "np.exp(arr2d)\n"
   ]
  },
  {
   "cell_type": "code",
   "execution_count": 67,
   "metadata": {},
   "outputs": [
    {
     "data": {
      "text/plain": [
       "array([[ 0,  1,  2,  3],\n",
       "       [ 4,  5,  6,  7],\n",
       "       [ 8,  9, 10, 11],\n",
       "       [12, 13, 14, 15]])"
      ]
     },
     "execution_count": 67,
     "metadata": {},
     "output_type": "execute_result"
    }
   ],
   "source": [
    "arr2d"
   ]
  },
  {
   "cell_type": "code",
   "execution_count": 68,
   "metadata": {},
   "outputs": [
    {
     "data": {
      "text/plain": [
       "array([[ 2,  3,  4,  5],\n",
       "       [ 6,  7,  8,  9],\n",
       "       [10, 11, 12, 13],\n",
       "       [14, 15, 16, 17]])"
      ]
     },
     "execution_count": 68,
     "metadata": {},
     "output_type": "execute_result"
    }
   ],
   "source": [
    "# broadcasting\n",
    "arr2d + 2"
   ]
  },
  {
   "cell_type": "code",
   "execution_count": 69,
   "metadata": {},
   "outputs": [
    {
     "data": {
      "text/plain": [
       "array([[ 0,  2,  4,  6],\n",
       "       [ 8, 10, 12, 14],\n",
       "       [16, 18, 20, 22],\n",
       "       [24, 26, 28, 30]])"
      ]
     },
     "execution_count": 69,
     "metadata": {},
     "output_type": "execute_result"
    }
   ],
   "source": [
    "# vectorization\n",
    "arr2d + arr2d"
   ]
  },
  {
   "cell_type": "code",
   "execution_count": 70,
   "metadata": {},
   "outputs": [
    {
     "data": {
      "text/plain": [
       "array([[ 0,  2,  4,  6],\n",
       "       [ 8, 10, 12, 14],\n",
       "       [16, 18, 20, 22],\n",
       "       [24, 26, 28, 30]])"
      ]
     },
     "execution_count": 70,
     "metadata": {},
     "output_type": "execute_result"
    }
   ],
   "source": [
    "np.add(arr2d, arr2d)"
   ]
  },
  {
   "cell_type": "code",
   "execution_count": 71,
   "metadata": {},
   "outputs": [
    {
     "name": "stdout",
     "output_type": "stream",
     "text": [
      "[ 4  5  6  7  8  9 10 11 12 13 14 15 16 17 18 19]\n",
      "\n",
      "[[ 0  1  2  3]\n",
      " [ 4  5  6  7]\n",
      " [ 8  9 10 11]\n",
      " [12 13 14 15]]\n"
     ]
    }
   ],
   "source": [
    "print(arr1d)\n",
    "print()\n",
    "print(arr2d)"
   ]
  },
  {
   "cell_type": "code",
   "execution_count": 72,
   "metadata": {},
   "outputs": [
    {
     "data": {
      "text/plain": [
       "array([[ 4,  5,  6,  7],\n",
       "       [ 8,  9, 10, 11],\n",
       "       [12, 13, 14, 15],\n",
       "       [16, 17, 18, 19]])"
      ]
     },
     "execution_count": 72,
     "metadata": {},
     "output_type": "execute_result"
    }
   ],
   "source": [
    "arr1d_rshp = arr1d.reshape((4, 4))\n",
    "arr1d_rshp"
   ]
  },
  {
   "cell_type": "code",
   "execution_count": 73,
   "metadata": {},
   "outputs": [
    {
     "data": {
      "text/plain": [
       "array([[ 4,  5,  8, 12],\n",
       "       [ 8,  9, 10, 13],\n",
       "       [12, 13, 14, 15],\n",
       "       [16, 17, 18, 19]])"
      ]
     },
     "execution_count": 73,
     "metadata": {},
     "output_type": "execute_result"
    }
   ],
   "source": [
    "np.maximum(arr2d.T, arr1d_rshp)"
   ]
  },
  {
   "cell_type": "code",
   "execution_count": 74,
   "metadata": {},
   "outputs": [],
   "source": [
    "# modf array\n",
    "remainder, whole = np.modf(arr2d, arr1d_rshp.astype('float64'))"
   ]
  },
  {
   "cell_type": "code",
   "execution_count": 75,
   "metadata": {},
   "outputs": [
    {
     "data": {
      "text/plain": [
       "array([[0., 0., 0., 0.],\n",
       "       [0., 0., 0., 0.],\n",
       "       [0., 0., 0., 0.],\n",
       "       [0., 0., 0., 0.]])"
      ]
     },
     "execution_count": 75,
     "metadata": {},
     "output_type": "execute_result"
    }
   ],
   "source": [
    "remainder"
   ]
  },
  {
   "cell_type": "code",
   "execution_count": 76,
   "metadata": {},
   "outputs": [
    {
     "data": {
      "text/plain": [
       "array([[ 0.,  1.,  2.,  3.],\n",
       "       [ 4.,  5.,  6.,  7.],\n",
       "       [ 8.,  9., 10., 11.],\n",
       "       [12., 13., 14., 15.]])"
      ]
     },
     "execution_count": 76,
     "metadata": {},
     "output_type": "execute_result"
    }
   ],
   "source": [
    "whole"
   ]
  },
  {
   "cell_type": "markdown",
   "metadata": {},
   "source": [
    "## !NOTE\n",
    "\n",
    "> ufunc, can accept an optional argument that tells them where to  put the result of the computation, but the optional argument array must;\n",
    "\n",
    "-  be the same order as the first argument, \n",
    "-  have the same type as the result of the computation."
   ]
  },
  {
   "cell_type": "code",
   "execution_count": 77,
   "metadata": {},
   "outputs": [
    {
     "name": "stdout",
     "output_type": "stream",
     "text": [
      "True\n"
     ]
    }
   ],
   "source": [
    "# create two array of the same size\n",
    "arr1 = np.arange(1, 13)\n",
    "arr2 = np.arange(30 ,42).astype('float64')\n",
    "print(arr1.size == arr2.size)"
   ]
  },
  {
   "cell_type": "code",
   "execution_count": 78,
   "metadata": {},
   "outputs": [
    {
     "data": {
      "text/plain": [
       "array([ 1,  2,  3,  4,  5,  6,  7,  8,  9, 10, 11, 12])"
      ]
     },
     "execution_count": 78,
     "metadata": {},
     "output_type": "execute_result"
    }
   ],
   "source": [
    "arr1"
   ]
  },
  {
   "cell_type": "code",
   "execution_count": 79,
   "metadata": {},
   "outputs": [
    {
     "data": {
      "text/plain": [
       "array([30., 31., 32., 33., 34., 35., 36., 37., 38., 39., 40., 41.])"
      ]
     },
     "execution_count": 79,
     "metadata": {},
     "output_type": "execute_result"
    }
   ],
   "source": [
    "arr2"
   ]
  },
  {
   "cell_type": "code",
   "execution_count": 80,
   "metadata": {},
   "outputs": [
    {
     "data": {
      "text/plain": [
       "array([1.        , 1.41421356, 1.73205081, 2.        , 2.23606798,\n",
       "       2.44948974, 2.64575131, 2.82842712, 3.        , 3.16227766,\n",
       "       3.31662479, 3.46410162])"
      ]
     },
     "execution_count": 80,
     "metadata": {},
     "output_type": "execute_result"
    }
   ],
   "source": [
    "# take the sqrt of arr1 and store the result in arr2\n",
    "\n",
    "# because arr2 is not the same type as the result of taking the sqrt on arr1\n",
    "# we must change its type, so that it can store the result of the computation (float64)\n",
    "\n",
    "# the previous statement isn't totally true. I used the astype for the conversion, and it turns out that the method returns a copy and doesn't modify the array in-place\n",
    "# so i had to add the type from its initialisation for this to work\n",
    "np.sqrt(arr1, arr2)"
   ]
  },
  {
   "cell_type": "code",
   "execution_count": 81,
   "metadata": {},
   "outputs": [
    {
     "data": {
      "text/plain": [
       "array([1.        , 1.41421356, 1.73205081, 2.        , 2.23606798,\n",
       "       2.44948974, 2.64575131, 2.82842712, 3.        , 3.16227766,\n",
       "       3.31662479, 3.46410162])"
      ]
     },
     "execution_count": 81,
     "metadata": {},
     "output_type": "execute_result"
    }
   ],
   "source": [
    "# check the elements of arr2 and see that it has been modified\n",
    "arr2"
   ]
  },
  {
   "cell_type": "code",
   "execution_count": 82,
   "metadata": {},
   "outputs": [
    {
     "data": {
      "text/plain": [
       "array([ 1,  2,  3,  4,  5,  6,  7,  8,  9, 10, 11, 12])"
      ]
     },
     "execution_count": 82,
     "metadata": {},
     "output_type": "execute_result"
    }
   ],
   "source": [
    "# array remains the same\n",
    "arr1\n"
   ]
  },
  {
   "cell_type": "code",
   "execution_count": 83,
   "metadata": {},
   "outputs": [
    {
     "data": {
      "text/plain": [
       "array([1.        , 1.41421356, 1.73205081, 2.        , 2.23606798,\n",
       "       2.44948974, 2.64575131, 2.82842712, 3.        , 3.16227766,\n",
       "       3.31662479, 3.46410162])"
      ]
     },
     "execution_count": 83,
     "metadata": {},
     "output_type": "execute_result"
    }
   ],
   "source": [
    "# pass arr1 as the second argument\n",
    "\n",
    "# notice how we had to change the type of the array in memory\n",
    "arr1 = arr1.astype('float64')\n",
    "np.sqrt(arr1, arr1)"
   ]
  },
  {
   "cell_type": "code",
   "execution_count": 84,
   "metadata": {},
   "outputs": [
    {
     "data": {
      "text/plain": [
       "array([1.        , 1.41421356, 1.73205081, 2.        , 2.23606798,\n",
       "       2.44948974, 2.64575131, 2.82842712, 3.        , 3.16227766,\n",
       "       3.31662479, 3.46410162])"
      ]
     },
     "execution_count": 84,
     "metadata": {},
     "output_type": "execute_result"
    }
   ],
   "source": [
    "arr1"
   ]
  },
  {
   "cell_type": "code",
   "execution_count": 85,
   "metadata": {},
   "outputs": [
    {
     "data": {
      "text/plain": [
       "array([20, 21, 22, 23, 24, 25])"
      ]
     },
     "execution_count": 85,
     "metadata": {},
     "output_type": "execute_result"
    }
   ],
   "source": [
    "arr = np.arange(20, 26)\n",
    "arr"
   ]
  },
  {
   "cell_type": "code",
   "execution_count": 86,
   "metadata": {},
   "outputs": [
    {
     "data": {
      "text/plain": [
       "array([3.04452244, 3.09104245, 3.13549422, 3.17805383, 3.21887582,\n",
       "       3.25809654])"
      ]
     },
     "execution_count": 86,
     "metadata": {},
     "output_type": "execute_result"
    }
   ],
   "source": [
    "#3 return the logarithm to base e, by adding one to all the element before performing the logarithmic computation\n",
    "np.log1p(arr)"
   ]
  },
  {
   "cell_type": "markdown",
   "metadata": {},
   "source": [
    "# Array-Oriented Programming\n",
    "\n",
    "In this scenario, the object we interact with; manipulate , process, and store are the numpy arrays. The advantage of using numpy arrays here rather than Python's native list is due to n batch processing (vectorization or broadcasting) which allows us to avoid writing explicit for loops.\n",
    "\n",
    "Aside not writing for loops, the performance of vectorization greatly exceed that of for loops."
   ]
  },
  {
   "cell_type": "code",
   "execution_count": 87,
   "metadata": {},
   "outputs": [
    {
     "data": {
      "text/plain": [
       "array([-1.   , -0.999, -0.998, ...,  0.997,  0.998,  0.999])"
      ]
     },
     "execution_count": 87,
     "metadata": {},
     "output_type": "execute_result"
    }
   ],
   "source": [
    "arr = np.arange(-1, 1, 0.001)\n",
    "arr"
   ]
  },
  {
   "cell_type": "markdown",
   "metadata": {},
   "source": [
    "#### Meshgrid Function\n",
    "\n",
    "This takes two 1d-array and produce a 2d-array vector tuples (or matrix) of all the pairs in the array.\n",
    "\n",
    "the size of the resulting matrix = len(first_array) * len(second_array)"
   ]
  },
  {
   "cell_type": "code",
   "execution_count": 88,
   "metadata": {},
   "outputs": [],
   "source": [
    "arr1 = np.arange(1, 10)\n",
    "arr2 = np.arange(10, 13)\n",
    "\n",
    "x1, y1 = np.meshgrid(arr1, arr2)"
   ]
  },
  {
   "cell_type": "code",
   "execution_count": 89,
   "metadata": {},
   "outputs": [
    {
     "data": {
      "text/plain": [
       "array([[1, 2, 3, 4, 5, 6, 7, 8, 9],\n",
       "       [1, 2, 3, 4, 5, 6, 7, 8, 9],\n",
       "       [1, 2, 3, 4, 5, 6, 7, 8, 9]])"
      ]
     },
     "execution_count": 89,
     "metadata": {},
     "output_type": "execute_result"
    }
   ],
   "source": [
    "x1"
   ]
  },
  {
   "cell_type": "code",
   "execution_count": 90,
   "metadata": {},
   "outputs": [
    {
     "data": {
      "text/plain": [
       "array([[10, 10, 10, 10, 10, 10, 10, 10, 10],\n",
       "       [11, 11, 11, 11, 11, 11, 11, 11, 11],\n",
       "       [12, 12, 12, 12, 12, 12, 12, 12, 12]])"
      ]
     },
     "execution_count": 90,
     "metadata": {},
     "output_type": "execute_result"
    }
   ],
   "source": [
    "y1"
   ]
  },
  {
   "cell_type": "code",
   "execution_count": 91,
   "metadata": {},
   "outputs": [],
   "source": [
    "z1 = np.sqrt(x1 **2 + y1 **2)"
   ]
  },
  {
   "cell_type": "code",
   "execution_count": 92,
   "metadata": {},
   "outputs": [],
   "source": [
    "x2, y2 = np.meshgrid(arr, arr)"
   ]
  },
  {
   "cell_type": "code",
   "execution_count": 93,
   "metadata": {},
   "outputs": [],
   "source": [
    "z2 = np.sqrt(x2 ** 2 + y2 **2)"
   ]
  },
  {
   "cell_type": "code",
   "execution_count": 94,
   "metadata": {},
   "outputs": [
    {
     "data": {
      "text/plain": [
       "<matplotlib.colorbar.Colorbar at 0x7aa5f74bff10>"
      ]
     },
     "execution_count": 94,
     "metadata": {},
     "output_type": "execute_result"
    },
    {
     "data": {
      "image/png": "[encoded data removed]",
      "text/plain": [
       "<Figure size 640x480 with 2 Axes>"
      ]
     },
     "metadata": {},
     "output_type": "display_data"
    }
   ],
   "source": [
    "plt.imshow(z1, cmap=plt.cm.gray)\n",
    "plt.colorbar()"
   ]
  },
  {
   "cell_type": "code",
   "execution_count": 95,
   "metadata": {},
   "outputs": [
    {
     "data": {
      "text/plain": [
       "<matplotlib.colorbar.Colorbar at 0x7aa5f52babf0>"
      ]
     },
     "execution_count": 95,
     "metadata": {},
     "output_type": "execute_result"
    },
    {
     "data": {
      "image/png": "[encoded data removed]",
      "text/plain": [
       "<Figure size 640x480 with 2 Axes>"
      ]
     },
     "metadata": {},
     "output_type": "display_data"
    }
   ],
   "source": [
    "plt.imshow(z2, cmap=plt.colormaps['Reds_r'])\n",
    "plt.colorbar()"
   ]
  },
  {
   "cell_type": "markdown",
   "metadata": {},
   "source": [
    "## Where: Conditional Logic as Array Expressions\n",
    "\n",
    "The where method is similar to the ternary expression:\n",
    "\tx if condition else y\n",
    "```python\n",
    "np.where(cond, first_array, second_array)\n",
    "\n",
    "> - Note:\n",
    "> - the second and third argument need not be arrays, as they can be scalar values\n",
    "> - the output of the result of the computation will have the same shape as the conditonal variable \n",
    "```\n",
    "That is, choose x if condtion is true, otherwise choose y;\n",
    "\n",
    "---\n",
    "My first line of reasoning is that all the argument to the *where* method must have the same dimension??\n",
    "\n",
    "Turns out this is false; what matters is **the *size* of the three arguments must be the same**\n",
    "\n",
    "> This is because the where method, intuitively I suppose, flattens out all the array passed as arguments, and then do its comparison (i.e. ternary operations) element wise.\n",
    "\n",
    "\t> turns out that this is also not true; it depends on **broadcasting**\n",
    "\n",
    "> The order of the conditional elements in this case would matter, and hence one must be careful when setting up the conditional argument"
   ]
  },
  {
   "cell_type": "code",
   "execution_count": 96,
   "metadata": {},
   "outputs": [
    {
     "data": {
      "text/plain": [
       "(array([1.1, 1.2, 1.3, 1.4, 1.5, 1.6, 1.7, 1.8]),\n",
       " array([2.1, 2.2, 2.3, 2.4, 2.5, 2.6, 2.7, 2.8]))"
      ]
     },
     "execution_count": 96,
     "metadata": {},
     "output_type": "execute_result"
    }
   ],
   "source": [
    "arr1 = np.arange(1.1, 1.9, .1)\n",
    "arr2 = np.arange(2.1, 2.9, .1)\n",
    "\n",
    "cond = np.array([True, False, True, False, False, True, True, False])\n",
    "arr1, arr2"
   ]
  },
  {
   "cell_type": "code",
   "execution_count": 97,
   "metadata": {},
   "outputs": [
    {
     "data": {
      "text/plain": [
       "array([[[1.1, 1.2],\n",
       "        [1.3, 1.4]],\n",
       "\n",
       "       [[1.5, 1.6],\n",
       "        [1.7, 1.8]]])"
      ]
     },
     "execution_count": 97,
     "metadata": {},
     "output_type": "execute_result"
    }
   ],
   "source": [
    "arr1 = arr1.reshape(2, 2, 2)\n",
    "# arr1.flatten()\n",
    "arr1"
   ]
  },
  {
   "cell_type": "code",
   "execution_count": 98,
   "metadata": {},
   "outputs": [
    {
     "data": {
      "text/plain": [
       "array([[2.1, 2.2],\n",
       "       [2.3, 2.4],\n",
       "       [2.5, 2.6],\n",
       "       [2.7, 2.8]])"
      ]
     },
     "execution_count": 98,
     "metadata": {},
     "output_type": "execute_result"
    }
   ],
   "source": [
    "arr2 = arr2.reshape((4, 2))\n",
    "# arr2.flatten()\n",
    "arr2"
   ]
  },
  {
   "cell_type": "code",
   "execution_count": 99,
   "metadata": {},
   "outputs": [
    {
     "data": {
      "text/plain": [
       "array([[2. , 2.2],\n",
       "       [2. , 2.4],\n",
       "       [2.5, 2. ],\n",
       "       [2. , 2.8]])"
      ]
     },
     "execution_count": 99,
     "metadata": {},
     "output_type": "execute_result"
    }
   ],
   "source": [
    "# the equivalent and better approach\n",
    "cond =cond.reshape(4,2)\n",
    "result = np.where(cond, 2,arr2)\n",
    "result"
   ]
  },
  {
   "cell_type": "markdown",
   "metadata": {},
   "source": [
    "## Mathematical and Statistical Methods\n",
    "\n",
    "NumPy comes with predefined statistical functions\n",
    "\n",
    "Some of the functions can take an optional axis argument, that determines which axis the operation should be carried out"
   ]
  },
  {
   "cell_type": "code",
   "execution_count": 100,
   "metadata": {},
   "outputs": [
    {
     "data": {
      "text/plain": [
       "array([[ 2.11314772,  1.25369732, -0.11584853, -2.27417897],\n",
       "       [-3.0613679 , -1.00524703,  0.71124219, -1.74046045],\n",
       "       [-0.17700018,  0.45880968, -0.78158272, -0.47557511],\n",
       "       [ 0.97407978, -1.75107246,  0.10821356,  0.90917259],\n",
       "       [ 0.50174209,  0.51771911,  0.91213537,  1.677605  ]])"
      ]
     },
     "execution_count": 100,
     "metadata": {},
     "output_type": "execute_result"
    }
   ],
   "source": [
    "arr = np.random.randn(5, 4)\n",
    "arr"
   ]
  },
  {
   "cell_type": "code",
   "execution_count": 101,
   "metadata": {},
   "outputs": [
    {
     "data": {
      "text/plain": [
       "array([ 0.24420439, -1.2739583 , -0.24383708,  0.06009837,  0.90230039])"
      ]
     },
     "execution_count": 101,
     "metadata": {},
     "output_type": "execute_result"
    }
   ],
   "source": [
    "arr.mean(axis=1)"
   ]
  },
  {
   "cell_type": "code",
   "execution_count": 102,
   "metadata": {},
   "outputs": [
    {
     "data": {
      "text/plain": [
       "array([ 0.0701203 , -0.10521868,  0.16683197, -0.38068739])"
      ]
     },
     "execution_count": 102,
     "metadata": {},
     "output_type": "execute_result"
    }
   ],
   "source": [
    "arr.mean(axis=0)"
   ]
  },
  {
   "cell_type": "code",
   "execution_count": 103,
   "metadata": {},
   "outputs": [
    {
     "data": {
      "text/plain": [
       "(0.07012030160653163, -0.10521867603099315)"
      ]
     },
     "execution_count": 103,
     "metadata": {},
     "output_type": "execute_result"
    }
   ],
   "source": [
    "# column 1 \n",
    "arr[:, 0].mean(), arr[:, 1].mean()"
   ]
  },
  {
   "cell_type": "code",
   "execution_count": 104,
   "metadata": {},
   "outputs": [
    {
     "data": {
      "text/plain": [
       "array([1.65709973, 1.36250542, 0.45854458, 1.09987998, 0.47685   ])"
      ]
     },
     "execution_count": 104,
     "metadata": {},
     "output_type": "execute_result"
    }
   ],
   "source": [
    "# same as setting axis=1\n",
    "arr.std(1)"
   ]
  },
  {
   "cell_type": "markdown",
   "metadata": {},
   "source": [
    "### cumsum and cumprod\n",
    "\n",
    "Respectively takes the sum or product, cummulatively along the specified axis\n"
   ]
  },
  {
   "cell_type": "code",
   "execution_count": 105,
   "metadata": {},
   "outputs": [
    {
     "data": {
      "text/plain": [
       "array([[[ 0,  1,  2],\n",
       "        [ 3,  4,  5],\n",
       "        [ 6,  7,  8],\n",
       "        [ 9, 10, 11]],\n",
       "\n",
       "       [[12, 13, 14],\n",
       "        [15, 16, 17],\n",
       "        [18, 19, 20],\n",
       "        [21, 22, 23]],\n",
       "\n",
       "       [[24, 25, 26],\n",
       "        [27, 28, 29],\n",
       "        [30, 31, 32],\n",
       "        [33, 34, 35]],\n",
       "\n",
       "       [[36, 37, 38],\n",
       "        [39, 40, 41],\n",
       "        [42, 43, 44],\n",
       "        [45, 46, 47]]])"
      ]
     },
     "execution_count": 105,
     "metadata": {},
     "output_type": "execute_result"
    }
   ],
   "source": [
    "arr = np.arange(48).reshape((4 , 4, 3))\n",
    "arr"
   ]
  },
  {
   "cell_type": "code",
   "execution_count": 106,
   "metadata": {},
   "outputs": [
    {
     "data": {
      "text/plain": [
       "array([[2, 2, 2, 2],\n",
       "       [2, 2, 2, 2],\n",
       "       [2, 2, 2, 2],\n",
       "       [2, 2, 2, 2]])"
      ]
     },
     "execution_count": 106,
     "metadata": {},
     "output_type": "execute_result"
    }
   ],
   "source": [
    "arr.cumsum(axis=2)\n",
    "arr.argmax(2)"
   ]
  },
  {
   "cell_type": "markdown",
   "metadata": {},
   "source": [
    "### any and all\n",
    "\n",
    "This tests a given condition;\n",
    "\n",
    "- any: finds the first element that satisfies the condition; in which case it returns true; if none of the element satisfies the condition, it returns false\n",
    "\n",
    "- all: checks if any of the elements doesn't satisfies the condition, in which case it returns false; otherwise it returns true\n",
    "\n",
    "> We can check for this along the specified axis\n",
    "\n",
    "---\n",
    "\n",
    "### sort\n",
    "\n",
    "##### NOTE!!!\n",
    "\n",
    "- np.sort(array): This returns a copy\n",
    "\n",
    "- array.sort(): this sorts the array in-place\n",
    "\n",
    "> we can pass an optional axis parameter to indicate which axis the sorting should occur\n"
   ]
  },
  {
   "cell_type": "code",
   "execution_count": 107,
   "metadata": {},
   "outputs": [
    {
     "data": {
      "text/plain": [
       "array([ True,  True, False,  True, False,  True, False, False])"
      ]
     },
     "execution_count": 107,
     "metadata": {},
     "output_type": "execute_result"
    }
   ],
   "source": [
    "cond = np.array([True, True, False, True, False, True, False, False])\n",
    "cond"
   ]
  },
  {
   "cell_type": "code",
   "execution_count": 108,
   "metadata": {},
   "outputs": [
    {
     "data": {
      "text/plain": [
       "array([[[ True,  True],\n",
       "        [False,  True]],\n",
       "\n",
       "       [[False,  True],\n",
       "        [False, False]]])"
      ]
     },
     "execution_count": 108,
     "metadata": {},
     "output_type": "execute_result"
    }
   ],
   "source": [
    "x = cond.reshape((2, 2, 2))\n",
    "x"
   ]
  },
  {
   "cell_type": "code",
   "execution_count": 109,
   "metadata": {},
   "outputs": [
    {
     "data": {
      "text/plain": [
       "array([[ True, False],\n",
       "       [False, False]])"
      ]
     },
     "execution_count": 109,
     "metadata": {},
     "output_type": "execute_result"
    }
   ],
   "source": [
    "x.all(axis=2)"
   ]
  },
  {
   "cell_type": "markdown",
   "metadata": {},
   "source": [
    "---\n",
    "\n",
    "# File Input and Output with Arrays\n",
    "\n",
    "This involves loading (and saving) data from (and to) disk either in text or binary format"
   ]
  },
  {
   "cell_type": "code",
   "execution_count": 110,
   "metadata": {},
   "outputs": [
    {
     "data": {
      "text/plain": [
       "array([0, 1, 2, 3, 4, 5, 6, 7, 8, 9])"
      ]
     },
     "execution_count": 110,
     "metadata": {},
     "output_type": "execute_result"
    }
   ],
   "source": [
    "arr = np.arange(10)\n",
    "arr"
   ]
  },
  {
   "cell_type": "markdown",
   "metadata": {},
   "source": [
    "#### using  the save and load for a single ndarray data\n",
    "\n",
    "The file extension here is ***.npy***"
   ]
  },
  {
   "cell_type": "code",
   "execution_count": 111,
   "metadata": {},
   "outputs": [],
   "source": [
    "# save it to disk\n",
    "np.save(\"array\", arr)"
   ]
  },
  {
   "cell_type": "code",
   "execution_count": 112,
   "metadata": {},
   "outputs": [],
   "source": [
    "x = np.load('array.npy')"
   ]
  },
  {
   "cell_type": "code",
   "execution_count": 113,
   "metadata": {},
   "outputs": [
    {
     "data": {
      "text/plain": [
       "array([0, 1, 2, 3, 4, 5, 6, 7, 8, 9])"
      ]
     },
     "execution_count": 113,
     "metadata": {},
     "output_type": "execute_result"
    }
   ],
   "source": [
    "x"
   ]
  },
  {
   "cell_type": "markdown",
   "metadata": {},
   "source": [
    "#### using the **savez** to store multiple arrays on disk\n",
    "\n",
    "Unlike its **save** counterpart, its extension is ***.npz***\n",
    "\n",
    "Also, when it is loaded from memory, instead of getting an array object, a dictionary is returned, with [arr_[i]] as the corresponding keys, where i is the index of the arrays in the order they were passed in.\n",
    "\n",
    "> the index start from 0"
   ]
  },
  {
   "cell_type": "code",
   "execution_count": 114,
   "metadata": {},
   "outputs": [],
   "source": [
    "arr1 = np.arange(48).reshape((4, 4, 3))\n",
    "arr2 = np.arange(10)"
   ]
  },
  {
   "cell_type": "code",
   "execution_count": 115,
   "metadata": {},
   "outputs": [],
   "source": [
    "# save the two arrays\n",
    "\n",
    "# here the keys are explicitly passed in as (a, c)\n",
    "np.savez('multiple_array', a = arr1, c = arr2)"
   ]
  },
  {
   "cell_type": "code",
   "execution_count": 116,
   "metadata": {},
   "outputs": [
    {
     "data": {
      "text/plain": [
       "NpzFile 'multiple_array.npz' with keys: a, c"
      ]
     },
     "execution_count": 116,
     "metadata": {},
     "output_type": "execute_result"
    }
   ],
   "source": [
    "arr = np.load('multiple_array.npz' )\n",
    "arr"
   ]
  },
  {
   "cell_type": "code",
   "execution_count": 117,
   "metadata": {},
   "outputs": [
    {
     "data": {
      "text/plain": [
       "array([[[ 0,  1,  2],\n",
       "        [ 3,  4,  5],\n",
       "        [ 6,  7,  8],\n",
       "        [ 9, 10, 11]],\n",
       "\n",
       "       [[12, 13, 14],\n",
       "        [15, 16, 17],\n",
       "        [18, 19, 20],\n",
       "        [21, 22, 23]],\n",
       "\n",
       "       [[24, 25, 26],\n",
       "        [27, 28, 29],\n",
       "        [30, 31, 32],\n",
       "        [33, 34, 35]],\n",
       "\n",
       "       [[36, 37, 38],\n",
       "        [39, 40, 41],\n",
       "        [42, 43, 44],\n",
       "        [45, 46, 47]]])"
      ]
     },
     "execution_count": 117,
     "metadata": {},
     "output_type": "execute_result"
    }
   ],
   "source": [
    "arr['a']"
   ]
  },
  {
   "cell_type": "code",
   "execution_count": 118,
   "metadata": {},
   "outputs": [
    {
     "data": {
      "text/plain": [
       "array([0, 1, 2, 3, 4, 5, 6, 7, 8, 9])"
      ]
     },
     "execution_count": 118,
     "metadata": {},
     "output_type": "execute_result"
    }
   ],
   "source": [
    "arr['c']"
   ]
  },
  {
   "cell_type": "code",
   "execution_count": 119,
   "metadata": {},
   "outputs": [],
   "source": [
    "# save the same two arrays without passing in the keys\n",
    "\n",
    "np.savez('2_array', arr1, arr2)"
   ]
  },
  {
   "cell_type": "code",
   "execution_count": 120,
   "metadata": {},
   "outputs": [
    {
     "data": {
      "text/plain": [
       "NpzFile '2_array.npz' with keys: arr_0, arr_1"
      ]
     },
     "execution_count": 120,
     "metadata": {},
     "output_type": "execute_result"
    }
   ],
   "source": [
    "# load the newly saved arrays\n",
    "np.load('2_array.npz')"
   ]
  },
  {
   "cell_type": "code",
   "execution_count": 121,
   "metadata": {},
   "outputs": [],
   "source": [
    "# save as a  compressed data\n",
    "\n",
    "np.savez_compressed('2_array_comp', j=arr1, k=arr2)"
   ]
  },
  {
   "cell_type": "code",
   "execution_count": 122,
   "metadata": {},
   "outputs": [],
   "source": [
    "arr = np.load(\"2_array_comp.npz\")"
   ]
  },
  {
   "cell_type": "code",
   "execution_count": 123,
   "metadata": {},
   "outputs": [
    {
     "data": {
      "text/plain": [
       "array([[[ 0,  1,  2],\n",
       "        [ 3,  4,  5],\n",
       "        [ 6,  7,  8],\n",
       "        [ 9, 10, 11]],\n",
       "\n",
       "       [[12, 13, 14],\n",
       "        [15, 16, 17],\n",
       "        [18, 19, 20],\n",
       "        [21, 22, 23]],\n",
       "\n",
       "       [[24, 25, 26],\n",
       "        [27, 28, 29],\n",
       "        [30, 31, 32],\n",
       "        [33, 34, 35]],\n",
       "\n",
       "       [[36, 37, 38],\n",
       "        [39, 40, 41],\n",
       "        [42, 43, 44],\n",
       "        [45, 46, 47]]])"
      ]
     },
     "execution_count": 123,
     "metadata": {},
     "output_type": "execute_result"
    }
   ],
   "source": [
    "arr['j']"
   ]
  },
  {
   "cell_type": "markdown",
   "metadata": {},
   "source": [
    "---\n",
    "\n",
    "# Linear Algebra Operations\n",
    "\n",
    "1. Matrix Multiplication\n",
    "2. Matrix Decompositions\n",
    "3. Determinants, e.t.c"
   ]
  },
  {
   "cell_type": "code",
   "execution_count": 124,
   "metadata": {},
   "outputs": [],
   "source": [
    "x = np.ones(4) #(1, 3)\n",
    "y = np.array([[1 ,2 ,3, 5], [3, 4, 5, 100], [4, 5, 9, 1], [10 ,11, 12, 0]]) # (2, 3)"
   ]
  },
  {
   "cell_type": "code",
   "execution_count": 125,
   "metadata": {},
   "outputs": [
    {
     "data": {
      "text/plain": [
       "array([ True,  True,  True,  True])"
      ]
     },
     "execution_count": 125,
     "metadata": {},
     "output_type": "execute_result"
    }
   ],
   "source": [
    "np.dot(y, x) == y @ x\n",
    "# x @ y"
   ]
  },
  {
   "cell_type": "code",
   "execution_count": 126,
   "metadata": {},
   "outputs": [
    {
     "data": {
      "text/plain": [
       "array([[-0.39430202, -1.53145205, -0.83710434,  0.38133596, -0.40877945],\n",
       "       [-1.16426801, -2.0773249 ,  0.26346616, -0.61090654, -0.73829023],\n",
       "       [ 0.0262091 ,  0.72510658,  1.82848786,  0.94873708,  1.33396205],\n",
       "       [ 0.60432113, -0.06473013,  0.58232773, -0.36710308, -1.46218868],\n",
       "       [-1.39715192,  0.66909546,  1.684071  , -1.80574854,  0.09504783]])"
      ]
     },
     "execution_count": 126,
     "metadata": {},
     "output_type": "execute_result"
    }
   ],
   "source": [
    "X = np.random.randn(5, 5)\n",
    "X"
   ]
  },
  {
   "cell_type": "code",
   "execution_count": 127,
   "metadata": {},
   "outputs": [
    {
     "data": {
      "text/plain": [
       "array([[ 3.82891851,  2.06747617, -1.92974035,  2.88681982,  0.03928444],\n",
       "       [ 2.06747617,  7.63828239,  3.14963904,  0.1885336 ,  3.2852032 ],\n",
       "       [-1.92974035,  3.14963904,  7.28872667, -2.0002    ,  1.89540426],\n",
       "       [ 2.88681982,  0.1885336 , -2.0002    ,  4.81421843,  1.92586478],\n",
       "       [ 0.03928444,  3.2852032 ,  1.89540426,  1.92586478,  4.63865767]])"
      ]
     },
     "execution_count": 127,
     "metadata": {},
     "output_type": "execute_result"
    }
   ],
   "source": [
    "mat = X.T.dot(X)\n",
    "mat"
   ]
  },
  {
   "cell_type": "code",
   "execution_count": null,
   "metadata": {},
   "outputs": [],
   "source": []
  },
  {
   "cell_type": "code",
   "execution_count": 128,
   "metadata": {},
   "outputs": [
    {
     "data": {
      "text/plain": [
       "array([[ 1.00000000e+00,  1.66533454e-15,  4.99600361e-16,\n",
       "         3.99680289e-15,  0.00000000e+00],\n",
       "       [ 7.10542736e-15,  1.00000000e+00,  3.55271368e-15,\n",
       "        -2.13162821e-14, -1.42108547e-14],\n",
       "       [-3.55271368e-15, -1.06581410e-14,  1.00000000e+00,\n",
       "         0.00000000e+00, -3.55271368e-15],\n",
       "       [-3.55271368e-15,  1.06581410e-14,  8.88178420e-16,\n",
       "         1.00000000e+00,  0.00000000e+00],\n",
       "       [-1.42108547e-14,  0.00000000e+00,  0.00000000e+00,\n",
       "         7.10542736e-15,  1.00000000e+00]])"
      ]
     },
     "execution_count": 128,
     "metadata": {},
     "output_type": "execute_result"
    }
   ],
   "source": [
    "mat.dot(np.linalg.inv(mat))"
   ]
  },
  {
   "cell_type": "code",
   "execution_count": 129,
   "metadata": {},
   "outputs": [],
   "source": [
    "q, r = np.linalg.qr(mat) "
   ]
  },
  {
   "cell_type": "code",
   "execution_count": 130,
   "metadata": {},
   "outputs": [
    {
     "data": {
      "text/plain": [
       "array([[-0.68775791,  0.02273677, -0.25793248,  0.27492407,  0.61996748],\n",
       "       [-0.37136416, -0.75338224,  0.28790244,  0.2596771 , -0.37971548],\n",
       "       [ 0.34662378, -0.50354715, -0.78819525,  0.01118728,  0.07010928],\n",
       "       [-0.51853629,  0.17800605, -0.39465477, -0.53284033, -0.50966926],\n",
       "       [-0.00705635, -0.38295215,  0.27125425, -0.75692839,  0.45472893]])"
      ]
     },
     "execution_count": 130,
     "metadata": {},
     "output_type": "execute_result"
    }
   ],
   "source": [
    "q"
   ]
  },
  {
   "cell_type": "code",
   "execution_count": 131,
   "metadata": {},
   "outputs": [
    {
     "data": {
      "text/plain": [
       "array([[-5.56724748, -3.28771068,  3.70777875, -5.25870119, -1.62139548],\n",
       "       [ 0.        , -8.51804585, -7.16887258,  1.05024005, -4.86211432],\n",
       "       [ 0.        ,  0.        , -3.03688332, -0.49133245, -0.06005945],\n",
       "       [ 0.        ,  0.        ,  0.        , -3.20271414, -3.65221341],\n",
       "       [ 0.        ,  0.        ,  0.        ,  0.        ,  0.03757576]])"
      ]
     },
     "execution_count": 131,
     "metadata": {},
     "output_type": "execute_result"
    }
   ],
   "source": [
    "r"
   ]
  },
  {
   "cell_type": "markdown",
   "metadata": {},
   "source": [
    "### Pseudorandom Number Generation\n",
    "\n"
   ]
  },
  {
   "cell_type": "code",
   "execution_count": 132,
   "metadata": {},
   "outputs": [],
   "source": [
    "rng = np.random.RandomState(1234)"
   ]
  },
  {
   "cell_type": "code",
   "execution_count": 133,
   "metadata": {},
   "outputs": [
    {
     "data": {
      "text/plain": [
       "array([2, 3, 1])"
      ]
     },
     "execution_count": 133,
     "metadata": {},
     "output_type": "execute_result"
    }
   ],
   "source": [
    "np.random.permutation([1, 2, 3])"
   ]
  },
  {
   "cell_type": "code",
   "execution_count": 134,
   "metadata": {},
   "outputs": [],
   "source": [
    "# is the sum method faster than  cumsum??\n",
    "\n",
    "arr = np.arange(1_000_000_00).reshape((100 ,100, 10, 10, 100))"
   ]
  },
  {
   "cell_type": "code",
   "execution_count": 139,
   "metadata": {},
   "outputs": [
    {
     "name": "stdout",
     "output_type": "stream",
     "text": [
      "180 ms ± 26.7 ms per loop (mean ± std. dev. of 7 runs, 10 loops each)\n"
     ]
    }
   ],
   "source": [
    "%timeit arr.sum()"
   ]
  },
  {
   "cell_type": "code",
   "execution_count": 140,
   "metadata": {},
   "outputs": [
    {
     "name": "stdout",
     "output_type": "stream",
     "text": [
      "606 ms ± 47.4 ms per loop (mean ± std. dev. of 7 runs, 1 loop each)\n"
     ]
    }
   ],
   "source": [
    "%timeit arr.cumsum()[-1]"
   ]
  },
  {
   "cell_type": "markdown",
   "metadata": {},
   "source": [
    "## Broadcasting\n",
    "\n",
    "Vectorization implies that one can perform the same single operations on all the data on two given arrays at the same time (**SIMD: Single Insruction Multiple Data**).\n",
    "\n",
    "This requires that the arrays have the same size, so that the operation can be mapped element-by-element.\n",
    "\n",
    "\n",
    "However, it is possible for the arrays to be of different size and stil perform an operation in a vectorized manner. E.g.\n",
    "\n",
    "let **p** be an array of size (l, m, n). Let the operation be an addition of 2,\n",
    "i.e.\n",
    "\n",
    "- **p * 2**\n",
    "\n",
    "This operation will add 2 to all the element in p - vectorization. This is possible because 2 is sent (broadcasted) to all the elements in the array. This is achieved by transforming **2** into an **(l, m, n)** array (same size as p) containing 2's as its element. \n",
    "\n",
    "**This transformation is known as *broadcasting***\n",
    "\n",
    "\n",
    "> **Broadcasting is not vectorization, but can be used to achieve vectorization**\n",
    "\n",
    "#### Mechanism of Array Transformation: Broadcasting"
   ]
  },
  {
   "cell_type": "code",
   "execution_count": 151,
   "metadata": {},
   "outputs": [],
   "source": [
    "a = np.arange((24)).reshape(2, 3, 4)\n",
    "b = np.arange(2).reshape(1, 2)"
   ]
  },
  {
   "cell_type": "code",
   "execution_count": 152,
   "metadata": {},
   "outputs": [
    {
     "ename": "ValueError",
     "evalue": "operands could not be broadcast together with shapes (2,3,4) (1,2) ",
     "output_type": "error",
     "traceback": [
      "\u001b[0;31m---------------------------------------------------------------------------\u001b[0m",
      "\u001b[0;31mValueError\u001b[0m                                Traceback (most recent call last)",
      "Cell \u001b[0;32mIn[152], line 1\u001b[0m\n\u001b[0;32m----> 1\u001b[0m \u001b[43ma\u001b[49m\u001b[43m \u001b[49m\u001b[38;5;241;43m+\u001b[39;49m\u001b[43m \u001b[49m\u001b[43mb\u001b[49m\n",
      "\u001b[0;31mValueError\u001b[0m: operands could not be broadcast together with shapes (2,3,4) (1,2) "
     ]
    }
   ],
   "source": [
    "a + b"
   ]
  },
  {
   "cell_type": "code",
   "execution_count": 154,
   "metadata": {},
   "outputs": [
    {
     "name": "stdout",
     "output_type": "stream",
     "text": [
      "Help on NoneType object:\n",
      "\n",
      "class NoneType(object)\n",
      " |  Methods defined here:\n",
      " |  \n",
      " |  __bool__(self, /)\n",
      " |      True if self else False\n",
      " |  \n",
      " |  __repr__(self, /)\n",
      " |      Return repr(self).\n",
      " |  \n",
      " |  ----------------------------------------------------------------------\n",
      " |  Static methods defined here:\n",
      " |  \n",
      " |  __new__(*args, **kwargs) from builtins.type\n",
      " |      Create and return a new object.  See help(type) for accurate signature.\n",
      "\n"
     ]
    }
   ],
   "source": [
    "help(np.newaxis)"
   ]
  },
  {
   "cell_type": "code",
   "execution_count": null,
   "metadata": {},
   "outputs": [],
   "source": []
  }
 ],
 "metadata": {
  "kernelspec": {
   "display_name": "Python 3",
   "language": "python",
   "name": "python3"
  },
  "language_info": {
   "codemirror_mode": {
    "name": "ipython",
    "version": 3
   },
   "file_extension": ".py",
   "mimetype": "text/x-python",
   "name": "python",
   "nbconvert_exporter": "python",
   "pygments_lexer": "ipython3",
   "version": "3.10.12"
  }
 },
 "nbformat": 4,
 "nbformat_minor": 2
}
