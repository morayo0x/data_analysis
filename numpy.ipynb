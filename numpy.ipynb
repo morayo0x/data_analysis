{
 "cells": [
  {
   "cell_type": "code",
   "execution_count": null,
   "metadata": {},
   "outputs": [],
   "source": [
    "import numpy as np\n",
    "import pandas as pd\n",
    "import seaborn as sns\n",
    "import scipy\n",
    "from matplotlib import pyplot as plt"
   ]
  },
  {
   "cell_type": "markdown",
   "metadata": {},
   "source": [
    "### NDARRAY: Multidimensional Array Object\n"
   ]
  },
  {
   "cell_type": "code",
   "execution_count": null,
   "metadata": {},
   "outputs": [],
   "source": [
    "# generate random data filling 2 rows and three columns\n",
    "data = np.random.randn(2, 3)\n",
    "data"
   ]
  },
  {
   "cell_type": "code",
   "execution_count": null,
   "metadata": {},
   "outputs": [],
   "source": [
    "# multiply all the elements in the array by 100\n",
    "data * 100"
   ]
  },
  {
   "cell_type": "code",
   "execution_count": null,
   "metadata": {},
   "outputs": [],
   "source": [
    "# get the shape of the array\n",
    "data.shape"
   ]
  },
  {
   "cell_type": "code",
   "execution_count": null,
   "metadata": {},
   "outputs": [],
   "source": [
    "# get the type of data in the array\n",
    "data.dtype"
   ]
  },
  {
   "cell_type": "markdown",
   "metadata": {},
   "source": [
    "## Creating ndarray"
   ]
  },
  {
   "cell_type": "code",
   "execution_count": null,
   "metadata": {},
   "outputs": [],
   "source": [
    "# Creating ndarrays\n",
    "data1 = [1, 2, 3, 4, 5.1, 6.2]\n",
    "arr1 = np.array(data1)"
   ]
  },
  {
   "cell_type": "code",
   "execution_count": null,
   "metadata": {},
   "outputs": [],
   "source": [
    "arr1"
   ]
  },
  {
   "cell_type": "code",
   "execution_count": null,
   "metadata": {},
   "outputs": [],
   "source": [
    "data2 = ['c', 'b', 'a']\n",
    "arr2 = np.array(data2)"
   ]
  },
  {
   "cell_type": "code",
   "execution_count": null,
   "metadata": {},
   "outputs": [],
   "source": [
    "arr2"
   ]
  },
  {
   "cell_type": "code",
   "execution_count": null,
   "metadata": {},
   "outputs": [],
   "source": [
    "data3 = [[1, 2, 3, 4], [5, 6, 7, 8]]\n",
    "arr3 = np.array(data3)"
   ]
  },
  {
   "cell_type": "code",
   "execution_count": null,
   "metadata": {},
   "outputs": [],
   "source": [
    "print(arr3.shape)\n",
    "print(arr3.dtype)\n",
    "arr3"
   ]
  },
  {
   "cell_type": "code",
   "execution_count": null,
   "metadata": {},
   "outputs": [],
   "source": [
    "# get the dimension of the array\n",
    "print(arr1.ndim)\n",
    "print(arr3.ndim)"
   ]
  },
  {
   "cell_type": "code",
   "execution_count": null,
   "metadata": {},
   "outputs": [],
   "source": [
    "# create arrays filled with zeros, given a specific length or shape \n",
    "\n",
    "# an array of 10 zeroes in length (10,)\n",
    "a = np.zeros(10)\n",
    "\n",
    "# an array of a given shape (3, 4), containing zeroes\n",
    "b = np.zeros((3, 4))\n",
    "\n",
    "print('a', a)\n",
    "print()\n",
    "print('b' , b)"
   ]
  },
  {
   "cell_type": "code",
   "execution_count": null,
   "metadata": {},
   "outputs": [],
   "source": [
    "# creating an array of ones\n",
    "a = np.ones(10)\n",
    "b = np.ones((3, 4))\n",
    "\n",
    "print('a', a)\n",
    "print()\n",
    "print('b', b)\n",
    "b.ndim"
   ]
  },
  {
   "cell_type": "code",
   "execution_count": null,
   "metadata": {},
   "outputs": [],
   "source": [
    "# using empty to intialise an array\n",
    "np.empty((3, 4,))"
   ]
  },
  {
   "cell_type": "markdown",
   "metadata": {},
   "source": [
    "### NOTE\n",
    "using empty method to intiialise an ndarray is almost similar to using random, except that it could fill it with garbage values"
   ]
  },
  {
   "cell_type": "markdown",
   "metadata": {},
   "source": []
  },
  {
   "cell_type": "markdown",
   "metadata": {},
   "source": [
    "## Arange \n",
    "\n",
    "Creates an ndarray from start to stop-1; just like the python range function"
   ]
  },
  {
   "cell_type": "code",
   "execution_count": null,
   "metadata": {},
   "outputs": [],
   "source": [
    "# create an array of elements starting from 10 to 100, in steps of 2\n",
    "np.arange(10, 101, 2,)"
   ]
  },
  {
   "cell_type": "markdown",
   "metadata": {},
   "source": [
    "## Linspace \n",
    "\n",
    "works similarly as *arange* but the third specified parameter indicates how many element should be returned between the *start* and *stop* (inclusive)\n",
    "\n",
    "> The elements returned are evenly spaced"
   ]
  },
  {
   "cell_type": "code",
   "execution_count": null,
   "metadata": {},
   "outputs": [],
   "source": [
    "np.linspace(1, 100, 10)"
   ]
  },
  {
   "cell_type": "code",
   "execution_count": null,
   "metadata": {},
   "outputs": [],
   "source": [
    "np.asarray(np.arange(10))"
   ]
  },
  {
   "cell_type": "markdown",
   "metadata": {},
   "source": [
    "## ones_like and zeros_like\n",
    "\n",
    "the *ones_like*  and *zeros_like* method takes an ndarray, and produce the same ndarray with its element change to one (ones_like) or zero (zeros_like)"
   ]
  },
  {
   "cell_type": "code",
   "execution_count": null,
   "metadata": {},
   "outputs": [],
   "source": [
    "data = [[1, 2, 3], [4, 5, 6], [7, 8, 9]]\n",
    "\n",
    "# create an array from the data \n",
    "arr1 = np.array(data)\n",
    "\n",
    "# using the asarray method. note that arr1 == arr2\n",
    "arr2 = np.asarray(data)\n",
    "print('arr1', arr1)\n",
    "print(\"\")\n",
    "print('arr2', arr2)\n",
    "\n",
    "# change the element of arr1 to one\n",
    "a = np.ones_like(arr1)\n",
    "print('arr1 ones_like: ', a)\n",
    "\n",
    "# change the element of arr2 to zeros\n",
    "b = np.zeros_like(arr2)\n",
    "print('arr1 zeros_like: ', b)\n",
    "\n",
    "# instead of converting to an ndarray before passing to the method,\n",
    "# we pass the list directly\n",
    "np.ones_like(data)"
   ]
  },
  {
   "cell_type": "markdown",
   "metadata": {},
   "source": [
    "## full and full_like method\n",
    "\n",
    "#### full\n",
    "Takes the shape and an element that will be used to fill the ndarray of that same shape\n",
    "\n",
    "#### full_like\n",
    "takes another array and fill it with the specified value; note the same data type will be used as the passed array"
   ]
  },
  {
   "cell_type": "code",
   "execution_count": null,
   "metadata": {},
   "outputs": [],
   "source": [
    " \n",
    "from numpy import unicode_\n",
    "\n",
    "\n",
    "a = np.full((2, 3), [2, 4, 5], )\n",
    "\n",
    "a"
   ]
  },
  {
   "cell_type": "code",
   "execution_count": null,
   "metadata": {},
   "outputs": [],
   "source": [
    "np.full_like(a, 100)"
   ]
  },
  {
   "cell_type": "code",
   "execution_count": null,
   "metadata": {},
   "outputs": [],
   "source": [
    "np.full_like(a, [30, 90, 270])"
   ]
  },
  {
   "cell_type": "markdown",
   "metadata": {},
   "source": [
    "## Type Casting\n",
    "\n",
    "The *astype* method can be used to change (if possible) the underlying type of an ndarray"
   ]
  },
  {
   "cell_type": "code",
   "execution_count": null,
   "metadata": {},
   "outputs": [],
   "source": [
    "# create a 3 x 3 ndarray of type int32 and change the underlying type to unicode\n",
    "np.full((3, 3), 4, dtype='int32').astype(np.unicode_)"
   ]
  },
  {
   "cell_type": "code",
   "execution_count": null,
   "metadata": {},
   "outputs": [],
   "source": [
    "# create an random 3 x 3 ndarray of float32\n",
    "\n",
    "arr1 = np.random.random((3, 3)).astype('float32')\n",
    "print(arr1.dtype)\n",
    "print('arr1: ', arr1)\n",
    "\n",
    "# cast the result to an int type\n",
    "arr1.astype('int32') "
   ]
  },
  {
   "cell_type": "markdown",
   "metadata": {},
   "source": [
    "---\n"
   ]
  },
  {
   "cell_type": "markdown",
   "metadata": {},
   "source": [
    "# Arithmetic with ndarrays\n",
    "\n",
    "Arithmetic operations are performed on ndarrays of equal size without writing a for loop. This is known as **batch processing** or **vectorization**\n",
    "\n",
    "The arithmetic operation is applied to each element of the array OR element-wise operation IF two or more arrays are supplied"
   ]
  },
  {
   "cell_type": "code",
   "execution_count": null,
   "metadata": {},
   "outputs": [],
   "source": [
    "# array\n",
    "# arange\n",
    "# ones, ones_like\n",
    "# zeros, zeros_like\n",
    "# linspace\n",
    "# astype\n",
    "# full, full_like"
   ]
  },
  {
   "cell_type": "code",
   "execution_count": null,
   "metadata": {},
   "outputs": [],
   "source": [
    "arr1 = np.asarray([[1, 2, 3], [4, 5, 6]], dtype='float64')\n",
    "arr1"
   ]
  },
  {
   "cell_type": "code",
   "execution_count": null,
   "metadata": {},
   "outputs": [],
   "source": [
    "arr2 = np.asarray([[1, 0, 3], [-5, 4, 1]])\n",
    "arr2"
   ]
  },
  {
   "cell_type": "code",
   "execution_count": null,
   "metadata": {},
   "outputs": [],
   "source": [
    "(1/ arr2) ** 3\n"
   ]
  },
  {
   "cell_type": "markdown",
   "metadata": {},
   "source": [
    "# Broadcasting\n",
    "\n",
    "In vectorization, the arrays must have the same size (shape). In broadcasting however, the arrays can have different size.\n",
    "\n",
    "\n",
    "Broadcasting Operations\n",
    "\n",
    "- multiplication of an ndarray with a scalar value\n",
    "\n",
    "\n",
    "---\n",
    "---"
   ]
  },
  {
   "cell_type": "markdown",
   "metadata": {},
   "source": [
    "# Slicing and Indexing an Ndarray\n",
    "\n"
   ]
  },
  {
   "cell_type": "code",
   "execution_count": null,
   "metadata": {},
   "outputs": [],
   "source": [
    "# create an ndarray with element 1 - 10\n",
    "\n",
    "arr = np.arange(11)\n",
    "arr"
   ]
  },
  {
   "cell_type": "code",
   "execution_count": null,
   "metadata": {},
   "outputs": [],
   "source": [
    "# select the 5th element\n",
    "print(arr[4])\n",
    "\n",
    "# select the 2nd, 4th, and 6th element\n",
    "print(arr[1:7:2])\n",
    "\n",
    "# select the 4th to 9th element\n",
    "print(arr[3:10])"
   ]
  },
  {
   "cell_type": "code",
   "execution_count": null,
   "metadata": {},
   "outputs": [],
   "source": [
    "# replacing through broadcasting\n",
    "arr"
   ]
  },
  {
   "cell_type": "code",
   "execution_count": null,
   "metadata": {},
   "outputs": [],
   "source": [
    "arr[4:9] = 12\n",
    "arr"
   ]
  },
  {
   "cell_type": "markdown",
   "metadata": {},
   "source": [
    "> ### Any modification on slices will be reflected on the source array, because slices are views on the source array\n",
    "\n",
    "The result of slicing an ndarray is a view on the source array and not a copy of data from the source array"
   ]
  },
  {
   "cell_type": "code",
   "execution_count": null,
   "metadata": {},
   "outputs": [],
   "source": [
    "arr"
   ]
  },
  {
   "cell_type": "code",
   "execution_count": null,
   "metadata": {},
   "outputs": [],
   "source": [
    "# create a slice of 4th to 9th element\n",
    "arr_slice = arr[4:10]\n",
    "print('slice', arr_slice)\n",
    "\n",
    "# modify all the element in the slice to 101\n",
    "arr_slice[:] = 101\n",
    "print('modified slice: ', arr_slice)\n",
    "\n",
    "# we notice immediately that the source ndarray is modified simultaneously\n",
    "print('source ndarray: ', arr)\n",
    "\n",
    "print(\"\")\n",
    "print(\"\")\n",
    "# copy a slice which upon modification will not reflect on the source\n",
    "arr_slice_copied = arr[1:6].copy()\n",
    "print('slice copied', arr_slice_copied)\n",
    "\n",
    "# modify the copied slice\n",
    "arr_slice_copied[:] = 230\n",
    "print('modified copied slice', arr_slice_copied)\n",
    "\n",
    "# check the source that it is not modified\n",
    "print('source: ', arr)"
   ]
  },
  {
   "cell_type": "markdown",
   "metadata": {},
   "source": [
    "# Slicing and Indexing in Multidimensional Arrays\n",
    "\n",
    "In >= 2 ndarrays, when indexed, output a lower dimension array"
   ]
  },
  {
   "cell_type": "code",
   "execution_count": null,
   "metadata": {},
   "outputs": [],
   "source": [
    "arr = np.asarray([[1, 2, 3], [4, 5, 6], [7, 8, 9]])\n",
    "print('source ndarray: '), \n",
    "print(arr)"
   ]
  },
  {
   "cell_type": "code",
   "execution_count": null,
   "metadata": {},
   "outputs": [],
   "source": [
    "# create a slice from the \n",
    "arr"
   ]
  },
  {
   "cell_type": "code",
   "execution_count": null,
   "metadata": {},
   "outputs": [],
   "source": [
    "arr[0:3,2]"
   ]
  },
  {
   "cell_type": "markdown",
   "metadata": {},
   "source": [
    "## Indexing using a comma seperated value for >= 2 ndarray\n",
    "\n",
    "The order of indexing is always from *Outside* --> *Inside*"
   ]
  },
  {
   "cell_type": "code",
   "execution_count": null,
   "metadata": {},
   "outputs": [],
   "source": [
    "arr[1] = [4, 5, 6]\n",
    "arr"
   ]
  },
  {
   "cell_type": "code",
   "execution_count": null,
   "metadata": {},
   "outputs": [],
   "source": [
    "# select all the element in the third column\n",
    "arr[:, 2]"
   ]
  },
  {
   "cell_type": "code",
   "execution_count": null,
   "metadata": {},
   "outputs": [],
   "source": [
    "# working with three dimensional data\n",
    "\n",
    "arr = np.asarray([ [[1, 2, 3, 4], [4, 5, 6, 40], [10, 10, 10, 10]] , [[2, 2, 2, 2], [7, 8, 9, 160], [10, 11, 12, 524]] ])\n",
    "\n",
    "print('dimension: ', arr.ndim)\n",
    "print('shape: ', arr.shape)\n",
    "\n",
    "print(\"\")\n",
    "arr"
   ]
  },
  {
   "cell_type": "code",
   "execution_count": null,
   "metadata": {},
   "outputs": [],
   "source": [
    "# select all the element in the \n",
    "arr[:, 0, :3]"
   ]
  },
  {
   "cell_type": "markdown",
   "metadata": {},
   "source": [
    "---\n",
    "\n",
    "# Boolean Indexing\n",
    "\n"
   ]
  },
  {
   "cell_type": "code",
   "execution_count": null,
   "metadata": {},
   "outputs": [],
   "source": [
    "# names = np.array(['Bob', 'Joe', 'Will', 'Bob', 'Will', 'Joe', 'Joe'])\n",
    "data = np.random.randn(7, 3, 4)\n",
    "data"
   ]
  },
  {
   "cell_type": "code",
   "execution_count": null,
   "metadata": {},
   "outputs": [],
   "source": [
    "# select only columns for which the first element of its rows is less than 0\n",
    "\n",
    "# first we create the truthy value\n",
    "cond = data[:, 0, 0] < 0\n",
    "\n",
    "# select columns, where the first elements of the innermost rows is less than 0\n",
    "data[cond, :, 0][:, 0]\n"
   ]
  },
  {
   "cell_type": "code",
   "execution_count": null,
   "metadata": {},
   "outputs": [],
   "source": [
    "# select only inner row elements less than 0, for each element of the 3d-array \n",
    "\n",
    "# Note: each element of the (7, 3, 4) array is a 2d array of (3, 4) rows and column\n",
    "\n",
    "# So, we want to select each element of the (7, 3, 4) array ==> this will  result in seven; 7 different (3, 4) arrays,\n",
    "\n",
    "# Then we select the first rows of the (3, 4) resulting arrays ==> this will result in seven; 7 different, (1, 4) array.\n",
    "\n",
    "# then we check that the inner elements of each resulting rows has a value less than 0\n",
    "\n",
    "cond2 = data[:, 0] < 0\n",
    "cond2"
   ]
  },
  {
   "cell_type": "code",
   "execution_count": null,
   "metadata": {},
   "outputs": [],
   "source": [
    "# this method here is the same as the one below\n",
    "for i, cond in enumerate(cond2):\n",
    "  print(data[:, 0, cond][i])\n",
    "  print()\n",
    "  \n",
    "# second method\n",
    "data[:, 0][cond2]\n"
   ]
  },
  {
   "cell_type": "markdown",
   "metadata": {},
   "source": [
    "## !NOTE\n",
    "\n",
    "When applying a conditional indexing, the dimension of the resulting conditional must match the slice, it is going to be applied to\n",
    "\n",
    "--- "
   ]
  },
  {
   "cell_type": "code",
   "execution_count": null,
   "metadata": {},
   "outputs": [],
   "source": [
    "arr = np.empty((4, 4))\n",
    "arr"
   ]
  },
  {
   "cell_type": "code",
   "execution_count": null,
   "metadata": {},
   "outputs": [],
   "source": [
    "arr[[0, 1, 2, 3], [0, 1, 2, 3]]"
   ]
  },
  {
   "cell_type": "code",
   "execution_count": null,
   "metadata": {},
   "outputs": [],
   "source": [
    "arr = np.arange(45).reshape(3, 3, 5)\n",
    "arr"
   ]
  },
  {
   "cell_type": "markdown",
   "metadata": {},
   "source": [
    "# Fancy Indexing\n",
    "\n",
    "This allows the selection of the rows of an ndarray, in a specific order, by passing a list with the index of the rows to be selected.\n",
    "\n",
    "> However this indexing does not apply *in the same manner* to the next inner indexing\n",
    "\n",
    "If mulltiple index are passed in, then it would select a one-dimensional array of elements corresponding to each tuple of indices"
   ]
  },
  {
   "cell_type": "code",
   "execution_count": null,
   "metadata": {},
   "outputs": [],
   "source": [
    "# one can select the first and last element of the (3, 3, 5) ndarray ==> two (2, 3, 5) ndarray\n",
    "\n",
    "# note the tuple of indices are: (0, 1, 4), (2, 0, 3) ==> \n",
    "# \tselect the first(0) outer row, second(1) inner row, and 5th(4)  element\n",
    "# \tselect the third(2) outer row, first(0) inner row, and 4th(3)  element\n",
    "# \tselect the second(1) outer row, third(2) inner row, and 2nd(1)  element\n",
    "# \t\n",
    "arr[[0, 2, 1], [1, 0, 2], [4, 3, 1]]"
   ]
  },
  {
   "cell_type": "code",
   "execution_count": null,
   "metadata": {},
   "outputs": [],
   "source": [
    "# with the 2d-array\n",
    "arr = np.arange(20).reshape(4, 5)\n",
    "arr"
   ]
  },
  {
   "cell_type": "code",
   "execution_count": null,
   "metadata": {},
   "outputs": [],
   "source": [
    "# select the first(0), and third(2) outer row\n",
    "# then select their second(1) and fifth(4) element respectively.\n",
    "arr[[0,2, 1], [1]]"
   ]
  },
  {
   "cell_type": "markdown",
   "metadata": {},
   "source": [
    "> ### In general when using fancy indexing, the multiple array index passed must either have the same length OR the second index, have a single element; in which case, the array is expanded, to the same length as its first array index with its containing element\n",
    "\n",
    "> ### The length of the first array index, determines the length of the other array indices\n",
    "\n",
    "> ### If the array is k-dimensional, then a maximum of [k] multiple indices can be passed in. Also, the kth array index will index into individual element of the preceeding [k-1] resulting array"
   ]
  },
  {
   "cell_type": "code",
   "execution_count": null,
   "metadata": {},
   "outputs": [],
   "source": [
    "# 4d-array\n",
    "\n",
    "arr = np.arange(180).reshape(3, 3, 4, 5)\n",
    "arr"
   ]
  },
  {
   "cell_type": "code",
   "execution_count": null,
   "metadata": {},
   "outputs": [],
   "source": [
    "# 4 multiple array indices are needed to select an element in the array\n",
    "\n",
    "arr[[0, 1], [1, 2], [1, 3], [[3, 4]]]"
   ]
  },
  {
   "cell_type": "markdown",
   "metadata": {},
   "source": [
    "---\n",
    "\n",
    "# Transposing Arrays and Swapping Axes\n",
    "\n",
    "This returns a view of the underlying data without copying the source array"
   ]
  },
  {
   "cell_type": "code",
   "execution_count": null,
   "metadata": {},
   "outputs": [],
   "source": [
    "# create a 3, 5 array\n",
    "arr = np.arange(15).reshape((3, 5))\n",
    "\n",
    "arr"
   ]
  },
  {
   "cell_type": "code",
   "execution_count": null,
   "metadata": {},
   "outputs": [],
   "source": [
    "# transpose it to a (5, 3) array\n",
    "\n",
    "arr_T = arr.T # or arr.transpose()\n",
    "\n",
    "arr_T"
   ]
  },
  {
   "cell_type": "code",
   "execution_count": null,
   "metadata": {},
   "outputs": [],
   "source": [
    "# we modify the transposed array and confirm that the source array is also modified\n",
    "# thus indicating that the transposed array is a view\n",
    "\n",
    "arr_T[2] = 1000\n",
    "\n",
    "print('modified arr_T')\n",
    "print(arr_T)\n",
    "\n",
    "print(\"source array:\")\n",
    "print(arr)"
   ]
  },
  {
   "cell_type": "markdown",
   "metadata": {},
   "source": [
    "# Matrix multiplication and the Transpose of an ndarray\n",
    "\n",
    "> To mutiply two matrix, the num of columns of the first must match the num of rows of the second. Hence to multiply a non-square matrix (m x n; where m!=n) by itself, then we have to multiply it with a transpose of itself\n",
    "\n",
    "Note that this is otherwise \n",
    "> [!NOTE]\n",
    "> Multiplication of two matrix, not element wise, is done using the [dot] method\n",
    "\n"
   ]
  },
  {
   "cell_type": "code",
   "execution_count": null,
   "metadata": {},
   "outputs": [],
   "source": [
    "arr = np.random.randn(10, 5)\n",
    "arr"
   ]
  },
  {
   "cell_type": "code",
   "execution_count": null,
   "metadata": {},
   "outputs": [],
   "source": [
    "arr_mul = np.dot(arr.T, arr)\n",
    "arr_mul"
   ]
  },
  {
   "cell_type": "markdown",
   "metadata": {},
   "source": [
    "### Transpose and Higher Dimensional Array\n",
    "\n",
    "This is similar to re-ordering the axes of the higher dimensional array"
   ]
  },
  {
   "cell_type": "code",
   "execution_count": null,
   "metadata": {},
   "outputs": [],
   "source": [
    "arr = np.arange(16).reshape((2, 2, 4))\n",
    "\n",
    "arr"
   ]
  },
  {
   "cell_type": "code",
   "execution_count": null,
   "metadata": {},
   "outputs": [],
   "source": [
    "# make the second(1) axis first, first(0) axis second, and the third axis unchannged \n",
    "arr.transpose((1, 0, 2))"
   ]
  },
  {
   "cell_type": "markdown",
   "metadata": {},
   "source": [
    "---\n",
    "# Array Functions\n",
    "\n",
    "A universal array function (ufunc), is any function that performs element-wise operations on the ndarrays, and returns a scalar or array of scalar values as its result\n",
    "\n",
    "- Unary Unfunc\n",
    "\t- sqrt, exp\n",
    "\n",
    "- binary ufuncs\n",
    "\t- add,\n",
    "\n",
    "- n-aryy ufuncs"
   ]
  },
  {
   "cell_type": "code",
   "execution_count": null,
   "metadata": {},
   "outputs": [],
   "source": [
    "arr1d = np.arange(4, 20)\n",
    "arr1d"
   ]
  },
  {
   "cell_type": "code",
   "execution_count": null,
   "metadata": {},
   "outputs": [],
   "source": [
    "# square root of element\n",
    "np.sqrt(arr1d)"
   ]
  },
  {
   "cell_type": "code",
   "execution_count": null,
   "metadata": {},
   "outputs": [],
   "source": [
    "arr2d = np.arange(16).reshape((4, 4))\n",
    "arr2d"
   ]
  },
  {
   "cell_type": "code",
   "execution_count": null,
   "metadata": {},
   "outputs": [],
   "source": [
    "# square of the 2d elements \n",
    "\n",
    "np.sqrt(arr2d)"
   ]
  },
  {
   "cell_type": "code",
   "execution_count": null,
   "metadata": {},
   "outputs": [],
   "source": [
    "# as exponential of e\n",
    "print(\"e^(each array element): \")\n",
    "np.exp(arr2d)\n"
   ]
  },
  {
   "cell_type": "code",
   "execution_count": null,
   "metadata": {},
   "outputs": [],
   "source": [
    "arr2d"
   ]
  },
  {
   "cell_type": "code",
   "execution_count": null,
   "metadata": {},
   "outputs": [],
   "source": [
    "# broadcasting\n",
    "arr2d + 2"
   ]
  },
  {
   "cell_type": "code",
   "execution_count": null,
   "metadata": {},
   "outputs": [],
   "source": [
    "# vectorization\n",
    "arr2d + arr2d"
   ]
  },
  {
   "cell_type": "code",
   "execution_count": null,
   "metadata": {},
   "outputs": [],
   "source": [
    "np.add(arr2d, arr2d)"
   ]
  },
  {
   "cell_type": "code",
   "execution_count": null,
   "metadata": {},
   "outputs": [],
   "source": [
    "print(arr1d)\n",
    "print()\n",
    "print(arr2d)"
   ]
  },
  {
   "cell_type": "code",
   "execution_count": null,
   "metadata": {},
   "outputs": [],
   "source": [
    "arr1d_rshp = arr1d.reshape((4, 4))\n",
    "arr1d_rshp"
   ]
  },
  {
   "cell_type": "code",
   "execution_count": null,
   "metadata": {},
   "outputs": [],
   "source": [
    "np.maximum(arr2d.T, arr1d_rshp)"
   ]
  },
  {
   "cell_type": "code",
   "execution_count": 164,
   "metadata": {},
   "outputs": [],
   "source": [
    "# modf array\n",
    "remainder, whole = np.modf(arr2d, arr1d_rshp.astype('float64'))"
   ]
  },
  {
   "cell_type": "code",
   "execution_count": 162,
   "metadata": {},
   "outputs": [
    {
     "data": {
      "text/plain": [
       "array([[0., 0., 0., 0.],\n",
       "       [0., 0., 0., 0.],\n",
       "       [0., 0., 0., 0.],\n",
       "       [0., 0., 0., 0.]])"
      ]
     },
     "execution_count": 162,
     "metadata": {},
     "output_type": "execute_result"
    }
   ],
   "source": [
    "remainder"
   ]
  },
  {
   "cell_type": "code",
   "execution_count": 166,
   "metadata": {},
   "outputs": [
    {
     "data": {
      "text/plain": [
       "array([[ 0.,  1.,  2.,  3.],\n",
       "       [ 4.,  5.,  6.,  7.],\n",
       "       [ 8.,  9., 10., 11.],\n",
       "       [12., 13., 14., 15.]])"
      ]
     },
     "execution_count": 166,
     "metadata": {},
     "output_type": "execute_result"
    }
   ],
   "source": [
    "whole"
   ]
  },
  {
   "cell_type": "markdown",
   "metadata": {},
   "source": [
    "## !NOTE\n",
    "\n",
    "> ufunc, can accept an optional argument that tells them where to  put the result of the computation, but the optional argument array must;\n",
    "\n",
    "-  be the same order as the first argument, \n",
    "-  have the same type as the result of the computation."
   ]
  },
  {
   "cell_type": "code",
   "execution_count": 183,
   "metadata": {},
   "outputs": [
    {
     "name": "stdout",
     "output_type": "stream",
     "text": [
      "True\n"
     ]
    }
   ],
   "source": [
    "# create two array of the same size\n",
    "arr1 = np.arange(1, 13)\n",
    "arr2 = np.arange(30 ,42).astype('float64')\n",
    "print(arr1.size == arr2.size)"
   ]
  },
  {
   "cell_type": "code",
   "execution_count": 184,
   "metadata": {},
   "outputs": [
    {
     "data": {
      "text/plain": [
       "array([ 1,  2,  3,  4,  5,  6,  7,  8,  9, 10, 11, 12])"
      ]
     },
     "execution_count": 184,
     "metadata": {},
     "output_type": "execute_result"
    }
   ],
   "source": [
    "arr1"
   ]
  },
  {
   "cell_type": "code",
   "execution_count": 185,
   "metadata": {},
   "outputs": [
    {
     "data": {
      "text/plain": [
       "array([30., 31., 32., 33., 34., 35., 36., 37., 38., 39., 40., 41.])"
      ]
     },
     "execution_count": 185,
     "metadata": {},
     "output_type": "execute_result"
    }
   ],
   "source": [
    "arr2"
   ]
  },
  {
   "cell_type": "code",
   "execution_count": 186,
   "metadata": {},
   "outputs": [
    {
     "data": {
      "text/plain": [
       "array([1.        , 1.41421356, 1.73205081, 2.        , 2.23606798,\n",
       "       2.44948974, 2.64575131, 2.82842712, 3.        , 3.16227766,\n",
       "       3.31662479, 3.46410162])"
      ]
     },
     "execution_count": 186,
     "metadata": {},
     "output_type": "execute_result"
    }
   ],
   "source": [
    "# take the sqrt of arr1 and store the result in arr2\n",
    "\n",
    "# because arr2 is not the same type as the result of taking the sqrt on arr1\n",
    "# we must change its type, so that it can store the result of the computation (float64)\n",
    "\n",
    "# the previous statement isn't totally true. I used the astype for the conversion, and it turns out that the method returns a copy and doesn't modify the array in-place\n",
    "# so i had to add the type from its initialisation for this to work\n",
    "np.sqrt(arr1, arr2)"
   ]
  },
  {
   "cell_type": "code",
   "execution_count": 187,
   "metadata": {},
   "outputs": [
    {
     "data": {
      "text/plain": [
       "array([1.        , 1.41421356, 1.73205081, 2.        , 2.23606798,\n",
       "       2.44948974, 2.64575131, 2.82842712, 3.        , 3.16227766,\n",
       "       3.31662479, 3.46410162])"
      ]
     },
     "execution_count": 187,
     "metadata": {},
     "output_type": "execute_result"
    }
   ],
   "source": [
    "# check the elements of arr2 and see that it has been modified\n",
    "arr2"
   ]
  },
  {
   "cell_type": "code",
   "execution_count": 189,
   "metadata": {},
   "outputs": [
    {
     "data": {
      "text/plain": [
       "array([ 1,  2,  3,  4,  5,  6,  7,  8,  9, 10, 11, 12])"
      ]
     },
     "execution_count": 189,
     "metadata": {},
     "output_type": "execute_result"
    }
   ],
   "source": [
    "# array remains the same\n",
    "arr1\n"
   ]
  },
  {
   "cell_type": "code",
   "execution_count": 194,
   "metadata": {},
   "outputs": [
    {
     "data": {
      "text/plain": [
       "array([1.        , 1.18920712, 1.31607401, 1.41421356, 1.49534878,\n",
       "       1.56508458, 1.62657656, 1.68179283, 1.73205081, 1.77827941,\n",
       "       1.82116029, 1.86120972])"
      ]
     },
     "execution_count": 194,
     "metadata": {},
     "output_type": "execute_result"
    }
   ],
   "source": [
    "# pass arr1 as the second argument\n",
    "\n",
    "# notice how we had to change the type of the array in memory\n",
    "arr1 = arr1.astype('float64')\n",
    "np.sqrt(arr1, arr1)"
   ]
  },
  {
   "cell_type": "code",
   "execution_count": 195,
   "metadata": {},
   "outputs": [
    {
     "data": {
      "text/plain": [
       "array([1.        , 1.18920712, 1.31607401, 1.41421356, 1.49534878,\n",
       "       1.56508458, 1.62657656, 1.68179283, 1.73205081, 1.77827941,\n",
       "       1.82116029, 1.86120972])"
      ]
     },
     "execution_count": 195,
     "metadata": {},
     "output_type": "execute_result"
    }
   ],
   "source": [
    "arr1"
   ]
  },
  {
   "cell_type": "code",
   "execution_count": 196,
   "metadata": {},
   "outputs": [
    {
     "data": {
      "text/plain": [
       "array([20, 21, 22, 23, 24, 25])"
      ]
     },
     "execution_count": 196,
     "metadata": {},
     "output_type": "execute_result"
    }
   ],
   "source": [
    "arr = np.arange(20, 26)\n",
    "arr"
   ]
  },
  {
   "cell_type": "code",
   "execution_count": 198,
   "metadata": {},
   "outputs": [
    {
     "data": {
      "text/plain": [
       "array([3.04452244, 3.09104245, 3.13549422, 3.17805383, 3.21887582,\n",
       "       3.25809654])"
      ]
     },
     "execution_count": 198,
     "metadata": {},
     "output_type": "execute_result"
    }
   ],
   "source": [
    "#3 return the logarithm to base e, by adding one to all the element before performing the logarithmic computation\n",
    "np.log1p(arr)"
   ]
  },
  {
   "cell_type": "code",
   "execution_count": null,
   "metadata": {},
   "outputs": [],
   "source": []
  }
 ],
 "metadata": {
  "kernelspec": {
   "display_name": "Python 3",
   "language": "python",
   "name": "python3"
  },
  "language_info": {
   "codemirror_mode": {
    "name": "ipython",
    "version": 3
   },
   "file_extension": ".py",
   "mimetype": "text/x-python",
   "name": "python",
   "nbconvert_exporter": "python",
   "pygments_lexer": "ipython3",
   "version": "3.10.12"
  }
 },
 "nbformat": 4,
 "nbformat_minor": 2
}
