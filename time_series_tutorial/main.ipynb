{
 "cells": [
  {
   "cell_type": "code",
   "execution_count": 1,
   "metadata": {},
   "outputs": [],
   "source": [
    "import pandas as pd\n",
    "import numpy as np\n",
    "import matplotlib.pyplot as plt\n",
    "import seaborn as sns "
   ]
  },
  {
   "cell_type": "markdown",
   "metadata": {},
   "source": [
    "\n",
    "---||\n",
    "# Time Series\n",
    "\n",
    "These represent data with time component factored in. That is, a given (set) of data is measured at certain intervals (regular or not) in time.\n",
    "\n",
    "Category of time-series:\n",
    "\n",
    "- fixed frequency (or regular): data points occur at regular time intervals\n",
    "\n",
    "- irregular: no fixed unit of time.\n",
    "\n",
    "Time series data are recorded based on the different kind of application using different **time measurement** as follows:\n",
    "\n",
    "- timestamps: specific instants in time\n",
    "\n",
    "- fixed period: \n",
    "\n",
    "- intervals of time: starting and ending timestamps.\n",
    "\n",
    "---\n",
    "---\n",
    "\n",
    "### Date and Time Data Types\n",
    "\n",
    "Python data and time library: \n",
    "\n",
    "- **datetime**,\n",
    "\n",
    "- **time**\n",
    "\n",
    "- **calendar**"
   ]
  },
  {
   "cell_type": "code",
   "execution_count": 2,
   "metadata": {},
   "outputs": [],
   "source": [
    "# import datetime library \n",
    "\n",
    "from datetime import datetime"
   ]
  },
  {
   "cell_type": "code",
   "execution_count": 4,
   "metadata": {},
   "outputs": [
    {
     "data": {
      "text/plain": [
       "datetime.datetime(2024, 9, 29, 19, 13, 16, 420003)"
      ]
     },
     "execution_count": 4,
     "metadata": {},
     "output_type": "execute_result"
    }
   ],
   "source": [
    "# get the present date, time (hour, minutes, and seconds)\n",
    "\n",
    "now = datetime.now()\n",
    "now"
   ]
  },
  {
   "cell_type": "code",
   "execution_count": 38,
   "metadata": {},
   "outputs": [
    {
     "data": {
      "text/plain": [
       "datetime.date(2024, 9, 29)"
      ]
     },
     "execution_count": 38,
     "metadata": {},
     "output_type": "execute_result"
    }
   ],
   "source": [
    "# get the year component -> year, month and day\n",
    "\n",
    "now.date()"
   ]
  },
  {
   "cell_type": "code",
   "execution_count": 5,
   "metadata": {},
   "outputs": [
    {
     "data": {
      "text/plain": [
       "2024"
      ]
     },
     "execution_count": 5,
     "metadata": {},
     "output_type": "execute_result"
    }
   ],
   "source": [
    "# get the year\n",
    "\n",
    "now.year"
   ]
  },
  {
   "cell_type": "code",
   "execution_count": 6,
   "metadata": {},
   "outputs": [
    {
     "data": {
      "text/plain": [
       "9"
      ]
     },
     "execution_count": 6,
     "metadata": {},
     "output_type": "execute_result"
    }
   ],
   "source": [
    "# get the month\n",
    "\n",
    "now.month"
   ]
  },
  {
   "cell_type": "code",
   "execution_count": 37,
   "metadata": {},
   "outputs": [
    {
     "data": {
      "text/plain": [
       "datetime.time(19, 13, 16, 420003)"
      ]
     },
     "execution_count": 37,
     "metadata": {},
     "output_type": "execute_result"
    }
   ],
   "source": [
    "# get the time component - hour, minutes, second and microseconds\n",
    "\n",
    "now.time()"
   ]
  },
  {
   "cell_type": "code",
   "execution_count": 7,
   "metadata": {},
   "outputs": [
    {
     "data": {
      "text/plain": [
       "29"
      ]
     },
     "execution_count": 7,
     "metadata": {},
     "output_type": "execute_result"
    }
   ],
   "source": [
    "# get the day\n",
    "\n",
    "now.day"
   ]
  },
  {
   "cell_type": "code",
   "execution_count": 8,
   "metadata": {},
   "outputs": [
    {
     "data": {
      "text/plain": [
       "19"
      ]
     },
     "execution_count": 8,
     "metadata": {},
     "output_type": "execute_result"
    }
   ],
   "source": [
    "# get the hour\n",
    "\n",
    "now.hour"
   ]
  },
  {
   "cell_type": "code",
   "execution_count": 9,
   "metadata": {},
   "outputs": [
    {
     "data": {
      "text/plain": [
       "13"
      ]
     },
     "execution_count": 9,
     "metadata": {},
     "output_type": "execute_result"
    }
   ],
   "source": [
    "# get the minutes\n",
    "\n",
    "now.minute"
   ]
  },
  {
   "cell_type": "code",
   "execution_count": 10,
   "metadata": {},
   "outputs": [
    {
     "data": {
      "text/plain": [
       "16"
      ]
     },
     "execution_count": 10,
     "metadata": {},
     "output_type": "execute_result"
    }
   ],
   "source": [
    "# get the seconds\n",
    "\n",
    "now.second"
   ]
  },
  {
   "cell_type": "markdown",
   "metadata": {},
   "source": [
    "\n",
    "---||\n",
    "#### Time-Delta\n",
    "\n",
    "This is a measure of the time difference between two **datetime** objects."
   ]
  },
  {
   "cell_type": "code",
   "execution_count": 12,
   "metadata": {},
   "outputs": [],
   "source": [
    "# get the new_time\n",
    "\n",
    "new_now = datetime.now()\n"
   ]
  },
  {
   "cell_type": "code",
   "execution_count": 13,
   "metadata": {},
   "outputs": [
    {
     "data": {
      "text/plain": [
       "(19, 19, 7)"
      ]
     },
     "execution_count": 13,
     "metadata": {},
     "output_type": "execute_result"
    }
   ],
   "source": [
    "# note; still same year, month and day; main difference is the hour, minutes and sec\n",
    "\n",
    "new_now.hour, new_now.minute, new_now.second"
   ]
  },
  {
   "cell_type": "code",
   "execution_count": 15,
   "metadata": {},
   "outputs": [
    {
     "data": {
      "text/plain": [
       "datetime.timedelta(seconds=350, microseconds=776828)"
      ]
     },
     "execution_count": 15,
     "metadata": {},
     "output_type": "execute_result"
    }
   ],
   "source": [
    "# get the time-delta between previous now and the new now\n",
    "\n",
    "# still same hour\n",
    "new_now - now"
   ]
  },
  {
   "cell_type": "code",
   "execution_count": 29,
   "metadata": {},
   "outputs": [
    {
     "data": {
      "text/plain": [
       "datetime.timedelta(days=3035, seconds=60180)"
      ]
     },
     "execution_count": 29,
     "metadata": {},
     "output_type": "execute_result"
    }
   ],
   "source": [
    "# get timedelta between different datetime object\n",
    "\n",
    "delta = datetime(2024, 1, 20, 16, 43) - datetime(2015, 9, 29)\n",
    "\n",
    "delta"
   ]
  },
  {
   "cell_type": "code",
   "execution_count": 31,
   "metadata": {},
   "outputs": [
    {
     "data": {
      "text/plain": [
       "3035"
      ]
     },
     "execution_count": 31,
     "metadata": {},
     "output_type": "execute_result"
    }
   ],
   "source": [
    "# days elapsed\n",
    "\n",
    "delta.days"
   ]
  },
  {
   "cell_type": "code",
   "execution_count": 30,
   "metadata": {},
   "outputs": [
    {
     "data": {
      "text/plain": [
       "60180"
      ]
     },
     "execution_count": 30,
     "metadata": {},
     "output_type": "execute_result"
    }
   ],
   "source": [
    "# seconds elapsed\n",
    "\n",
    "delta.seconds"
   ]
  },
  {
   "cell_type": "markdown",
   "metadata": {},
   "source": [
    "timedelta can be added (subtracted) to (from) a datetime object"
   ]
  },
  {
   "cell_type": "code",
   "execution_count": 32,
   "metadata": {},
   "outputs": [],
   "source": [
    "# working with the timedelta object directly\n",
    "\n",
    "from datetime import timedelta\n",
    "\n",
    "start = datetime(2017, 11, 13)"
   ]
  },
  {
   "cell_type": "code",
   "execution_count": 33,
   "metadata": {},
   "outputs": [
    {
     "data": {
      "text/plain": [
       "datetime.timedelta(days=12, seconds=3154)"
      ]
     },
     "execution_count": 33,
     "metadata": {},
     "output_type": "execute_result"
    }
   ],
   "source": [
    "delta = timedelta(days=12, minutes=32, seconds=1234)\n",
    "\n",
    "delta"
   ]
  },
  {
   "cell_type": "code",
   "execution_count": 34,
   "metadata": {},
   "outputs": [
    {
     "data": {
      "text/plain": [
       "datetime.datetime(2017, 11, 25, 0, 52, 34)"
      ]
     },
     "execution_count": 34,
     "metadata": {},
     "output_type": "execute_result"
    }
   ],
   "source": [
    "start + delta"
   ]
  },
  {
   "cell_type": "markdown",
   "metadata": {},
   "source": [
    "converting datetime to a string object and vice-versa using\n",
    "\n",
    "- converting to string using the **str** function\n",
    "\n",
    "- using **strftime** to change the format of the datetime object"
   ]
  },
  {
   "cell_type": "code",
   "execution_count": 5,
   "metadata": {},
   "outputs": [],
   "source": [
    "stamp = datetime(2013, 12, 30)"
   ]
  },
  {
   "cell_type": "code",
   "execution_count": 6,
   "metadata": {},
   "outputs": [
    {
     "data": {
      "text/plain": [
       "'2013-12-30 00:00:00'"
      ]
     },
     "execution_count": 6,
     "metadata": {},
     "output_type": "execute_result"
    }
   ],
   "source": [
    "# convert to a string representation\n",
    "\n",
    "str(stamp)"
   ]
  },
  {
   "cell_type": "markdown",
   "metadata": {},
   "source": [
    "Time Format:\n",
    "\n",
    "\n",
    "- **%D**: Date\n",
    "- **%d**: Day\n",
    "\n",
    "- **%M**: Minutes\n",
    "- **%m**: Month\n",
    "\n",
    "- **%Y**: Four digit year (e.g. '2013')\n",
    "- **%y**: Two-digit of year (e.g. '13)\n",
    "\n",
    "- **%H**: 24-hour format\n",
    "- **%I**: 12-hour format\n",
    "\n",
    "\n",
    "- **%S**: Second\n",
    "- **%w**: weekday [ (0 -> Sunday) to (6 -> Saturday) ]\n",
    "\n",
    "> Any combination of this may be used to format a datetime object; the seperator should be specified if necessary"
   ]
  },
  {
   "cell_type": "code",
   "execution_count": 7,
   "metadata": {},
   "outputs": [
    {
     "data": {
      "text/plain": [
       "'30-12-13'"
      ]
     },
     "execution_count": 7,
     "metadata": {},
     "output_type": "execute_result"
    }
   ],
   "source": [
    "# change the format from (year, month, day, time) -> (day, month, year)\n",
    "\n",
    "stamp.strftime('%d-%m-%y')"
   ]
  },
  {
   "cell_type": "code",
   "execution_count": 8,
   "metadata": {},
   "outputs": [
    {
     "data": {
      "text/plain": [
       "'12-13'"
      ]
     },
     "execution_count": 8,
     "metadata": {},
     "output_type": "execute_result"
    }
   ],
   "source": [
    "stamp.strftime(\"%m-%y\")"
   ]
  },
  {
   "cell_type": "markdown",
   "metadata": {},
   "source": [
    "**strptime** is used for parsing date with a *known* format"
   ]
  },
  {
   "cell_type": "code",
   "execution_count": 3,
   "metadata": {},
   "outputs": [],
   "source": [
    "from dateutil.parser import parse"
   ]
  },
  {
   "cell_type": "code",
   "execution_count": 4,
   "metadata": {},
   "outputs": [
    {
     "data": {
      "text/plain": [
       "datetime.datetime(2011, 1, 3, 0, 0)"
      ]
     },
     "execution_count": 4,
     "metadata": {},
     "output_type": "execute_result"
    }
   ],
   "source": [
    "parse('2011-01-03')"
   ]
  },
  {
   "cell_type": "code",
   "execution_count": 10,
   "metadata": {},
   "outputs": [
    {
     "data": {
      "text/plain": [
       "datetime.datetime(2024, 9, 30, 11, 1)"
      ]
     },
     "execution_count": 10,
     "metadata": {},
     "output_type": "execute_result"
    }
   ],
   "source": [
    "parse('Sept 30, 2024 11:01 AM')"
   ]
  },
  {
   "cell_type": "markdown",
   "metadata": {},
   "source": [
    "Pandas **to_datetime** function is used to convert a datetime-like object to a pandas object -> DatetimeIndex"
   ]
  },
  {
   "cell_type": "code",
   "execution_count": 13,
   "metadata": {},
   "outputs": [
    {
     "data": {
      "text/plain": [
       "[datetime.datetime(2013, 5, 25, 21, 0), datetime.datetime(2024, 8, 20, 5, 0)]"
      ]
     },
     "execution_count": 13,
     "metadata": {},
     "output_type": "execute_result"
    }
   ],
   "source": [
    "data = [parse('May 25, 2013 9 PM'), parse('Aug 20, 2024, 5 AM')]\n",
    "\n",
    "data"
   ]
  },
  {
   "cell_type": "code",
   "execution_count": 14,
   "metadata": {},
   "outputs": [
    {
     "data": {
      "text/plain": [
       "DatetimeIndex(['2013-05-25 21:00:00', '2024-08-20 05:00:00'], dtype='datetime64[ns]', freq=None)"
      ]
     },
     "execution_count": 14,
     "metadata": {},
     "output_type": "execute_result"
    }
   ],
   "source": [
    "pd.to_datetime(data)"
   ]
  },
  {
   "cell_type": "markdown",
   "metadata": {},
   "source": [
    "A datetime object missing value is represented as **NaT (not a time)**\n",
    "\n",
    "---\n",
    "---||\n",
    "### Time Series Basics"
   ]
  },
  {
   "cell_type": "code",
   "execution_count": 10,
   "metadata": {},
   "outputs": [],
   "source": [
    "from datetime import datetime"
   ]
  },
  {
   "cell_type": "code",
   "execution_count": 11,
   "metadata": {},
   "outputs": [
    {
     "data": {
      "text/plain": [
       "2024-01-03    1.156774\n",
       "2024-02-04   -1.189575\n",
       "2024-03-06   -0.897435\n",
       "2024-04-09    1.123229\n",
       "2024-05-11   -1.369784\n",
       "2024-06-12    0.187728\n",
       "2024-07-17   -1.092136\n",
       "2024-08-20    0.626905\n",
       "2024-09-26   -1.585301\n",
       "2024-10-30   -0.065751\n",
       "dtype: float64"
      ]
     },
     "execution_count": 11,
     "metadata": {},
     "output_type": "execute_result"
    }
   ],
   "source": [
    "# get a time series indexed by timestamps\n",
    "\n",
    "dates = [\n",
    "  datetime(2024, 1, 3),\n",
    "  datetime(2024, 2, 4),\n",
    "  datetime(2024, 3, 6),\n",
    "  datetime(2024, 4, 9),\n",
    "  datetime(2024, 5, 11),\n",
    "  datetime(2024, 6, 12),\n",
    "  datetime(2024, 7, 17),\n",
    "  datetime(2024, 8, 20),\n",
    "  datetime(2024, 9, 26),\n",
    "  datetime(2024, 10, 30),\n",
    "]\n",
    "\n",
    "ts = pd.Series(np.random.randn(10), index=dates)\n",
    "\n",
    "ts"
   ]
  },
  {
   "cell_type": "code",
   "execution_count": 18,
   "metadata": {},
   "outputs": [
    {
     "data": {
      "text/plain": [
       "DatetimeIndex(['2024-01-03', '2024-02-04', '2024-03-06', '2024-04-09',\n",
       "               '2024-05-11', '2024-06-12', '2024-07-17', '2024-08-20',\n",
       "               '2024-09-26', '2024-10-30'],\n",
       "              dtype='datetime64[ns]', freq=None)"
      ]
     },
     "execution_count": 18,
     "metadata": {},
     "output_type": "execute_result"
    }
   ],
   "source": [
    "# check the index ts\n",
    "\n",
    "ts.index"
   ]
  },
  {
   "cell_type": "code",
   "execution_count": 19,
   "metadata": {},
   "outputs": [
    {
     "data": {
      "text/plain": [
       "dtype('<M8[ns]')"
      ]
     },
     "execution_count": 19,
     "metadata": {},
     "output_type": "execute_result"
    }
   ],
   "source": [
    "# datatype of ts\n",
    "\n",
    "ts.index.dtype"
   ]
  },
  {
   "cell_type": "code",
   "execution_count": 20,
   "metadata": {},
   "outputs": [
    {
     "data": {
      "text/plain": [
       "Timestamp('2024-04-09 00:00:00')"
      ]
     },
     "execution_count": 20,
     "metadata": {},
     "output_type": "execute_result"
    }
   ],
   "source": [
    "# get a timestamp object\n",
    "\n",
    "stamp = ts.index[3]\n",
    "\n",
    "stamp"
   ]
  },
  {
   "cell_type": "code",
   "execution_count": 29,
   "metadata": {},
   "outputs": [
    {
     "data": {
      "text/plain": [
       "2024-07-17    1.106071\n",
       "dtype: float64"
      ]
     },
     "execution_count": 29,
     "metadata": {},
     "output_type": "execute_result"
    }
   ],
   "source": [
    "ts['7/2024']"
   ]
  },
  {
   "cell_type": "markdown",
   "metadata": {},
   "source": [
    "**date_range** function, takes a starting datetime and the number of periods to add so as to generate a list"
   ]
  },
  {
   "cell_type": "code",
   "execution_count": 34,
   "metadata": {},
   "outputs": [],
   "source": [
    "index = pd.date_range('05-06-2010', end=None, periods=500)"
   ]
  },
  {
   "cell_type": "code",
   "execution_count": 35,
   "metadata": {},
   "outputs": [
    {
     "data": {
      "text/plain": [
       "2010-05-06   -0.486220\n",
       "2010-05-07    1.900111\n",
       "2010-05-08   -0.140583\n",
       "2010-05-09    0.058644\n",
       "2010-05-10   -0.010430\n",
       "                ...   \n",
       "2011-09-13    0.911424\n",
       "2011-09-14   -0.450865\n",
       "2011-09-15   -0.207405\n",
       "2011-09-16   -0.057241\n",
       "2011-09-17    1.201797\n",
       "Freq: D, Length: 500, dtype: float64"
      ]
     },
     "execution_count": 35,
     "metadata": {},
     "output_type": "execute_result"
    }
   ],
   "source": [
    "ts2 = pd.Series(np.random.randn(len(index)), index=index)\n",
    "\n",
    "ts2"
   ]
  },
  {
   "cell_type": "code",
   "execution_count": 36,
   "metadata": {},
   "outputs": [
    {
     "data": {
      "text/plain": [
       "2011-01-01    0.312138\n",
       "2011-01-02    0.291174\n",
       "2011-01-03   -1.853702\n",
       "2011-01-04   -0.542990\n",
       "2011-01-05    0.022637\n",
       "                ...   \n",
       "2011-09-13    0.911424\n",
       "2011-09-14   -0.450865\n",
       "2011-09-15   -0.207405\n",
       "2011-09-16   -0.057241\n",
       "2011-09-17    1.201797\n",
       "Freq: D, Length: 260, dtype: float64"
      ]
     },
     "execution_count": 36,
     "metadata": {},
     "output_type": "execute_result"
    }
   ],
   "source": [
    "ts2['2011']"
   ]
  },
  {
   "cell_type": "code",
   "execution_count": 37,
   "metadata": {},
   "outputs": [
    {
     "data": {
      "text/plain": [
       "2010-05-06   -0.486220\n",
       "2010-05-07    1.900111\n",
       "2010-05-08   -0.140583\n",
       "2010-05-09    0.058644\n",
       "2010-05-10   -0.010430\n",
       "2010-05-11    0.552440\n",
       "2010-05-12   -0.906776\n",
       "2010-05-13    0.223298\n",
       "2010-05-14   -0.080754\n",
       "2010-05-15   -0.612495\n",
       "2010-05-16    0.024339\n",
       "2010-05-17   -1.405387\n",
       "2010-05-18   -0.113842\n",
       "2010-05-19    0.266988\n",
       "2010-05-20   -0.111341\n",
       "2010-05-21    0.742994\n",
       "2010-05-22    0.131965\n",
       "2010-05-23    0.469956\n",
       "2010-05-24   -1.561097\n",
       "2010-05-25    0.903390\n",
       "2010-05-26   -0.900696\n",
       "2010-05-27   -0.559421\n",
       "2010-05-28    0.232470\n",
       "2010-05-29    0.831692\n",
       "2010-05-30    2.187910\n",
       "2010-05-31    1.209643\n",
       "Freq: D, dtype: float64"
      ]
     },
     "execution_count": 37,
     "metadata": {},
     "output_type": "execute_result"
    }
   ],
   "source": [
    "ts2['2010-05']"
   ]
  },
  {
   "cell_type": "markdown",
   "metadata": {},
   "source": [
    "Range enquiry may start and end with values that may (or may not) belong in the series "
   ]
  },
  {
   "cell_type": "code",
   "execution_count": 39,
   "metadata": {},
   "outputs": [
    {
     "data": {
      "text/plain": [
       "2010-05-06   -0.486220\n",
       "2010-05-07    1.900111\n",
       "2010-05-08   -0.140583\n",
       "2010-05-09    0.058644\n",
       "2010-05-10   -0.010430\n",
       "2010-05-11    0.552440\n",
       "2010-05-12   -0.906776\n",
       "2010-05-13    0.223298\n",
       "2010-05-14   -0.080754\n",
       "2010-05-15   -0.612495\n",
       "2010-05-16    0.024339\n",
       "2010-05-17   -1.405387\n",
       "2010-05-18   -0.113842\n",
       "2010-05-19    0.266988\n",
       "2010-05-20   -0.111341\n",
       "2010-05-21    0.742994\n",
       "2010-05-22    0.131965\n",
       "2010-05-23    0.469956\n",
       "2010-05-24   -1.561097\n",
       "2010-05-25    0.903390\n",
       "2010-05-26   -0.900696\n",
       "2010-05-27   -0.559421\n",
       "2010-05-28    0.232470\n",
       "2010-05-29    0.831692\n",
       "2010-05-30    2.187910\n",
       "2010-05-31    1.209643\n",
       "2010-06-01   -0.334824\n",
       "2010-06-02    0.757810\n",
       "2010-06-03    0.338071\n",
       "Freq: D, dtype: float64"
      ]
     },
     "execution_count": 39,
     "metadata": {},
     "output_type": "execute_result"
    }
   ],
   "source": [
    "# slices\n",
    "\n",
    "# note the starting value is not in the series\n",
    "ts2['2010-01-01': '2010-06-03']"
   ]
  },
  {
   "cell_type": "markdown",
   "metadata": {},
   "source": [
    "**truncate** allows slices the data **before** and/or **after** a given value(s)"
   ]
  },
  {
   "cell_type": "code",
   "execution_count": 40,
   "metadata": {},
   "outputs": [
    {
     "data": {
      "text/plain": [
       "2024-01-03   -2.030289\n",
       "2024-02-04   -0.033228\n",
       "2024-03-06   -0.337515\n",
       "2024-04-09    1.887770\n",
       "2024-05-11    0.484812\n",
       "dtype: float64"
      ]
     },
     "execution_count": 40,
     "metadata": {},
     "output_type": "execute_result"
    }
   ],
   "source": [
    "ts.head()"
   ]
  },
  {
   "cell_type": "code",
   "execution_count": 48,
   "metadata": {},
   "outputs": [
    {
     "data": {
      "text/plain": [
       "2024-04-09    1.887770\n",
       "2024-05-11    0.484812\n",
       "2024-06-12    1.093502\n",
       "2024-07-17    1.106071\n",
       "2024-08-20    0.274829\n",
       "2024-09-26    1.213179\n",
       "2024-10-30    0.138284\n",
       "dtype: float64"
      ]
     },
     "execution_count": 48,
     "metadata": {},
     "output_type": "execute_result"
    }
   ],
   "source": [
    "# truncate all the data points before the specified value\n",
    "\n",
    "ts.truncate(before='2024-04')"
   ]
  },
  {
   "cell_type": "code",
   "execution_count": 49,
   "metadata": {},
   "outputs": [
    {
     "data": {
      "text/plain": [
       "2024-01-03   -2.030289\n",
       "2024-02-04   -0.033228\n",
       "2024-03-06   -0.337515\n",
       "2024-04-09    1.887770\n",
       "2024-05-11    0.484812\n",
       "2024-06-12    1.093502\n",
       "2024-07-17    1.106071\n",
       "2024-08-20    0.274829\n",
       "dtype: float64"
      ]
     },
     "execution_count": 49,
     "metadata": {},
     "output_type": "execute_result"
    }
   ],
   "source": [
    "# truncate all the data points after the specified value\n",
    "\n",
    "ts.truncate( after='2024-09')"
   ]
  },
  {
   "cell_type": "code",
   "execution_count": 50,
   "metadata": {},
   "outputs": [
    {
     "data": {
      "text/plain": [
       "2024-04-09    1.887770\n",
       "2024-05-11    0.484812\n",
       "2024-06-12    1.093502\n",
       "2024-07-17    1.106071\n",
       "2024-08-20    0.274829\n",
       "dtype: float64"
      ]
     },
     "execution_count": 50,
     "metadata": {},
     "output_type": "execute_result"
    }
   ],
   "source": [
    "# similar to slicing between two values\n",
    "\n",
    "ts.truncate(before='2024-04', after='2024-09')"
   ]
  },
  {
   "cell_type": "code",
   "execution_count": 30,
   "metadata": {},
   "outputs": [
    {
     "data": {
      "text/html": [
       "<div>\n",
       "<style scoped>\n",
       "    .dataframe tbody tr th:only-of-type {\n",
       "        vertical-align: middle;\n",
       "    }\n",
       "\n",
       "    .dataframe tbody tr th {\n",
       "        vertical-align: top;\n",
       "    }\n",
       "\n",
       "    .dataframe thead tr th {\n",
       "        text-align: left;\n",
       "    }\n",
       "</style>\n",
       "<table border=\"1\" class=\"dataframe\">\n",
       "  <thead>\n",
       "    <tr>\n",
       "      <th></th>\n",
       "      <th>A</th>\n",
       "      <th>B</th>\n",
       "      <th>C</th>\n",
       "      <th>D</th>\n",
       "      <th>E</th>\n",
       "      <th>F</th>\n",
       "    </tr>\n",
       "  </thead>\n",
       "  <tbody>\n",
       "    <tr>\n",
       "      <th>2024-09-30</th>\n",
       "      <td>-0.053654</td>\n",
       "      <td>-0.898007</td>\n",
       "      <td>-0.352058</td>\n",
       "      <td>-0.432450</td>\n",
       "      <td>0.519633</td>\n",
       "      <td>1.452864</td>\n",
       "    </tr>\n",
       "    <tr>\n",
       "      <th>2024-11-30</th>\n",
       "      <td>0.490116</td>\n",
       "      <td>0.746653</td>\n",
       "      <td>-0.254472</td>\n",
       "      <td>-0.616039</td>\n",
       "      <td>-1.662282</td>\n",
       "      <td>1.460309</td>\n",
       "    </tr>\n",
       "    <tr>\n",
       "      <th>2025-01-31</th>\n",
       "      <td>-0.986334</td>\n",
       "      <td>-0.413577</td>\n",
       "      <td>0.202971</td>\n",
       "      <td>0.638971</td>\n",
       "      <td>1.078456</td>\n",
       "      <td>0.202300</td>\n",
       "    </tr>\n",
       "    <tr>\n",
       "      <th>2025-03-31</th>\n",
       "      <td>0.022737</td>\n",
       "      <td>0.339843</td>\n",
       "      <td>-0.334861</td>\n",
       "      <td>0.597315</td>\n",
       "      <td>-1.753840</td>\n",
       "      <td>0.181129</td>\n",
       "    </tr>\n",
       "    <tr>\n",
       "      <th>2025-05-31</th>\n",
       "      <td>0.909638</td>\n",
       "      <td>-0.889156</td>\n",
       "      <td>0.560633</td>\n",
       "      <td>0.429995</td>\n",
       "      <td>0.254626</td>\n",
       "      <td>-1.225863</td>\n",
       "    </tr>\n",
       "  </tbody>\n",
       "</table>\n",
       "</div>"
      ],
      "text/plain": [
       "                   A         B         C         D         E         F\n",
       "2024-09-30 -0.053654 -0.898007 -0.352058 -0.432450  0.519633  1.452864\n",
       "2024-11-30  0.490116  0.746653 -0.254472 -0.616039 -1.662282  1.460309\n",
       "2025-01-31 -0.986334 -0.413577  0.202971  0.638971  1.078456  0.202300\n",
       "2025-03-31  0.022737  0.339843 -0.334861  0.597315 -1.753840  0.181129\n",
       "2025-05-31  0.909638 -0.889156  0.560633  0.429995  0.254626 -1.225863"
      ]
     },
     "execution_count": 30,
     "metadata": {},
     "output_type": "execute_result"
    }
   ],
   "source": [
    "ts = pd.DataFrame(\n",
    "  data=np.random.randn(600).reshape(100, 6),\n",
    "  index=pd.date_range(\n",
    "    start='2024-09-12', \n",
    "    periods=100, \n",
    "    freq='2M' # every four(4) months from the starting data\n",
    "  ),\n",
    "  columns=[list('ABCDEF')]\n",
    ")\n",
    "\n",
    "ts.head()"
   ]
  },
  {
   "cell_type": "code",
   "execution_count": 31,
   "metadata": {},
   "outputs": [
    {
     "data": {
      "text/html": [
       "<div>\n",
       "<style scoped>\n",
       "    .dataframe tbody tr th:only-of-type {\n",
       "        vertical-align: middle;\n",
       "    }\n",
       "\n",
       "    .dataframe tbody tr th {\n",
       "        vertical-align: top;\n",
       "    }\n",
       "\n",
       "    .dataframe thead tr th {\n",
       "        text-align: left;\n",
       "    }\n",
       "</style>\n",
       "<table border=\"1\" class=\"dataframe\">\n",
       "  <thead>\n",
       "    <tr>\n",
       "      <th></th>\n",
       "      <th>A</th>\n",
       "      <th>B</th>\n",
       "      <th>C</th>\n",
       "      <th>D</th>\n",
       "      <th>E</th>\n",
       "      <th>F</th>\n",
       "    </tr>\n",
       "  </thead>\n",
       "  <tbody>\n",
       "    <tr>\n",
       "      <th>2025-01-31</th>\n",
       "      <td>-0.986334</td>\n",
       "      <td>-0.413577</td>\n",
       "      <td>0.202971</td>\n",
       "      <td>0.638971</td>\n",
       "      <td>1.078456</td>\n",
       "      <td>0.202300</td>\n",
       "    </tr>\n",
       "    <tr>\n",
       "      <th>2025-03-31</th>\n",
       "      <td>0.022737</td>\n",
       "      <td>0.339843</td>\n",
       "      <td>-0.334861</td>\n",
       "      <td>0.597315</td>\n",
       "      <td>-1.753840</td>\n",
       "      <td>0.181129</td>\n",
       "    </tr>\n",
       "    <tr>\n",
       "      <th>2025-05-31</th>\n",
       "      <td>0.909638</td>\n",
       "      <td>-0.889156</td>\n",
       "      <td>0.560633</td>\n",
       "      <td>0.429995</td>\n",
       "      <td>0.254626</td>\n",
       "      <td>-1.225863</td>\n",
       "    </tr>\n",
       "    <tr>\n",
       "      <th>2025-07-31</th>\n",
       "      <td>0.782683</td>\n",
       "      <td>0.401639</td>\n",
       "      <td>0.742606</td>\n",
       "      <td>-0.387254</td>\n",
       "      <td>1.130218</td>\n",
       "      <td>0.058935</td>\n",
       "    </tr>\n",
       "    <tr>\n",
       "      <th>2025-09-30</th>\n",
       "      <td>-1.532775</td>\n",
       "      <td>-0.298403</td>\n",
       "      <td>-1.399780</td>\n",
       "      <td>-0.737208</td>\n",
       "      <td>0.466735</td>\n",
       "      <td>-1.576423</td>\n",
       "    </tr>\n",
       "    <tr>\n",
       "      <th>2025-11-30</th>\n",
       "      <td>0.975054</td>\n",
       "      <td>-0.381182</td>\n",
       "      <td>-0.235731</td>\n",
       "      <td>-1.402067</td>\n",
       "      <td>-0.457854</td>\n",
       "      <td>-0.835175</td>\n",
       "    </tr>\n",
       "  </tbody>\n",
       "</table>\n",
       "</div>"
      ],
      "text/plain": [
       "                   A         B         C         D         E         F\n",
       "2025-01-31 -0.986334 -0.413577  0.202971  0.638971  1.078456  0.202300\n",
       "2025-03-31  0.022737  0.339843 -0.334861  0.597315 -1.753840  0.181129\n",
       "2025-05-31  0.909638 -0.889156  0.560633  0.429995  0.254626 -1.225863\n",
       "2025-07-31  0.782683  0.401639  0.742606 -0.387254  1.130218  0.058935\n",
       "2025-09-30 -1.532775 -0.298403 -1.399780 -0.737208  0.466735 -1.576423\n",
       "2025-11-30  0.975054 -0.381182 -0.235731 -1.402067 -0.457854 -0.835175"
      ]
     },
     "execution_count": 31,
     "metadata": {},
     "output_type": "execute_result"
    }
   ],
   "source": [
    "# select data indexed by year 2026\n",
    "\n",
    "ts.loc['2025']"
   ]
  },
  {
   "cell_type": "code",
   "execution_count": 33,
   "metadata": {},
   "outputs": [
    {
     "data": {
      "text/html": [
       "<div>\n",
       "<style scoped>\n",
       "    .dataframe tbody tr th:only-of-type {\n",
       "        vertical-align: middle;\n",
       "    }\n",
       "\n",
       "    .dataframe tbody tr th {\n",
       "        vertical-align: top;\n",
       "    }\n",
       "\n",
       "    .dataframe thead tr th {\n",
       "        text-align: left;\n",
       "    }\n",
       "</style>\n",
       "<table border=\"1\" class=\"dataframe\">\n",
       "  <thead>\n",
       "    <tr>\n",
       "      <th></th>\n",
       "      <th>A</th>\n",
       "      <th>B</th>\n",
       "      <th>C</th>\n",
       "      <th>D</th>\n",
       "      <th>E</th>\n",
       "      <th>F</th>\n",
       "    </tr>\n",
       "  </thead>\n",
       "  <tbody>\n",
       "    <tr>\n",
       "      <th>2025-05-31</th>\n",
       "      <td>0.909638</td>\n",
       "      <td>-0.889156</td>\n",
       "      <td>0.560633</td>\n",
       "      <td>0.429995</td>\n",
       "      <td>0.254626</td>\n",
       "      <td>-1.225863</td>\n",
       "    </tr>\n",
       "    <tr>\n",
       "      <th>2025-07-31</th>\n",
       "      <td>0.782683</td>\n",
       "      <td>0.401639</td>\n",
       "      <td>0.742606</td>\n",
       "      <td>-0.387254</td>\n",
       "      <td>1.130218</td>\n",
       "      <td>0.058935</td>\n",
       "    </tr>\n",
       "    <tr>\n",
       "      <th>2025-09-30</th>\n",
       "      <td>-1.532775</td>\n",
       "      <td>-0.298403</td>\n",
       "      <td>-1.399780</td>\n",
       "      <td>-0.737208</td>\n",
       "      <td>0.466735</td>\n",
       "      <td>-1.576423</td>\n",
       "    </tr>\n",
       "  </tbody>\n",
       "</table>\n",
       "</div>"
      ],
      "text/plain": [
       "                   A         B         C         D         E         F\n",
       "2025-05-31  0.909638 -0.889156  0.560633  0.429995  0.254626 -1.225863\n",
       "2025-07-31  0.782683  0.401639  0.742606 -0.387254  1.130218  0.058935\n",
       "2025-09-30 -1.532775 -0.298403 -1.399780 -0.737208  0.466735 -1.576423"
      ]
     },
     "execution_count": 33,
     "metadata": {},
     "output_type": "execute_result"
    }
   ],
   "source": [
    "# select data after 2025-05, and before 2025-10\n",
    "\n",
    "ts.truncate(before='2025-05', after='2025-10')"
   ]
  }
 ],
 "metadata": {
  "kernelspec": {
   "display_name": "Python 3",
   "language": "python",
   "name": "python3"
  },
  "language_info": {
   "codemirror_mode": {
    "name": "ipython",
    "version": 3
   },
   "file_extension": ".py",
   "mimetype": "text/x-python",
   "name": "python",
   "nbconvert_exporter": "python",
   "pygments_lexer": "ipython3",
   "version": "3.10.12"
  }
 },
 "nbformat": 4,
 "nbformat_minor": 2
}
