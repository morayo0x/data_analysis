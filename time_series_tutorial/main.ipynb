{
 "cells": [
  {
   "cell_type": "code",
   "execution_count": 1,
   "metadata": {},
   "outputs": [],
   "source": [
    "import pandas as pd\n",
    "import numpy as np\n",
    "import matplotlib.pyplot as plt\n",
    "import seaborn as sns "
   ]
  },
  {
   "cell_type": "markdown",
   "metadata": {},
   "source": [
    "\n",
    "---||\n",
    "# Time Series\n",
    "\n",
    "These represent data with time component factored in. That is, a given (set) of data is measured at certain intervals (regular or not) in time.\n",
    "\n",
    "Category of time-series:\n",
    "\n",
    "- fixed frequency (or regular): data points occur at regular time intervals\n",
    "\n",
    "- irregular: no fixed unit of time.\n",
    "\n",
    "Time series data are recorded based on the different kind of application using different **time measurement** as follows:\n",
    "\n",
    "- timestamps: specific instants in time\n",
    "\n",
    "- fixed period: \n",
    "\n",
    "- intervals of time: starting and ending timestamps.\n",
    "\n",
    "---\n",
    "---\n",
    "\n",
    "### Date and Time Data Types\n",
    "\n",
    "Python data and time library: \n",
    "\n",
    "- **datetime**,\n",
    "\n",
    "- **time**\n",
    "\n",
    "- **calendar**"
   ]
  },
  {
   "cell_type": "code",
   "execution_count": 2,
   "metadata": {},
   "outputs": [],
   "source": [
    "# import datetime library \n",
    "\n",
    "from datetime import datetime"
   ]
  },
  {
   "cell_type": "code",
   "execution_count": null,
   "metadata": {},
   "outputs": [],
   "source": [
    "# get the present date, time (hour, minutes, and seconds)\n",
    "\n",
    "now = datetime.now()\n",
    "now"
   ]
  },
  {
   "cell_type": "code",
   "execution_count": null,
   "metadata": {},
   "outputs": [],
   "source": [
    "# get the year component -> year, month and day\n",
    "\n",
    "now.date()"
   ]
  },
  {
   "cell_type": "code",
   "execution_count": null,
   "metadata": {},
   "outputs": [],
   "source": [
    "# get the year\n",
    "\n",
    "now.year"
   ]
  },
  {
   "cell_type": "code",
   "execution_count": null,
   "metadata": {},
   "outputs": [],
   "source": [
    "# get the month\n",
    "\n",
    "now.month"
   ]
  },
  {
   "cell_type": "code",
   "execution_count": null,
   "metadata": {},
   "outputs": [],
   "source": [
    "# get the time component - hour, minutes, second and microseconds\n",
    "\n",
    "now.time()"
   ]
  },
  {
   "cell_type": "code",
   "execution_count": null,
   "metadata": {},
   "outputs": [],
   "source": [
    "# get the day\n",
    "\n",
    "now.day"
   ]
  },
  {
   "cell_type": "code",
   "execution_count": null,
   "metadata": {},
   "outputs": [],
   "source": [
    "# get the hour\n",
    "\n",
    "now.hour"
   ]
  },
  {
   "cell_type": "code",
   "execution_count": null,
   "metadata": {},
   "outputs": [],
   "source": [
    "# get the minutes\n",
    "\n",
    "now.minute"
   ]
  },
  {
   "cell_type": "code",
   "execution_count": null,
   "metadata": {},
   "outputs": [],
   "source": [
    "# get the seconds\n",
    "\n",
    "now.second"
   ]
  },
  {
   "cell_type": "markdown",
   "metadata": {},
   "source": [
    "\n",
    "---||\n",
    "#### Time-Delta\n",
    "\n",
    "This is a measure of the time difference between two **datetime** objects."
   ]
  },
  {
   "cell_type": "code",
   "execution_count": 12,
   "metadata": {},
   "outputs": [],
   "source": [
    "# get the new_time\n",
    "\n",
    "new_now = datetime.now()\n"
   ]
  },
  {
   "cell_type": "code",
   "execution_count": null,
   "metadata": {},
   "outputs": [],
   "source": [
    "# note; still same year, month and day; main difference is the hour, minutes and sec\n",
    "\n",
    "new_now.hour, new_now.minute, new_now.second"
   ]
  },
  {
   "cell_type": "code",
   "execution_count": null,
   "metadata": {},
   "outputs": [],
   "source": [
    "# get the time-delta between previous now and the new now\n",
    "\n",
    "# still same hour\n",
    "new_now - now"
   ]
  },
  {
   "cell_type": "code",
   "execution_count": null,
   "metadata": {},
   "outputs": [],
   "source": [
    "# get timedelta between different datetime object\n",
    "\n",
    "delta = datetime(2024, 1, 20, 16, 43) - datetime(2015, 9, 29)\n",
    "\n",
    "delta"
   ]
  },
  {
   "cell_type": "code",
   "execution_count": null,
   "metadata": {},
   "outputs": [],
   "source": [
    "# days elapsed\n",
    "\n",
    "delta.days"
   ]
  },
  {
   "cell_type": "code",
   "execution_count": null,
   "metadata": {},
   "outputs": [],
   "source": [
    "# seconds elapsed\n",
    "\n",
    "delta.seconds"
   ]
  },
  {
   "cell_type": "markdown",
   "metadata": {},
   "source": [
    "timedelta can be added (subtracted) to (from) a datetime object"
   ]
  },
  {
   "cell_type": "code",
   "execution_count": 32,
   "metadata": {},
   "outputs": [],
   "source": [
    "# working with the timedelta object directly\n",
    "\n",
    "from datetime import timedelta\n",
    "\n",
    "start = datetime(2017, 11, 13)"
   ]
  },
  {
   "cell_type": "code",
   "execution_count": null,
   "metadata": {},
   "outputs": [],
   "source": [
    "delta = timedelta(days=12, minutes=32, seconds=1234)\n",
    "\n",
    "delta"
   ]
  },
  {
   "cell_type": "code",
   "execution_count": null,
   "metadata": {},
   "outputs": [],
   "source": [
    "start + delta"
   ]
  },
  {
   "cell_type": "markdown",
   "metadata": {},
   "source": [
    "converting datetime to a string object and vice-versa using\n",
    "\n",
    "- converting to string using the **str** function\n",
    "\n",
    "- using **strftime** to change the format of the datetime object"
   ]
  },
  {
   "cell_type": "code",
   "execution_count": 5,
   "metadata": {},
   "outputs": [],
   "source": [
    "stamp = datetime(2013, 12, 30)"
   ]
  },
  {
   "cell_type": "code",
   "execution_count": null,
   "metadata": {},
   "outputs": [],
   "source": [
    "# convert to a string representation\n",
    "\n",
    "str(stamp)"
   ]
  },
  {
   "cell_type": "markdown",
   "metadata": {},
   "source": [
    "Time Format:\n",
    "\n",
    "\n",
    "- **%D**: Date\n",
    "- **%d**: Day\n",
    "\n",
    "- **%M**: Minutes\n",
    "- **%m**: Month\n",
    "\n",
    "- **%Y**: Four digit year (e.g. '2013')\n",
    "- **%y**: Two-digit of year (e.g. '13)\n",
    "\n",
    "- **%H**: 24-hour format\n",
    "- **%I**: 12-hour format\n",
    "\n",
    "\n",
    "- **%S**: Second\n",
    "- **%w**: weekday [ (0 -> Sunday) to (6 -> Saturday) ]\n",
    "\n",
    "> Any combination of this may be used to format a datetime object; the seperator should be specified if necessary"
   ]
  },
  {
   "cell_type": "code",
   "execution_count": null,
   "metadata": {},
   "outputs": [],
   "source": [
    "# change the format from (year, month, day, time) -> (day, month, year)\n",
    "\n",
    "stamp.strftime('%d-%m-%y')"
   ]
  },
  {
   "cell_type": "code",
   "execution_count": null,
   "metadata": {},
   "outputs": [],
   "source": [
    "stamp.strftime(\"%m-%y\")"
   ]
  },
  {
   "cell_type": "markdown",
   "metadata": {},
   "source": [
    "**strptime** is used for parsing date with a *known* format"
   ]
  },
  {
   "cell_type": "code",
   "execution_count": 3,
   "metadata": {},
   "outputs": [],
   "source": [
    "from dateutil.parser import parse"
   ]
  },
  {
   "cell_type": "code",
   "execution_count": null,
   "metadata": {},
   "outputs": [],
   "source": [
    "parse('2011-01-03')"
   ]
  },
  {
   "cell_type": "code",
   "execution_count": null,
   "metadata": {},
   "outputs": [],
   "source": [
    "parse('Sept 30, 2024 11:01 AM')"
   ]
  },
  {
   "cell_type": "markdown",
   "metadata": {},
   "source": [
    "Pandas **to_datetime** function is used to convert a datetime-like object to a pandas object -> DatetimeIndex"
   ]
  },
  {
   "cell_type": "code",
   "execution_count": null,
   "metadata": {},
   "outputs": [],
   "source": [
    "data = [parse('May 25, 2013 9 PM'), parse('Aug 20, 2024, 5 AM')]\n",
    "\n",
    "data"
   ]
  },
  {
   "cell_type": "code",
   "execution_count": null,
   "metadata": {},
   "outputs": [],
   "source": [
    "pd.to_datetime(data)"
   ]
  },
  {
   "cell_type": "markdown",
   "metadata": {},
   "source": [
    "A datetime object missing value is represented as **NaT (not a time)**\n",
    "\n",
    "---\n",
    "---||\n",
    "### Time Series Basics"
   ]
  },
  {
   "cell_type": "code",
   "execution_count": 10,
   "metadata": {},
   "outputs": [],
   "source": [
    "from datetime import datetime"
   ]
  },
  {
   "cell_type": "code",
   "execution_count": null,
   "metadata": {},
   "outputs": [],
   "source": [
    "# get a time series indexed by timestamps\n",
    "\n",
    "dates = [\n",
    "  datetime(2024, 1, 3),\n",
    "  datetime(2024, 2, 4),\n",
    "  datetime(2024, 3, 6),\n",
    "  datetime(2024, 4, 9),\n",
    "  datetime(2024, 5, 11),\n",
    "  datetime(2024, 6, 12),\n",
    "  datetime(2024, 7, 17),\n",
    "  datetime(2024, 8, 20),\n",
    "  datetime(2024, 9, 26),\n",
    "  datetime(2024, 10, 30),\n",
    "]\n",
    "\n",
    "ts = pd.Series(np.random.randn(10), index=dates)\n",
    "\n",
    "ts"
   ]
  },
  {
   "cell_type": "code",
   "execution_count": null,
   "metadata": {},
   "outputs": [],
   "source": [
    "# check the index ts\n",
    "\n",
    "ts.index"
   ]
  },
  {
   "cell_type": "code",
   "execution_count": null,
   "metadata": {},
   "outputs": [],
   "source": [
    "# datatype of ts\n",
    "\n",
    "ts.index.dtype"
   ]
  },
  {
   "cell_type": "code",
   "execution_count": null,
   "metadata": {},
   "outputs": [],
   "source": [
    "# get a timestamp object\n",
    "\n",
    "stamp = ts.index[3]\n",
    "\n",
    "stamp"
   ]
  },
  {
   "cell_type": "code",
   "execution_count": null,
   "metadata": {},
   "outputs": [],
   "source": [
    "ts['7/2024']"
   ]
  },
  {
   "cell_type": "markdown",
   "metadata": {},
   "source": [
    "**date_range** function, takes a starting datetime and the number of periods to add so as to generate a list"
   ]
  },
  {
   "cell_type": "code",
   "execution_count": 34,
   "metadata": {},
   "outputs": [],
   "source": [
    "index = pd.date_range('05-06-2010', end=None, periods=500)"
   ]
  },
  {
   "cell_type": "code",
   "execution_count": null,
   "metadata": {},
   "outputs": [],
   "source": [
    "ts2 = pd.Series(np.random.randn(len(index)), index=index)\n",
    "\n",
    "ts2"
   ]
  },
  {
   "cell_type": "code",
   "execution_count": null,
   "metadata": {},
   "outputs": [],
   "source": [
    "ts2['2011']"
   ]
  },
  {
   "cell_type": "code",
   "execution_count": null,
   "metadata": {},
   "outputs": [],
   "source": [
    "ts2['2010-05']"
   ]
  },
  {
   "cell_type": "markdown",
   "metadata": {},
   "source": [
    "Range enquiry may start and end with values that may (or may not) belong in the series "
   ]
  },
  {
   "cell_type": "code",
   "execution_count": null,
   "metadata": {},
   "outputs": [],
   "source": [
    "# slices\n",
    "\n",
    "# note the starting value is not in the series\n",
    "ts2['2010-01-01': '2010-06-03']"
   ]
  },
  {
   "cell_type": "markdown",
   "metadata": {},
   "source": [
    "**truncate** allows slices the data **before** and/or **after** a given value(s)"
   ]
  },
  {
   "cell_type": "code",
   "execution_count": null,
   "metadata": {},
   "outputs": [],
   "source": [
    "ts.head()"
   ]
  },
  {
   "cell_type": "code",
   "execution_count": null,
   "metadata": {},
   "outputs": [],
   "source": [
    "# truncate all the data points before the specified value\n",
    "\n",
    "ts.truncate(before='2024-04')"
   ]
  },
  {
   "cell_type": "code",
   "execution_count": null,
   "metadata": {},
   "outputs": [],
   "source": [
    "# truncate all the data points after the specified value\n",
    "\n",
    "ts.truncate( after='2024-09')"
   ]
  },
  {
   "cell_type": "code",
   "execution_count": null,
   "metadata": {},
   "outputs": [],
   "source": [
    "# similar to slicing between two values\n",
    "\n",
    "ts.truncate(before='2024-04', after='2024-09')"
   ]
  },
  {
   "cell_type": "code",
   "execution_count": null,
   "metadata": {},
   "outputs": [],
   "source": [
    "ts = pd.DataFrame(\n",
    "  data=np.random.randn(600).reshape(100, 6),\n",
    "  index=pd.date_range(\n",
    "    start='2024-09-12', \n",
    "    periods=100, \n",
    "    freq='2M' # every four(4) months from the starting data\n",
    "  ),\n",
    "  columns=[list('ABCDEF')]\n",
    ")\n",
    "\n",
    "ts.head()"
   ]
  },
  {
   "cell_type": "code",
   "execution_count": null,
   "metadata": {},
   "outputs": [],
   "source": [
    "# select data indexed by year 2026\n",
    "\n",
    "ts.loc['2025']"
   ]
  },
  {
   "cell_type": "code",
   "execution_count": null,
   "metadata": {},
   "outputs": [],
   "source": [
    "# select data after 2025-05, and before 2025-10\n",
    "\n",
    "ts.truncate(before='2025-05', after='2025-10')"
   ]
  },
  {
   "cell_type": "markdown",
   "metadata": {},
   "source": [
    "\n",
    "---||\n",
    "#### Date Ranges, Frequencies and Shifting\n",
    "\n"
   ]
  },
  {
   "cell_type": "code",
   "execution_count": null,
   "metadata": {},
   "outputs": [],
   "source": [
    "# date range generation\n",
    "\n",
    "# the base frequency is daily\n",
    "index= pd.date_range(start='2022-01-01', end='2024-10-01')\n",
    "\n",
    "index"
   ]
  },
  {
   "cell_type": "code",
   "execution_count": null,
   "metadata": {},
   "outputs": [],
   "source": [
    "# date range generation\n",
    "\n",
    "# the base frequency is weekly\n",
    "index= pd.date_range(start='2022-01-01', end='2024-10-01', freq='W')\n",
    "\n",
    "index"
   ]
  },
  {
   "cell_type": "code",
   "execution_count": null,
   "metadata": {},
   "outputs": [],
   "source": [
    "# date range generation\n",
    "\n",
    "# the base frequency is montly\n",
    "index= pd.date_range(start='2022-01-01', end='2024-10-01', freq='M')\n",
    "\n",
    "index"
   ]
  },
  {
   "cell_type": "markdown",
   "metadata": {},
   "source": [
    "##### Integer multiple of the frequency can be used.\n",
    "\n",
    "e.g. 3W ==> every three(3) weeks(W)\n"
   ]
  },
  {
   "cell_type": "code",
   "execution_count": null,
   "metadata": {},
   "outputs": [],
   "source": [
    "# date range generation\n",
    "\n",
    "# every three weeks\n",
    "index= pd.date_range(start='2022-01-01', end='2024-10-01', freq='3W')\n",
    "\n",
    "index"
   ]
  },
  {
   "cell_type": "code",
   "execution_count": null,
   "metadata": {},
   "outputs": [],
   "source": [
    "# date range generation\n",
    "\n",
    "# bi-monthly\n",
    "index= pd.date_range(start='2022-01-01', end='2024-10-01', freq='3M')\n",
    "\n",
    "index"
   ]
  },
  {
   "cell_type": "code",
   "execution_count": null,
   "metadata": {},
   "outputs": [],
   "source": [
    "# specifies the periods- indicating the number of date to generate\n",
    "\n",
    "# the monday of every three-weeks\n",
    "index = pd.date_range(start='2024-06', periods=22, freq='3W-MON')\n",
    "\n",
    "index"
   ]
  },
  {
   "cell_type": "code",
   "execution_count": null,
   "metadata": {},
   "outputs": [],
   "source": [
    "# last business day of every three months - friday\n",
    "\n",
    "index= pd.date_range(start='2022-01-01', end='2024-10-01', freq='3BM')\n",
    "\n",
    "index"
   ]
  },
  {
   "cell_type": "code",
   "execution_count": null,
   "metadata": {},
   "outputs": [],
   "source": [
    "# date range generation\n",
    "\n",
    "# every four hours\n",
    "index= pd.date_range(start='2022-01-01', end='2024-10-01', freq='4H')\n",
    "\n",
    "index"
   ]
  },
  {
   "cell_type": "code",
   "execution_count": null,
   "metadata": {},
   "outputs": [],
   "source": [
    "# date range generation\n",
    "\n",
    "# every 3 minutes\n",
    "index= pd.date_range(start='2022-01-01', end='2024-10-01', freq='3T')\n",
    "\n",
    "index"
   ]
  },
  {
   "cell_type": "code",
   "execution_count": null,
   "metadata": {},
   "outputs": [],
   "source": [
    "# date range generation\n",
    "\n",
    "# every 10 seconds\n",
    "index= pd.date_range(start='2022-01-01', end='2024-10-01', freq='10S')\n",
    "\n",
    "index"
   ]
  },
  {
   "cell_type": "code",
   "execution_count": null,
   "metadata": {},
   "outputs": [],
   "source": [
    "# date range generation\n",
    "\n",
    "# every business day\n",
    "index= pd.date_range(start='2022-01-01', end='2024-10-01', freq='B')\n",
    "\n",
    "index"
   ]
  },
  {
   "cell_type": "markdown",
   "metadata": {},
   "source": [
    "\n",
    "---||\n",
    "##### Offsets"
   ]
  },
  {
   "cell_type": "code",
   "execution_count": null,
   "metadata": {},
   "outputs": [],
   "source": [
    "from pandas.tseries.offsets import Hour, BMonthBegin, BusinessHour\n",
    "\n",
    "bh = BusinessHour(4)\n",
    "\n",
    "bh"
   ]
  },
  {
   "cell_type": "code",
   "execution_count": null,
   "metadata": {},
   "outputs": [],
   "source": [
    "# date range generation\n",
    "\n",
    "# use the offset directly in the freq\n",
    "index= pd.date_range(start='2022-01-01', end='2024-10-01', freq='bh')\n",
    "\n",
    "index"
   ]
  },
  {
   "cell_type": "code",
   "execution_count": null,
   "metadata": {},
   "outputs": [],
   "source": [
    "# have a combination of offsets\n",
    "from pandas.tseries.offsets import Day\n",
    "\n",
    "hour = Hour(2)\n",
    "day = Day(2)\n",
    "offset = day + hour\n",
    "\n",
    "offset"
   ]
  },
  {
   "cell_type": "code",
   "execution_count": null,
   "metadata": {},
   "outputs": [],
   "source": [
    "# use the offset as the frequency\n",
    "\n",
    "# date range generation\n",
    "\n",
    "index= pd.date_range(start='2022-01-01', end='2024-10-01', freq=offset)\n",
    "\n",
    "index"
   ]
  },
  {
   "cell_type": "code",
   "execution_count": null,
   "metadata": {},
   "outputs": [],
   "source": [
    "# passing frequency strings\n",
    "\n",
    "# date range generation\n",
    "\n",
    "index= pd.date_range(start='2022-01-01', end='2024-10-01', freq='3h20min10s')\n",
    "\n",
    "index"
   ]
  },
  {
   "cell_type": "code",
   "execution_count": null,
   "metadata": {},
   "outputs": [],
   "source": [
    "# every second wednesday of the first week of the month\n",
    "\n",
    "pd.date_range('2024-05', periods=20, freq='WOM-2WED')"
   ]
  },
  {
   "cell_type": "markdown",
   "metadata": {},
   "source": [
    "\n",
    "---||\n",
    "#### Shifting\n",
    "\n",
    "This refers to moving data backward or forward through time. This is achieved using the **shift** method"
   ]
  },
  {
   "cell_type": "code",
   "execution_count": null,
   "metadata": {},
   "outputs": [],
   "source": [
    "ts = pd.DataFrame(\n",
    "  data=np.random.randn(24).reshape(6, 4),\n",
    "  index=pd.date_range(\n",
    "    start='2024-02',\n",
    "    periods=6,\n",
    "    freq='3M'\n",
    "  ),\n",
    "  columns=list('ABCD')\n",
    ")\n",
    "\n",
    "ts"
   ]
  },
  {
   "cell_type": "code",
   "execution_count": null,
   "metadata": {},
   "outputs": [],
   "source": [
    "# shift the data forward, without modifying index\n",
    "\n",
    "ts.shift(4)"
   ]
  },
  {
   "cell_type": "code",
   "execution_count": null,
   "metadata": {},
   "outputs": [],
   "source": [
    "# shift the data backward, without modifying index\n",
    "\n",
    "ts.shift(-4)"
   ]
  },
  {
   "cell_type": "code",
   "execution_count": null,
   "metadata": {},
   "outputs": [],
   "source": [
    "# shift both the data and timestamp using the underlying frequency, if known\n",
    "\n",
    "# shift each time index by two 3-months === six months\n",
    "ts.shift(2, freq='3M')"
   ]
  },
  {
   "cell_type": "markdown",
   "metadata": {},
   "source": [
    "\n",
    "---||\n",
    "### Time Zone Handling\n",
    "\n",
    "- **UTC**: Coordinated Universal Time\n",
    "- **GMT**: Greenwich Meridian Time"
   ]
  },
  {
   "cell_type": "code",
   "execution_count": 118,
   "metadata": {},
   "outputs": [],
   "source": [
    "import pytz"
   ]
  },
  {
   "cell_type": "code",
   "execution_count": null,
   "metadata": {},
   "outputs": [],
   "source": [
    "# get the common time zones\n",
    "\n",
    "pytz.common_timezones"
   ]
  },
  {
   "cell_type": "code",
   "execution_count": 120,
   "metadata": {},
   "outputs": [
    {
     "data": {
      "text/plain": [
       "<DstTzInfo 'Africa/Lagos' LMT+0:14:00 STD>"
      ]
     },
     "execution_count": 120,
     "metadata": {},
     "output_type": "execute_result"
    }
   ],
   "source": [
    "# timezone object\n",
    "\n",
    "pytz.timezone('Africa/Lagos')"
   ]
  },
  {
   "cell_type": "markdown",
   "metadata": {},
   "source": [
    "\n",
    "---||\n",
    "#### Timezone Localization and Conversion\n",
    "\n"
   ]
  },
  {
   "cell_type": "code",
   "execution_count": 130,
   "metadata": {},
   "outputs": [
    {
     "data": {
      "text/html": [
       "<div>\n",
       "<style scoped>\n",
       "    .dataframe tbody tr th:only-of-type {\n",
       "        vertical-align: middle;\n",
       "    }\n",
       "\n",
       "    .dataframe tbody tr th {\n",
       "        vertical-align: top;\n",
       "    }\n",
       "\n",
       "    .dataframe thead th {\n",
       "        text-align: right;\n",
       "    }\n",
       "</style>\n",
       "<table border=\"1\" class=\"dataframe\">\n",
       "  <thead>\n",
       "    <tr style=\"text-align: right;\">\n",
       "      <th></th>\n",
       "      <th>A</th>\n",
       "      <th>B</th>\n",
       "    </tr>\n",
       "  </thead>\n",
       "  <tbody>\n",
       "    <tr>\n",
       "      <th>2024-04-17 07:45:00+00:00</th>\n",
       "      <td>-1.514635</td>\n",
       "      <td>0.776080</td>\n",
       "    </tr>\n",
       "    <tr>\n",
       "      <th>2024-05-15 07:45:00+00:00</th>\n",
       "      <td>-0.129114</td>\n",
       "      <td>1.364000</td>\n",
       "    </tr>\n",
       "    <tr>\n",
       "      <th>2024-06-19 07:45:00+00:00</th>\n",
       "      <td>-0.274739</td>\n",
       "      <td>1.503706</td>\n",
       "    </tr>\n",
       "    <tr>\n",
       "      <th>2024-07-17 07:45:00+00:00</th>\n",
       "      <td>-1.390302</td>\n",
       "      <td>-0.681389</td>\n",
       "    </tr>\n",
       "    <tr>\n",
       "      <th>2024-08-21 07:45:00+00:00</th>\n",
       "      <td>0.059201</td>\n",
       "      <td>0.593623</td>\n",
       "    </tr>\n",
       "  </tbody>\n",
       "</table>\n",
       "</div>"
      ],
      "text/plain": [
       "                                  A         B\n",
       "2024-04-17 07:45:00+00:00 -1.514635  0.776080\n",
       "2024-05-15 07:45:00+00:00 -0.129114  1.364000\n",
       "2024-06-19 07:45:00+00:00 -0.274739  1.503706\n",
       "2024-07-17 07:45:00+00:00 -1.390302 -0.681389\n",
       "2024-08-21 07:45:00+00:00  0.059201  0.593623"
      ]
     },
     "execution_count": 130,
     "metadata": {},
     "output_type": "execute_result"
    }
   ],
   "source": [
    "# add a time zone\n",
    "index1 = pd.date_range(start='2024-04 7:45', periods=5, freq='WOM-3WED', tz='GMT')\n",
    "\n",
    "# no time zone added\n",
    "index2 = pd.date_range(start='2024-04 7:45', periods=5, freq='WOM-3WED')\n",
    "\n",
    "ts_tz = pd.DataFrame(np.random.randn(10).reshape(5, 2), index=index1, columns=['A', 'B'])\n",
    "ts_ntz = pd.DataFrame(np.random.randn(10).reshape(5, 2), index=index2, columns=['A', 'B'])\n",
    "\n",
    "ts_tz"
   ]
  },
  {
   "cell_type": "code",
   "execution_count": 131,
   "metadata": {},
   "outputs": [
    {
     "data": {
      "text/html": [
       "<div>\n",
       "<style scoped>\n",
       "    .dataframe tbody tr th:only-of-type {\n",
       "        vertical-align: middle;\n",
       "    }\n",
       "\n",
       "    .dataframe tbody tr th {\n",
       "        vertical-align: top;\n",
       "    }\n",
       "\n",
       "    .dataframe thead th {\n",
       "        text-align: right;\n",
       "    }\n",
       "</style>\n",
       "<table border=\"1\" class=\"dataframe\">\n",
       "  <thead>\n",
       "    <tr style=\"text-align: right;\">\n",
       "      <th></th>\n",
       "      <th>A</th>\n",
       "      <th>B</th>\n",
       "    </tr>\n",
       "  </thead>\n",
       "  <tbody>\n",
       "    <tr>\n",
       "      <th>2024-04-17 07:45:00</th>\n",
       "      <td>0.512234</td>\n",
       "      <td>0.271564</td>\n",
       "    </tr>\n",
       "    <tr>\n",
       "      <th>2024-05-15 07:45:00</th>\n",
       "      <td>0.377059</td>\n",
       "      <td>-1.190629</td>\n",
       "    </tr>\n",
       "    <tr>\n",
       "      <th>2024-06-19 07:45:00</th>\n",
       "      <td>-0.022247</td>\n",
       "      <td>-0.262382</td>\n",
       "    </tr>\n",
       "    <tr>\n",
       "      <th>2024-07-17 07:45:00</th>\n",
       "      <td>-0.704565</td>\n",
       "      <td>-1.150591</td>\n",
       "    </tr>\n",
       "    <tr>\n",
       "      <th>2024-08-21 07:45:00</th>\n",
       "      <td>-0.543382</td>\n",
       "      <td>0.241842</td>\n",
       "    </tr>\n",
       "  </tbody>\n",
       "</table>\n",
       "</div>"
      ],
      "text/plain": [
       "                            A         B\n",
       "2024-04-17 07:45:00  0.512234  0.271564\n",
       "2024-05-15 07:45:00  0.377059 -1.190629\n",
       "2024-06-19 07:45:00 -0.022247 -0.262382\n",
       "2024-07-17 07:45:00 -0.704565 -1.150591\n",
       "2024-08-21 07:45:00 -0.543382  0.241842"
      ]
     },
     "execution_count": 131,
     "metadata": {},
     "output_type": "execute_result"
    }
   ],
   "source": [
    "ts_ntz"
   ]
  },
  {
   "cell_type": "code",
   "execution_count": 133,
   "metadata": {},
   "outputs": [
    {
     "data": {
      "text/plain": [
       "(<StaticTzInfo 'GMT'>, None)"
      ]
     },
     "execution_count": 133,
     "metadata": {},
     "output_type": "execute_result"
    }
   ],
   "source": [
    "# get the timezone\n",
    "\n",
    "ts_tz.index.tz, ts_ntz.index.tz"
   ]
  },
  {
   "cell_type": "markdown",
   "metadata": {},
   "source": [
    "Localization is the mechanism of adding a timezone to datetime that is timezone naive (i.e. has no timezone)"
   ]
  },
  {
   "cell_type": "code",
   "execution_count": 140,
   "metadata": {},
   "outputs": [
    {
     "data": {
      "text/plain": [
       "DatetimeIndex(['2024-04-17 07:45:00+00:00', '2024-05-15 07:45:00+00:00',\n",
       "               '2024-06-19 07:45:00+00:00', '2024-07-17 07:45:00+00:00',\n",
       "               '2024-08-21 07:45:00+00:00'],\n",
       "              dtype='datetime64[ns, UTC]', freq='WOM-3WED')"
      ]
     },
     "execution_count": 140,
     "metadata": {},
     "output_type": "execute_result"
    }
   ],
   "source": [
    "# add a timezone\n",
    "ts_ntz.tz_localize('UTC').index"
   ]
  },
  {
   "cell_type": "code",
   "execution_count": 139,
   "metadata": {},
   "outputs": [
    {
     "data": {
      "text/plain": [
       "DatetimeIndex(['2024-04-17 07:45:00', '2024-05-15 07:45:00',\n",
       "               '2024-06-19 07:45:00', '2024-07-17 07:45:00',\n",
       "               '2024-08-21 07:45:00'],\n",
       "              dtype='datetime64[ns]', freq='WOM-3WED')"
      ]
     },
     "execution_count": 139,
     "metadata": {},
     "output_type": "execute_result"
    }
   ],
   "source": [
    "ts_ntz.index"
   ]
  },
  {
   "cell_type": "code",
   "execution_count": 141,
   "metadata": {},
   "outputs": [
    {
     "data": {
      "text/html": [
       "<div>\n",
       "<style scoped>\n",
       "    .dataframe tbody tr th:only-of-type {\n",
       "        vertical-align: middle;\n",
       "    }\n",
       "\n",
       "    .dataframe tbody tr th {\n",
       "        vertical-align: top;\n",
       "    }\n",
       "\n",
       "    .dataframe thead th {\n",
       "        text-align: right;\n",
       "    }\n",
       "</style>\n",
       "<table border=\"1\" class=\"dataframe\">\n",
       "  <thead>\n",
       "    <tr style=\"text-align: right;\">\n",
       "      <th></th>\n",
       "      <th>A</th>\n",
       "      <th>B</th>\n",
       "    </tr>\n",
       "  </thead>\n",
       "  <tbody>\n",
       "    <tr>\n",
       "      <th>2024-04-17 07:45:00+00:00</th>\n",
       "      <td>-1.514635</td>\n",
       "      <td>0.776080</td>\n",
       "    </tr>\n",
       "    <tr>\n",
       "      <th>2024-05-15 07:45:00+00:00</th>\n",
       "      <td>-0.129114</td>\n",
       "      <td>1.364000</td>\n",
       "    </tr>\n",
       "    <tr>\n",
       "      <th>2024-06-19 07:45:00+00:00</th>\n",
       "      <td>-0.274739</td>\n",
       "      <td>1.503706</td>\n",
       "    </tr>\n",
       "    <tr>\n",
       "      <th>2024-07-17 07:45:00+00:00</th>\n",
       "      <td>-1.390302</td>\n",
       "      <td>-0.681389</td>\n",
       "    </tr>\n",
       "    <tr>\n",
       "      <th>2024-08-21 07:45:00+00:00</th>\n",
       "      <td>0.059201</td>\n",
       "      <td>0.593623</td>\n",
       "    </tr>\n",
       "  </tbody>\n",
       "</table>\n",
       "</div>"
      ],
      "text/plain": [
       "                                  A         B\n",
       "2024-04-17 07:45:00+00:00 -1.514635  0.776080\n",
       "2024-05-15 07:45:00+00:00 -0.129114  1.364000\n",
       "2024-06-19 07:45:00+00:00 -0.274739  1.503706\n",
       "2024-07-17 07:45:00+00:00 -1.390302 -0.681389\n",
       "2024-08-21 07:45:00+00:00  0.059201  0.593623"
      ]
     },
     "execution_count": 141,
     "metadata": {},
     "output_type": "execute_result"
    }
   ],
   "source": [
    "# change from one timezone to another\n",
    "\n",
    "ts_tz.tz_convert('UTC')"
   ]
  },
  {
   "cell_type": "markdown",
   "metadata": {},
   "source": [
    "\n",
    "---||\n",
    "#### Periods and Period Arithmetic\n",
    "\n"
   ]
  }
 ],
 "metadata": {
  "kernelspec": {
   "display_name": "Python 3",
   "language": "python",
   "name": "python3"
  },
  "language_info": {
   "codemirror_mode": {
    "name": "ipython",
    "version": 3
   },
   "file_extension": ".py",
   "mimetype": "text/x-python",
   "name": "python",
   "nbconvert_exporter": "python",
   "pygments_lexer": "ipython3",
   "version": "3.10.12"
  }
 },
 "nbformat": 4,
 "nbformat_minor": 2
}
