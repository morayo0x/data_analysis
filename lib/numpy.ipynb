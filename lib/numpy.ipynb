{
 "cells": [
  {
   "cell_type": "markdown",
   "metadata": {},
   "source": [
    "# Important Numpy Methods and Tricks\n",
    "\n",
    "---\n",
    "---|||\n",
    "### Fancy (Sub) Indexing\n",
    "\n",
    "This provides a mechanism where one can select *particular rows* from an ndarray. Initially, I had though that passing the second arguments, would also return the columns of the selected rows in the order specified, but running the code behaved differently.\n",
    "\n",
    "E.g Say we have the following 2D array, \n",
    "\n",
    "- [10, 11, 12, 13]\n",
    "- [20, 21, 22, 23]\n",
    "- [30, 31, 32, 33]\n",
    "- [40, 41, 42, 43]\n",
    "\n",
    "and we want to **select the 4th, 1st, and 3rd row in that order**, i.e.\n",
    "- [40, 41, 42, 43]\n",
    "- [10, 11, 12, 13]\n",
    "- [30, 31, 32, 33]\n",
    "\n",
    "then we use the following sub-indexing\n",
    "\n",
    "- **array[ [3, 0, 2] ]** =>> return an array containg the rows in the same order specified.\n",
    "\n",
    "Now, one might be tempted to say, we also want to get the say; **first and last column of the returned slice, so that we would have;\n",
    "\n",
    "- [40, 43]\n",
    "- [30, 33]\n",
    "\n",
    "*But an error will be returned, because the second sub-indexing does not act on the entire slice returned but **on independent row slices**. Thats is, the rows returned are independent slice from the orders, and hence any operation we want to perform using the second sub-indexing, will now act on the independent slice. In our case, we got a 1D independed slice arrays, and therefore the second sub indexing will **act only on the element in the array***\n",
    "\n",
    "> Of importance to note is that the second sub-index must be of the same length as that of  firs sub-index, or be broadcastable to the length of the first index\n",
    "\n",
    "As an example, passing the following to the preceeding array\n",
    "\n",
    "- **array[ [3, 0, 2], [0]]: broadcasting will occur here, and this will be;\n",
    "  - **array[ [3, 0, 2], [0, 0, 0] ]\n",
    "\n",
    "the result of this will  be as follows:\n",
    "\n",
    "- return the **4th, 1st, and 2nd rows of the source array**\n",
    "- then return the **first elements (our 0)** of this independents rows\n",
    "\n",
    "this will then return [40, 10, 30] as the result\n",
    "\n",
    "\n",
    "> The take away is that one must see sub-indexing as returning independent slices, in the order required and the second sub-indexing acting on this independent slice\n",
    "\n",
    "> Note when a slice is returned by the first argument (i.e. instead of using sub-indexing, we used a range instead), then the second argument will see a slice and not independent slices\n",
    "\n",
    "---\n",
    "\n",
    "---\n",
    "---|||\n",
    "\n",
    "### **nonzero** method\n",
    "\n",
    "Accidentally: while trying to **find the indices of non-zero elements in array**\n",
    "\n",
    "> *It works also works for higher dimension, returning arrays containing the indices arong the last axis*\n",
    "---\n",
    "\n",
    "---|||\n",
    "### **eye** and **identity** method\n",
    "\n",
    "Curiously: they are similar, except that *eye* permits more modification than *identity*. While the *identity* will always return an identity **square matrix** of specifed order along the main diagonal, the eye method can return a **non-square matrix**\n",
    "\n",
    "---\n",
    "\n",
    "---|||\n",
    "### **randint**, **random**, **randn**method\n",
    "\n",
    "They allow for initializing an ndarray with random values (and size)\n",
    "\n",
    "##### **randint(low, high, size)**: \n",
    "\n",
    "Used for creating random integers between a **low**(inclusive) value and a **high**(exclusive) value, with an **optional size argument, that defaults to 1, i.e. return a single value**. \n",
    "\n",
    "Note: the size can be specified as the shape of the ndarray to be returned, and the array will be populated with the random integer values\n",
    "\n",
    "---\n",
    "\n",
    "##### **random**: \n",
    "\n",
    "This is used for creating random values between [0.0, 1.0)\n",
    "\n",
    "- **the values are floats**, not integers.\n",
    "- unlike randint, it takes a value that determines the size, and shape of the output arrays\n",
    "\n",
    "---\n",
    "\n",
    "##### **randn**: Normally Distributed Random Values (N ~ (mean = 0, std = 1))\n",
    "\n",
    "This is similar to to **randint**, except that:\n",
    "\n",
    "- **the values are floats**, not integers.\n",
    "- the returned values are **normally distributed**, as the values are selected from a random distribution of **mean = 0**, and **standard deviation = 1**.\n",
    "\n",
    "---\n",
    "\n",
    "##### **rand**: Uniformly Distributed Random Values (U ~ (a = 0, b = 1))\n",
    "\n",
    "This is similar to to **randint**, except that:\n",
    "\n",
    "- the values are between 0 and 1(exclusive)\n",
    "- **the values are floats**, not integers.\n",
    "- the returned values are **uniformly distributed**, as the values are selected from a random distribution of **a = 0**, and **b = 1**.\n",
    "\n",
    "---\n",
    "---|||\n",
    "\n",
    "### **diagonal and diag method** (array, k)\n",
    "\n",
    "They perform the same operation, but the **diagonal** perform its operation **in-place**, while **diag** returns a copy.\n",
    "\n",
    "If array, is 1d, then it constructs a square matrix with the main diagonal replaced by the data in the array. \n",
    "\n",
    "**The value of k (defaults: k = 0), determines which diagonal to place the data**;\n",
    "\n",
    "- if k > 0: above the main diagonal\n",
    "- if k < 0: below the main diagonal\n",
    "\n",
    "I had to construct a (5, 5) matrix and replace diagonal elements just below the main diagonal with new data. I concocted a rather convoluted solution using the *eye* method by:\n",
    "\n",
    "- making the diagonal k = -1, just below the main diagonal\n",
    "- replacing the elements there by the given data using sub-indexing\n",
    "\n",
    "Turns out I could do this in a single step using the diagonal or diag method.\n",
    "\n",
    "---\n",
    "\n"
   ]
  },
  {
   "cell_type": "code",
   "execution_count": null,
   "metadata": {},
   "outputs": [],
   "source": [
    "import numpy as np\n",
    "import pandas as pd\n",
    "import seaborn as sns\n",
    "import scipy\n",
    "from matplotlib import pyplot as plt"
   ]
  },
  {
   "cell_type": "markdown",
   "metadata": {},
   "source": [
    "### NDARRAY: Multidimensional Array Object\n"
   ]
  },
  {
   "cell_type": "code",
   "execution_count": null,
   "metadata": {},
   "outputs": [],
   "source": [
    "# generate random data filling 2 rows and three columns\n",
    "data = np.random.randn(2, 3)\n",
    "data"
   ]
  },
  {
   "cell_type": "code",
   "execution_count": null,
   "metadata": {},
   "outputs": [],
   "source": [
    "# multiply all the elements in the array by 100\n",
    "data * 100"
   ]
  },
  {
   "cell_type": "code",
   "execution_count": null,
   "metadata": {},
   "outputs": [],
   "source": [
    "# get the shape of the array\n",
    "data.shape"
   ]
  },
  {
   "cell_type": "code",
   "execution_count": null,
   "metadata": {},
   "outputs": [],
   "source": [
    "# get the type of data in the array\n",
    "data.dtype"
   ]
  },
  {
   "cell_type": "markdown",
   "metadata": {},
   "source": [
    "## Creating ndarray"
   ]
  },
  {
   "cell_type": "code",
   "execution_count": null,
   "metadata": {},
   "outputs": [],
   "source": [
    "# Creating ndarrays\n",
    "data1 = [1, 2, 3, 4, 5.1, 6.2]\n",
    "arr1 = np.array(data1)"
   ]
  },
  {
   "cell_type": "code",
   "execution_count": null,
   "metadata": {},
   "outputs": [],
   "source": [
    "arr1"
   ]
  },
  {
   "cell_type": "code",
   "execution_count": null,
   "metadata": {},
   "outputs": [],
   "source": [
    "data2 = ['c', 'b', 'a']\n",
    "arr2 = np.array(data2)"
   ]
  },
  {
   "cell_type": "code",
   "execution_count": null,
   "metadata": {},
   "outputs": [],
   "source": [
    "arr2"
   ]
  },
  {
   "cell_type": "code",
   "execution_count": null,
   "metadata": {},
   "outputs": [],
   "source": [
    "data3 = [[1, 2, 3, 4], [5, 6, 7, 8]]\n",
    "arr3 = np.array(data3)"
   ]
  },
  {
   "cell_type": "code",
   "execution_count": null,
   "metadata": {},
   "outputs": [],
   "source": [
    "print(arr3.shape)\n",
    "print(arr3.dtype)\n",
    "arr3"
   ]
  },
  {
   "cell_type": "code",
   "execution_count": null,
   "metadata": {},
   "outputs": [],
   "source": [
    "# get the dimension of the array\n",
    "print(arr1.ndim)\n",
    "print(arr3.ndim)"
   ]
  },
  {
   "cell_type": "code",
   "execution_count": null,
   "metadata": {},
   "outputs": [],
   "source": [
    "# create arrays filled with zeros, given a specific length or shape \n",
    "\n",
    "# an array of 10 zeroes in length (10,)\n",
    "a = np.zeros(10)\n",
    "\n",
    "# an array of a given shape (3, 4), containing zeroes\n",
    "b = np.zeros((3, 4))\n",
    "\n",
    "print('a', a)\n",
    "print()\n",
    "print('b' , b)"
   ]
  },
  {
   "cell_type": "code",
   "execution_count": null,
   "metadata": {},
   "outputs": [],
   "source": [
    "# creating an array of ones\n",
    "a = np.ones(10)\n",
    "b = np.ones((3, 4))\n",
    "\n",
    "print('a', a)\n",
    "print()\n",
    "print('b', b)\n",
    "b.ndim"
   ]
  },
  {
   "cell_type": "code",
   "execution_count": null,
   "metadata": {},
   "outputs": [],
   "source": [
    "# using empty to intialise an array\n",
    "np.empty((3, 4,))"
   ]
  },
  {
   "cell_type": "markdown",
   "metadata": {},
   "source": [
    "### NOTE\n",
    "using empty method to intiialise an ndarray is almost similar to using random, except that it could fill it with garbage values"
   ]
  },
  {
   "cell_type": "markdown",
   "metadata": {},
   "source": [
    "---"
   ]
  },
  {
   "cell_type": "markdown",
   "metadata": {},
   "source": [
    "## Arange \n",
    "\n",
    "Creates an ndarray from start to stop-1; just like the python range function"
   ]
  },
  {
   "cell_type": "code",
   "execution_count": null,
   "metadata": {},
   "outputs": [],
   "source": [
    "# create an array of elements starting from 10 to 100, in steps of 2\n",
    "np.arange(10, 101, 2,)"
   ]
  },
  {
   "cell_type": "markdown",
   "metadata": {},
   "source": [
    "## Linspace \n",
    "\n",
    "works similarly as *arange* but the third specified parameter indicates how many element should be returned between the *start* and *stop* (inclusive)\n",
    "\n",
    "> The elements returned are equally spaced"
   ]
  },
  {
   "cell_type": "code",
   "execution_count": null,
   "metadata": {},
   "outputs": [],
   "source": [
    "np.linspace(1, 100, 10)"
   ]
  },
  {
   "cell_type": "code",
   "execution_count": null,
   "metadata": {},
   "outputs": [],
   "source": [
    "np.asarray(np.arange(10))"
   ]
  },
  {
   "cell_type": "markdown",
   "metadata": {},
   "source": [
    "## ones_like and zeros_like\n",
    "\n",
    "the *ones_like*  and *zeros_like* method takes an ndarray, and produce the same ndarray with its element change to one (ones_like) or zero (zeros_like)"
   ]
  },
  {
   "cell_type": "code",
   "execution_count": null,
   "metadata": {},
   "outputs": [],
   "source": [
    "data = [[1, 2, 3], [4, 5, 6], [7, 8, 9]]\n",
    "\n",
    "# create an array from the data \n",
    "arr1 = np.array(data)\n",
    "\n",
    "# using the asarray method. note that arr1 == arr2\n",
    "arr2 = np.asarray(data)\n",
    "print('arr1', arr1)\n",
    "print(\"\")\n",
    "print('arr2', arr2)\n",
    "\n",
    "# change the element of arr1 to one\n",
    "a = np.ones_like(arr1)\n",
    "print('arr1 ones_like: ', a)\n",
    "\n",
    "# change the element of arr2 to zeros\n",
    "b = np.zeros_like(arr2)\n",
    "print('arr1 zeros_like: ', b)\n",
    "\n",
    "# instead of converting to an ndarray before passing to the method,\n",
    "# we pass the list directly\n",
    "np.ones_like(data)"
   ]
  },
  {
   "cell_type": "markdown",
   "metadata": {},
   "source": [
    "## full and full_like method\n",
    "\n",
    "#### full\n",
    "Takes the shape and an element that will be used to fill the ndarray of that same shape\n",
    "\n",
    "#### full_like\n",
    "takes another array and fill it with the specified value; note the same data type will be used as the passed array"
   ]
  },
  {
   "cell_type": "code",
   "execution_count": null,
   "metadata": {},
   "outputs": [],
   "source": [
    " \n",
    "from numpy import unicode_\n",
    "\n",
    "\n",
    "a = np.full((2, 3), [2, 4, 5], )\n",
    "\n",
    "a"
   ]
  },
  {
   "cell_type": "code",
   "execution_count": null,
   "metadata": {},
   "outputs": [],
   "source": [
    "np.full_like(a, 100)"
   ]
  },
  {
   "cell_type": "code",
   "execution_count": null,
   "metadata": {},
   "outputs": [],
   "source": [
    "np.full_like(a, [30, 90, 270])"
   ]
  },
  {
   "cell_type": "markdown",
   "metadata": {},
   "source": [
    "## Type Casting\n",
    "\n",
    "The *astype* method can be used to change (if possible) the underlying type of an ndarray"
   ]
  },
  {
   "cell_type": "code",
   "execution_count": null,
   "metadata": {},
   "outputs": [],
   "source": [
    "# create a 3 x 3 ndarray of type int32 and change the underlying type to unicode\n",
    "np.full((3, 3), 4, dtype='int32').astype(np.unicode_)"
   ]
  },
  {
   "cell_type": "code",
   "execution_count": null,
   "metadata": {},
   "outputs": [],
   "source": [
    "# create an random 3 x 3 ndarray of float32\n",
    "\n",
    "arr1 = np.random.random((3, 3)).astype('float32')\n",
    "print(arr1.dtype)\n",
    "print('arr1: ', arr1)\n",
    "\n",
    "# cast the result to an int type\n",
    "arr1.astype('int32') "
   ]
  },
  {
   "cell_type": "markdown",
   "metadata": {},
   "source": [
    "---\n"
   ]
  },
  {
   "cell_type": "markdown",
   "metadata": {},
   "source": [
    "# Arithmetic with ndarrays\n",
    "\n",
    "Arithmetic operations are performed on ndarrays of equal size without writing a for loop. This is known as **batch processing** or **vectorization**\n",
    "\n",
    "The arithmetic operation is applied to each element of the array OR element-wise operation IF two or more arrays are supplied"
   ]
  },
  {
   "cell_type": "code",
   "execution_count": null,
   "metadata": {},
   "outputs": [],
   "source": [
    "# array\n",
    "# arange\n",
    "# asarray\n",
    "# ones, ones_like\n",
    "# zeros, zeros_like\n",
    "# linspace\n",
    "# astype\n",
    "# full, full_like"
   ]
  },
  {
   "cell_type": "code",
   "execution_count": null,
   "metadata": {},
   "outputs": [],
   "source": [
    "arr1 = np.asarray([[1, 2, 3], [4, 5, 6]], dtype='float64')\n",
    "arr1"
   ]
  },
  {
   "cell_type": "code",
   "execution_count": null,
   "metadata": {},
   "outputs": [],
   "source": [
    "arr2 = np.asarray([[1, 5, 3], [-5, 4, 1]])\n",
    "arr2"
   ]
  },
  {
   "cell_type": "code",
   "execution_count": null,
   "metadata": {},
   "outputs": [],
   "source": [
    "(1/ arr2) ** 3\n"
   ]
  },
  {
   "cell_type": "markdown",
   "metadata": {},
   "source": [
    "# Broadcasting\n",
    "\n",
    "In vectorization, the arrays must have the same size (shape). In broadcasting however, the arrays can have different size.\n",
    "\n",
    "\n",
    "Broadcasting Operations\n",
    "\n",
    "- multiplication of an ndarray with a scalar value\n",
    "\n",
    "\n",
    "More on this at the bottom\n",
    "\n",
    "---\n",
    "---"
   ]
  },
  {
   "cell_type": "markdown",
   "metadata": {},
   "source": [
    "# Slicing and Indexing an Ndarray\n",
    "\n"
   ]
  },
  {
   "cell_type": "code",
   "execution_count": null,
   "metadata": {},
   "outputs": [],
   "source": [
    "# create an ndarray with element 1 - 10\n",
    "\n",
    "arr = np.arange(11)\n",
    "arr"
   ]
  },
  {
   "cell_type": "code",
   "execution_count": null,
   "metadata": {},
   "outputs": [],
   "source": [
    "# select the 5th element\n",
    "print(arr[4])\n",
    "\n",
    "# select the 2nd, 4th, and 6th element\n",
    "print(arr[1:7:2])\n",
    "\n",
    "# select the 4th to 9th element\n",
    "print(arr[3:10])"
   ]
  },
  {
   "cell_type": "code",
   "execution_count": null,
   "metadata": {},
   "outputs": [],
   "source": [
    "# replacing through broadcasting\n",
    "arr"
   ]
  },
  {
   "cell_type": "code",
   "execution_count": null,
   "metadata": {},
   "outputs": [],
   "source": [
    "arr[4:9] = 12\n",
    "arr"
   ]
  },
  {
   "cell_type": "markdown",
   "metadata": {},
   "source": [
    "> ### Any modification on slices will be reflected on the source array, because slices are views on the source array\n",
    "\n",
    "The result of slicing an ndarray is a view on the source array and not a copy of data from the source array"
   ]
  },
  {
   "cell_type": "code",
   "execution_count": null,
   "metadata": {},
   "outputs": [],
   "source": [
    "arr"
   ]
  },
  {
   "cell_type": "code",
   "execution_count": null,
   "metadata": {},
   "outputs": [],
   "source": [
    "# create a slice of 4th to 9th element\n",
    "arr_slice = arr[4:10]\n",
    "print('slice', arr_slice)\n",
    "\n",
    "# modify all the element in the slice to 101\n",
    "arr_slice[:] = 101\n",
    "print('modified slice: ', arr_slice)\n",
    "\n",
    "# we notice immediately that the source ndarray is modified simultaneously\n",
    "print('source ndarray: ', arr)\n",
    "\n",
    "print(\"\")\n",
    "print(\"\")\n",
    "# copy a slice which upon modification will not reflect on the source\n",
    "arr_slice_copied = arr[1:6].copy()\n",
    "print('slice copied', arr_slice_copied)\n",
    "\n",
    "# modify the copied slice\n",
    "arr_slice_copied[:] = 230\n",
    "print('modified copied slice', arr_slice_copied)\n",
    "\n",
    "# check the source that it is not modified\n",
    "print('source: ', arr)"
   ]
  },
  {
   "cell_type": "markdown",
   "metadata": {},
   "source": [
    "# Slicing and Indexing in Multidimensional Arrays\n",
    "\n",
    "In >= 2 ndarrays, when indexed, output a lower dimension array"
   ]
  },
  {
   "cell_type": "code",
   "execution_count": null,
   "metadata": {},
   "outputs": [],
   "source": [
    "arr = np.asarray([[1, 2, 3], [4, 5, 6], [7, 8, 9]])\n",
    "print('source ndarray: '), \n",
    "print(arr)"
   ]
  },
  {
   "cell_type": "code",
   "execution_count": null,
   "metadata": {},
   "outputs": [],
   "source": [
    "# create a slice from the \n",
    "arr"
   ]
  },
  {
   "cell_type": "code",
   "execution_count": null,
   "metadata": {},
   "outputs": [],
   "source": [
    "arr[0:3,2]"
   ]
  },
  {
   "cell_type": "markdown",
   "metadata": {},
   "source": [
    "## Indexing using a comma seperated value for >= 2 ndarray\n",
    "\n",
    "The order of indexing is always from *Outside* --> *Inside*"
   ]
  },
  {
   "cell_type": "code",
   "execution_count": null,
   "metadata": {},
   "outputs": [],
   "source": [
    "arr[1] = [4, 5, 6]\n",
    "arr"
   ]
  },
  {
   "cell_type": "code",
   "execution_count": null,
   "metadata": {},
   "outputs": [],
   "source": [
    "# select all the element in the rows, firstly, and then select the third column\n",
    "arr[:, 2]"
   ]
  },
  {
   "cell_type": "code",
   "execution_count": null,
   "metadata": {},
   "outputs": [],
   "source": [
    "# working with three dimensional data\n",
    "\n",
    "arr = np.asarray([ [[1, 2, 3, 4], [4, 5, 6, 40], [10, 10, 10, 10]] , [[2, 2, 2, 2], [7, 8, 9, 160], [10, 11, 12, 524]] ])\n",
    "\n",
    "print('dimension: ', arr.ndim)\n",
    "print('shape: ', arr.shape)\n",
    "\n",
    "print(\"\")\n",
    "arr"
   ]
  },
  {
   "cell_type": "code",
   "execution_count": null,
   "metadata": {},
   "outputs": [],
   "source": [
    "# select all the element in the \n",
    "arr[:, 0, :3]"
   ]
  },
  {
   "cell_type": "markdown",
   "metadata": {},
   "source": [
    "---\n",
    "\n",
    "# Boolean Indexing\n",
    "\n"
   ]
  },
  {
   "cell_type": "code",
   "execution_count": null,
   "metadata": {},
   "outputs": [],
   "source": [
    "# names = np.array(['Bob', 'Joe', 'Will', 'Bob', 'Will', 'Joe', 'Joe'])\n",
    "data = np.random.randn(7, 3, 4)\n",
    "data"
   ]
  },
  {
   "cell_type": "markdown",
   "metadata": {},
   "source": [
    "## Note indexing a multi-dimensional array from the outside to the the inner  elements"
   ]
  },
  {
   "cell_type": "code",
   "execution_count": null,
   "metadata": {},
   "outputs": [],
   "source": [
    "# select only columns for which the first element of its rows is less than 0\n",
    "\n",
    "# first we create the truthy value\n",
    "cond = data[:, 0, 0] < 0\n",
    "\n",
    "# select columns, where the first elements of the innermost rows is less than 0\n",
    "data[cond, :, 0][:, 0]\n"
   ]
  },
  {
   "cell_type": "code",
   "execution_count": null,
   "metadata": {},
   "outputs": [],
   "source": [
    "# select only inner row elements less than 0, for each element of the 3d-array \n",
    "\n",
    "# Note: each element of the (7, 3, 4) array is a 2d array of (3, 4) rows and column\n",
    "\n",
    "# So, we want to select each element of the (7, 3, 4) array ==> this will  result in seven; 7 different (3, 4) arrays,\n",
    "\n",
    "# Then we select the first rows of the (3, 4) resulting arrays ==> this will result in seven; 7 different, (1, 4) array.\n",
    "\n",
    "# then we check that the inner elements of each resulting rows has a value less than 0\n",
    "\n",
    "cond2 = data[:, 0] < 0\n",
    "cond2"
   ]
  },
  {
   "cell_type": "code",
   "execution_count": null,
   "metadata": {},
   "outputs": [],
   "source": [
    "# this method here is the same as the one below\n",
    "for i, cond in enumerate(cond2):\n",
    "  print(data[:, 0, cond][i])\n",
    "  print()\n",
    "  \n",
    "# second method\n",
    "data[:, 0][cond2]\n"
   ]
  },
  {
   "cell_type": "markdown",
   "metadata": {},
   "source": [
    "## !NOTE\n",
    "\n",
    "When applying a conditional indexing, the dimension of the resulting conditional must match the slice, it is going to be applied to\n",
    "\n",
    "--- "
   ]
  },
  {
   "cell_type": "code",
   "execution_count": null,
   "metadata": {},
   "outputs": [],
   "source": [
    "arr = np.empty((4, 4))\n",
    "arr"
   ]
  },
  {
   "cell_type": "code",
   "execution_count": null,
   "metadata": {},
   "outputs": [],
   "source": [
    "arr[[0, 1, 2, 3], [0, 1, 2, 3]]"
   ]
  },
  {
   "cell_type": "code",
   "execution_count": null,
   "metadata": {},
   "outputs": [],
   "source": [
    "arr = np.arange(45).reshape(3, 3, 5)\n",
    "arr"
   ]
  },
  {
   "cell_type": "markdown",
   "metadata": {},
   "source": [
    "# Fancy Indexing\n",
    "\n",
    "This allows the selection of the rows of an ndarray, in a specific order, by passing a list with the index of the rows to be selected.\n",
    "\n",
    "> However this indexing does not apply *in the same manner* to the next inner indexing\n",
    "\n",
    "If mulltiple index are passed in, then it would select a one-dimensional array of elements corresponding to each tuple of indices"
   ]
  },
  {
   "cell_type": "code",
   "execution_count": null,
   "metadata": {},
   "outputs": [],
   "source": [
    "# one can select the first and last element of the (3, 3, 5) ndarray ==> two (2, 3, 5) ndarray\n",
    "\n",
    "# note the tuple of indices are: (0, 1, 4), (2, 0, 3) ==> \n",
    "# \tselect the first(0) outer row, second(1) inner row, and 5th(4)  element\n",
    "# \tselect the third(2) outer row, first(0) inner row, and 4th(3)  element\n",
    "# \tselect the second(1) outer row, third(2) inner row, and 2nd(1)  element\n",
    "# \t\n",
    "arr[[0, 2, 1], [1, 0, 2], [4, 3, 1]]"
   ]
  },
  {
   "cell_type": "code",
   "execution_count": null,
   "metadata": {},
   "outputs": [],
   "source": [
    "# with the 2d-array\n",
    "arr = np.arange(20).reshape(4, 5)\n",
    "arr"
   ]
  },
  {
   "cell_type": "code",
   "execution_count": null,
   "metadata": {},
   "outputs": [],
   "source": [
    "# select the first(0), and third(2) outer row\n",
    "# then select their second(1) and fifth(4) element respectively.\n",
    "arr[[0,2, 1], [1]]"
   ]
  },
  {
   "cell_type": "markdown",
   "metadata": {},
   "source": []
  },
  {
   "cell_type": "code",
   "execution_count": null,
   "metadata": {},
   "outputs": [],
   "source": [
    "# 4d-array\n",
    "\n",
    "arr = np.arange(80).reshape(2, 2, 4, 5)\n",
    "arr\n"
   ]
  },
  {
   "cell_type": "code",
   "execution_count": null,
   "metadata": {},
   "outputs": [],
   "source": [
    "# 4 multiple array indices are needed to select an element in the array\n",
    "\n",
    "# arr[[0, 1], [1, 2], [1, 3], [[3, 4]]]"
   ]
  },
  {
   "cell_type": "markdown",
   "metadata": {},
   "source": [
    "---\n",
    "\n",
    "# Transposing Arrays and Swapping Axes\n",
    "\n",
    "This returns a view of the underlying data without copying the source array"
   ]
  },
  {
   "cell_type": "code",
   "execution_count": null,
   "metadata": {},
   "outputs": [],
   "source": [
    "# create a 3, 5 array\n",
    "arr = np.arange(15).reshape((3, 5))\n",
    "\n",
    "arr"
   ]
  },
  {
   "cell_type": "code",
   "execution_count": null,
   "metadata": {},
   "outputs": [],
   "source": [
    "# transpose it to a (5, 3) array\n",
    "\n",
    "arr_T = arr.T # or arr.transpose()\n",
    "\n",
    "arr_T"
   ]
  },
  {
   "cell_type": "code",
   "execution_count": null,
   "metadata": {},
   "outputs": [],
   "source": [
    "# we modify the transposed array and confirm that the source array is also modified\n",
    "# thus indicating that the transposed array is a view\n",
    "\n",
    "arr_T[2] = 1000\n",
    "\n",
    "print('modified arr_T')\n",
    "print(arr_T)\n",
    "\n",
    "print(\"source array:\")\n",
    "print(arr)"
   ]
  },
  {
   "cell_type": "markdown",
   "metadata": {},
   "source": [
    "# Matrix multiplication and the Transpose of an ndarray\n",
    "\n",
    "> To mutiply two matrix, the num of columns of the first must match the num of rows of the second. Hence to multiply a non-square matrix (m x n; where m!=n) by itself, then we have to multiply it with a transpose of itself\n",
    "\n",
    "Note that this is otherwise \n",
    "> [!NOTE]\n",
    "> Multiplication of two matrix, not element wise, is done using the [dot] method\n",
    "\n"
   ]
  },
  {
   "cell_type": "code",
   "execution_count": null,
   "metadata": {},
   "outputs": [],
   "source": [
    "arr = np.random.randn(10, 5)\n",
    "arr"
   ]
  },
  {
   "cell_type": "code",
   "execution_count": null,
   "metadata": {},
   "outputs": [],
   "source": [
    "arr_mul = np.dot(arr.T, arr)\n",
    "arr_mul"
   ]
  },
  {
   "cell_type": "markdown",
   "metadata": {},
   "source": [
    "### Transpose and Higher Dimensional Array\n",
    "\n",
    "This is similar to re-ordering the axes of the higher dimensional array"
   ]
  },
  {
   "cell_type": "code",
   "execution_count": null,
   "metadata": {},
   "outputs": [],
   "source": [
    "arr = np.arange(16).reshape((2, 2, 4))\n",
    "\n",
    "arr"
   ]
  },
  {
   "cell_type": "code",
   "execution_count": null,
   "metadata": {},
   "outputs": [],
   "source": [
    "# make the second(1) axis first, first(0) axis second, and the third axis unchannged \n",
    "arr.transpose((1, 0, 2))"
   ]
  },
  {
   "cell_type": "markdown",
   "metadata": {},
   "source": [
    "---\n",
    "# Array Functions\n",
    "\n",
    "A universal array function (ufunc), is any function that performs element-wise operations on the ndarrays, and returns a scalar or array of scalar values as its result\n",
    "\n",
    "- Unary Unfunc\n",
    "\t- sqrt, exp\n",
    "\n",
    "- binary ufuncs\n",
    "\t- add,\n",
    "\n",
    "- n-aryy ufuncs"
   ]
  },
  {
   "cell_type": "code",
   "execution_count": null,
   "metadata": {},
   "outputs": [],
   "source": [
    "arr1d = np.arange(4, 20)\n",
    "arr1d"
   ]
  },
  {
   "cell_type": "code",
   "execution_count": null,
   "metadata": {},
   "outputs": [],
   "source": [
    "# square root of element\n",
    "np.sqrt(arr1d)"
   ]
  },
  {
   "cell_type": "code",
   "execution_count": null,
   "metadata": {},
   "outputs": [],
   "source": [
    "arr2d = np.arange(16).reshape((4, 4))\n",
    "arr2d"
   ]
  },
  {
   "cell_type": "code",
   "execution_count": null,
   "metadata": {},
   "outputs": [],
   "source": [
    "# square of the 2d elements \n",
    "\n",
    "np.sqrt(arr2d)"
   ]
  },
  {
   "cell_type": "code",
   "execution_count": null,
   "metadata": {},
   "outputs": [],
   "source": [
    "# as exponential of e\n",
    "print(\"e^(each array element): \")\n",
    "np.exp(arr2d)\n"
   ]
  },
  {
   "cell_type": "code",
   "execution_count": null,
   "metadata": {},
   "outputs": [],
   "source": [
    "arr2d"
   ]
  },
  {
   "cell_type": "code",
   "execution_count": null,
   "metadata": {},
   "outputs": [],
   "source": [
    "# broadcasting\n",
    "arr2d + 2"
   ]
  },
  {
   "cell_type": "code",
   "execution_count": null,
   "metadata": {},
   "outputs": [],
   "source": [
    "# vectorization\n",
    "arr2d + arr2d"
   ]
  },
  {
   "cell_type": "code",
   "execution_count": null,
   "metadata": {},
   "outputs": [],
   "source": [
    "np.add(arr2d, arr2d)"
   ]
  },
  {
   "cell_type": "code",
   "execution_count": null,
   "metadata": {},
   "outputs": [],
   "source": [
    "print(arr1d)\n",
    "print()\n",
    "print(arr2d)"
   ]
  },
  {
   "cell_type": "code",
   "execution_count": null,
   "metadata": {},
   "outputs": [],
   "source": [
    "arr1d_rshp = arr1d.reshape((4, 4))\n",
    "arr1d_rshp"
   ]
  },
  {
   "cell_type": "markdown",
   "metadata": {},
   "source": [
    "#### compare two arrays element-by-element, which is the maximum value"
   ]
  },
  {
   "cell_type": "code",
   "execution_count": null,
   "metadata": {},
   "outputs": [],
   "source": [
    "np.maximum(arr2d.T, arr1d_rshp)"
   ]
  },
  {
   "cell_type": "code",
   "execution_count": null,
   "metadata": {},
   "outputs": [],
   "source": [
    "# modf array\n",
    "remainder, whole = np.modf(arr2d, arr1d_rshp.astype('float64'))"
   ]
  },
  {
   "cell_type": "code",
   "execution_count": null,
   "metadata": {},
   "outputs": [],
   "source": [
    "remainder"
   ]
  },
  {
   "cell_type": "code",
   "execution_count": null,
   "metadata": {},
   "outputs": [],
   "source": [
    "whole"
   ]
  },
  {
   "cell_type": "markdown",
   "metadata": {},
   "source": [
    "## !NOTE\n",
    "\n",
    "> ufunc, can accept an optional argument that tells them where to  put the result of the computation, but the optional argument array must;\n",
    "\n",
    "-  be the same order as the first argument, \n",
    "-  have the same type as the result of the computation."
   ]
  },
  {
   "cell_type": "code",
   "execution_count": null,
   "metadata": {},
   "outputs": [],
   "source": [
    "# create two array of the same size\n",
    "arr1 = np.arange(1, 13)\n",
    "arr2 = np.arange(30 ,42).astype('float64')\n",
    "print(arr1.size == arr2.size)"
   ]
  },
  {
   "cell_type": "code",
   "execution_count": null,
   "metadata": {},
   "outputs": [],
   "source": [
    "arr1"
   ]
  },
  {
   "cell_type": "code",
   "execution_count": null,
   "metadata": {},
   "outputs": [],
   "source": [
    "arr2"
   ]
  },
  {
   "cell_type": "code",
   "execution_count": null,
   "metadata": {},
   "outputs": [],
   "source": [
    "# take the sqrt of arr1 and store the result in arr2\n",
    "\n",
    "# because arr2 is not the same type as the result of taking the sqrt on arr1\n",
    "# we must change its type, so that it can store the result of the computation (float64)\n",
    "\n",
    "# the previous statement isn't totally true. I used the astype for the conversion, and it turns out that the method returns a copy and doesn't modify the array in-place\n",
    "# so i had to add the type from its initialisation for this to work\n",
    "np.sqrt(arr1, arr2)"
   ]
  },
  {
   "cell_type": "code",
   "execution_count": null,
   "metadata": {},
   "outputs": [],
   "source": [
    "# check the elements of arr2 and see that it has been modified\n",
    "arr2"
   ]
  },
  {
   "cell_type": "code",
   "execution_count": null,
   "metadata": {},
   "outputs": [],
   "source": [
    "# array remains the same\n",
    "arr1\n"
   ]
  },
  {
   "cell_type": "code",
   "execution_count": null,
   "metadata": {},
   "outputs": [],
   "source": [
    "# pass arr1 as the second argument\n",
    "\n",
    "# notice how we had to change the type of the array in memory\n",
    "arr1 = arr1.astype('float64')\n",
    "np.sqrt(arr1, arr1)"
   ]
  },
  {
   "cell_type": "code",
   "execution_count": null,
   "metadata": {},
   "outputs": [],
   "source": [
    "arr1"
   ]
  },
  {
   "cell_type": "code",
   "execution_count": null,
   "metadata": {},
   "outputs": [],
   "source": [
    "arr = np.arange(20, 26)\n",
    "arr"
   ]
  },
  {
   "cell_type": "code",
   "execution_count": null,
   "metadata": {},
   "outputs": [],
   "source": [
    "#3 return the logarithm to base e, by adding one to all the element before performing the logarithmic computation\n",
    "np.log1p(arr)"
   ]
  },
  {
   "cell_type": "markdown",
   "metadata": {},
   "source": [
    "# Array-Oriented Programming\n",
    "\n",
    "In this scenario, the object we interact with; manipulate , process, and store are the numpy arrays. The advantage of using numpy arrays here rather than Python's native list is due to n batch processing (vectorization or broadcasting) which allows us to avoid writing explicit for loops.\n",
    "\n",
    "Aside not writing for loops, the performance of vectorization greatly exceed that of for loops."
   ]
  },
  {
   "cell_type": "code",
   "execution_count": null,
   "metadata": {},
   "outputs": [],
   "source": [
    "arr = np.arange(-1, 1, 0.001)\n",
    "arr"
   ]
  },
  {
   "cell_type": "markdown",
   "metadata": {},
   "source": [
    "#### Meshgrid Function\n",
    "\n",
    "This takes two 1d-array and produce a 2d-array vector tuples (or matrix) of all the pairs in the array.\n",
    "\n",
    "the size of the resulting matrix = len(first_array) * len(second_array)"
   ]
  },
  {
   "cell_type": "code",
   "execution_count": null,
   "metadata": {},
   "outputs": [],
   "source": [
    "arr1 = np.arange(1, 10)\n",
    "arr2 = np.arange(10, 13)\n",
    "\n",
    "x1, y1 = np.meshgrid(arr1, arr2)"
   ]
  },
  {
   "cell_type": "code",
   "execution_count": null,
   "metadata": {},
   "outputs": [],
   "source": [
    "x1"
   ]
  },
  {
   "cell_type": "code",
   "execution_count": null,
   "metadata": {},
   "outputs": [],
   "source": [
    "y1"
   ]
  },
  {
   "cell_type": "code",
   "execution_count": null,
   "metadata": {},
   "outputs": [],
   "source": [
    "z1 = np.sqrt(x1 **2 + y1 **2)"
   ]
  },
  {
   "cell_type": "code",
   "execution_count": null,
   "metadata": {},
   "outputs": [],
   "source": [
    "x2, y2 = np.meshgrid(arr, arr)"
   ]
  },
  {
   "cell_type": "code",
   "execution_count": null,
   "metadata": {},
   "outputs": [],
   "source": [
    "z2 = np.sqrt(x2 ** 2 + y2 **2)"
   ]
  },
  {
   "cell_type": "code",
   "execution_count": null,
   "metadata": {},
   "outputs": [],
   "source": [
    "plt.imshow(z1, cmap=plt.cm.gray)\n",
    "plt.colorbar()"
   ]
  },
  {
   "cell_type": "code",
   "execution_count": null,
   "metadata": {},
   "outputs": [],
   "source": [
    "plt.imshow(z2, cmap=plt.colormaps['Reds_r'])\n",
    "plt.colorbar()"
   ]
  },
  {
   "cell_type": "markdown",
   "metadata": {},
   "source": [
    "## Where: Conditional Logic as Array Expressions\n",
    "\n",
    "The where method is similar to the ternary expression:\n",
    "\tx if condition else y\n",
    "```python\n",
    "np.where(cond, first_array, second_array)\n",
    "\n",
    "> - Note:\n",
    "> - the second and third argument need not be arrays, as they can be scalar values\n",
    "> - the output of the result of the computation will have the same shape as the conditonal variable \n",
    "```\n",
    "That is, choose x if condtion is true, otherwise choose y;\n",
    "\n",
    "---\n",
    "My first line of reasoning is that all the argument to the *where* method must have the same dimension??\n",
    "\n",
    "Turns out this is false; what matters is **the *size* of the three arguments must be the same**\n",
    "\n",
    "> This is because the where method, intuitively I suppose, flattens out all the array passed as arguments, and then do its comparison (i.e. ternary operations) element wise.\n",
    "\n",
    "\t> turns out that this is also not true; it depends on **broadcasting**\n",
    "\n",
    "> The order of the conditional elements in this case would matter, and hence one must be careful when setting up the conditional argument"
   ]
  },
  {
   "cell_type": "code",
   "execution_count": null,
   "metadata": {},
   "outputs": [],
   "source": [
    "arr1 = np.arange(1.1, 1.9, .1)\n",
    "arr2 = np.arange(2.1, 2.9, .1)\n",
    "\n",
    "cond = np.array([True, False, True, False, False, True, True, False])\n",
    "arr1, arr2"
   ]
  },
  {
   "cell_type": "code",
   "execution_count": null,
   "metadata": {},
   "outputs": [],
   "source": [
    "arr1 = arr1.reshape(2, 2, 2)\n",
    "# arr1.flatten()\n",
    "arr1"
   ]
  },
  {
   "cell_type": "code",
   "execution_count": null,
   "metadata": {},
   "outputs": [],
   "source": [
    "arr2 = arr2.reshape((4, 2))\n",
    "# arr2.flatten()\n",
    "arr2"
   ]
  },
  {
   "cell_type": "code",
   "execution_count": null,
   "metadata": {},
   "outputs": [],
   "source": [
    "# the equivalent and better approach\n",
    "cond =cond.reshape(4,2)\n",
    "result = np.where(cond, 2,arr2)\n",
    "result"
   ]
  },
  {
   "cell_type": "markdown",
   "metadata": {},
   "source": [
    "## Mathematical and Statistical Methods\n",
    "\n",
    "NumPy comes with predefined statistical functions\n",
    "\n",
    "Some of the functions can take an optional axis argument, that determines which axis the operation should be carried out"
   ]
  },
  {
   "cell_type": "code",
   "execution_count": null,
   "metadata": {},
   "outputs": [],
   "source": [
    "arr = np.random.randn(5, 4)\n",
    "arr"
   ]
  },
  {
   "cell_type": "code",
   "execution_count": null,
   "metadata": {},
   "outputs": [],
   "source": [
    "arr.mean(axis=1)"
   ]
  },
  {
   "cell_type": "code",
   "execution_count": null,
   "metadata": {},
   "outputs": [],
   "source": [
    "arr.mean(axis=0)"
   ]
  },
  {
   "cell_type": "code",
   "execution_count": null,
   "metadata": {},
   "outputs": [],
   "source": [
    "# column 1 \n",
    "arr[:, 0].mean(), arr[:, 1].mean()"
   ]
  },
  {
   "cell_type": "code",
   "execution_count": null,
   "metadata": {},
   "outputs": [],
   "source": [
    "# same as setting axis=1\n",
    "arr.std(1)"
   ]
  },
  {
   "cell_type": "markdown",
   "metadata": {},
   "source": [
    "### cumsum and cumprod\n",
    "\n",
    "Respectively takes the sum or product, cummulatively along the specified axis\n"
   ]
  },
  {
   "cell_type": "code",
   "execution_count": null,
   "metadata": {},
   "outputs": [],
   "source": [
    "arr = np.arange(48).reshape((4 , 4, 3))\n",
    "arr"
   ]
  },
  {
   "cell_type": "code",
   "execution_count": null,
   "metadata": {},
   "outputs": [],
   "source": [
    "arr.cumsum(axis=2)\n",
    "arr.argmax(2)"
   ]
  },
  {
   "cell_type": "markdown",
   "metadata": {},
   "source": [
    "### any and all\n",
    "\n",
    "This tests a given condition;\n",
    "\n",
    "- any: finds the first element that satisfies the condition; in which case it returns true; if none of the element satisfies the condition, it returns false\n",
    "\n",
    "- all: checks if any of the elements doesn't satisfies the condition, in which case it returns false; otherwise it returns true\n",
    "\n",
    "> We can check for this along the specified axis\n",
    "\n",
    "---\n",
    "\n",
    "### sort\n",
    "\n",
    "##### NOTE!!!\n",
    "\n",
    "- np.sort(array): This returns a copy\n",
    "\n",
    "- array.sort(): this sorts the array in-place\n",
    "\n",
    "> we can pass an optional axis parameter to indicate which axis the sorting should occur\n"
   ]
  },
  {
   "cell_type": "code",
   "execution_count": null,
   "metadata": {},
   "outputs": [],
   "source": [
    "cond = np.array([True, True, False, True, False, True, False, False])\n",
    "cond"
   ]
  },
  {
   "cell_type": "code",
   "execution_count": null,
   "metadata": {},
   "outputs": [],
   "source": [
    "x = cond.reshape((2, 2, 2))\n",
    "x"
   ]
  },
  {
   "cell_type": "code",
   "execution_count": null,
   "metadata": {},
   "outputs": [],
   "source": [
    "x.all(axis=2)"
   ]
  },
  {
   "cell_type": "markdown",
   "metadata": {},
   "source": [
    "---\n",
    "\n",
    "# File Input and Output with Arrays\n",
    "\n",
    "This involves loading (and saving) data from (and to) disk either in text or binary format"
   ]
  },
  {
   "cell_type": "code",
   "execution_count": null,
   "metadata": {},
   "outputs": [],
   "source": [
    "arr = np.arange(10)\n",
    "arr"
   ]
  },
  {
   "cell_type": "markdown",
   "metadata": {},
   "source": [
    "#### using  the save and load for a single ndarray data\n",
    "\n",
    "The file extension here is ***.npy***"
   ]
  },
  {
   "cell_type": "code",
   "execution_count": null,
   "metadata": {},
   "outputs": [],
   "source": [
    "# save it to disk\n",
    "np.save(\"array\", arr)"
   ]
  },
  {
   "cell_type": "code",
   "execution_count": null,
   "metadata": {},
   "outputs": [],
   "source": [
    "x = np.load('array.npy')"
   ]
  },
  {
   "cell_type": "code",
   "execution_count": null,
   "metadata": {},
   "outputs": [],
   "source": [
    "x"
   ]
  },
  {
   "cell_type": "markdown",
   "metadata": {},
   "source": [
    "#### using the **savez** to store multiple arrays on disk\n",
    "\n",
    "Unlike its **save** counterpart, its extension is ***.npz***\n",
    "\n",
    "Also, when it is loaded from memory, instead of getting an array object, a dictionary is returned, with [arr_[i]] as the corresponding keys, where i is the index of the arrays in the order they were passed in.\n",
    "\n",
    "> the index start from 0"
   ]
  },
  {
   "cell_type": "code",
   "execution_count": null,
   "metadata": {},
   "outputs": [],
   "source": [
    "arr1 = np.arange(48).reshape((4, 4, 3))\n",
    "arr2 = np.arange(10)"
   ]
  },
  {
   "cell_type": "code",
   "execution_count": null,
   "metadata": {},
   "outputs": [],
   "source": [
    "# save the two arrays\n",
    "\n",
    "# here the keys are explicitly passed in as (a, c)\n",
    "\n",
    "# np.savez('multiple_array', a = arr1, c = arr2)"
   ]
  },
  {
   "cell_type": "code",
   "execution_count": null,
   "metadata": {},
   "outputs": [],
   "source": [
    "# arr = np.load('multiple_array.npz' )\n",
    "arr"
   ]
  },
  {
   "cell_type": "code",
   "execution_count": null,
   "metadata": {},
   "outputs": [],
   "source": [
    "# arr['a']"
   ]
  },
  {
   "cell_type": "code",
   "execution_count": null,
   "metadata": {},
   "outputs": [],
   "source": [
    "# arr['c']"
   ]
  },
  {
   "cell_type": "code",
   "execution_count": null,
   "metadata": {},
   "outputs": [],
   "source": [
    "# save the same two arrays without passing in the keys\n",
    "\n",
    "# np.savez('2_array', arr1, arr2)"
   ]
  },
  {
   "cell_type": "code",
   "execution_count": null,
   "metadata": {},
   "outputs": [],
   "source": [
    "# load the newly saved arrays\n",
    "\n",
    "# np.load('2_array.npz')"
   ]
  },
  {
   "cell_type": "code",
   "execution_count": null,
   "metadata": {},
   "outputs": [],
   "source": [
    "# save as a  compressed data\n",
    "\n",
    "# np.savez_compressed('2_array_comp', j=arr1, k=arr2)"
   ]
  },
  {
   "cell_type": "code",
   "execution_count": null,
   "metadata": {},
   "outputs": [],
   "source": [
    "# arr = np.load(\"2_array_comp.npz\")"
   ]
  },
  {
   "cell_type": "code",
   "execution_count": null,
   "metadata": {},
   "outputs": [],
   "source": [
    "# arr['j']"
   ]
  },
  {
   "cell_type": "markdown",
   "metadata": {},
   "source": [
    "---\n",
    "\n",
    "# Linear Algebra Operations\n",
    "\n",
    "1. Matrix Multiplication\n",
    "2. Matrix Decompositions\n",
    "3. Determinants, e.t.c"
   ]
  },
  {
   "cell_type": "code",
   "execution_count": null,
   "metadata": {},
   "outputs": [],
   "source": [
    "x = np.ones(4) #(1, 3)\n",
    "y = np.array([[1 ,2 ,3, 5], [3, 4, 5, 100], [4, 5, 9, 1], [10 ,11, 12, 0]]) # (2, 3)"
   ]
  },
  {
   "cell_type": "code",
   "execution_count": null,
   "metadata": {},
   "outputs": [],
   "source": [
    "np.dot(y, x) == y @ x\n",
    "# x @ y"
   ]
  },
  {
   "cell_type": "code",
   "execution_count": null,
   "metadata": {},
   "outputs": [],
   "source": [
    "X = np.random.randn(5, 5)\n",
    "X"
   ]
  },
  {
   "cell_type": "code",
   "execution_count": null,
   "metadata": {},
   "outputs": [],
   "source": [
    "mat = X.T.dot(X)\n",
    "mat"
   ]
  },
  {
   "cell_type": "code",
   "execution_count": null,
   "metadata": {},
   "outputs": [],
   "source": []
  },
  {
   "cell_type": "code",
   "execution_count": null,
   "metadata": {},
   "outputs": [],
   "source": [
    "mat.dot(np.linalg.inv(mat))"
   ]
  },
  {
   "cell_type": "code",
   "execution_count": null,
   "metadata": {},
   "outputs": [],
   "source": [
    "q, r = np.linalg.qr(mat) "
   ]
  },
  {
   "cell_type": "code",
   "execution_count": null,
   "metadata": {},
   "outputs": [],
   "source": [
    "q"
   ]
  },
  {
   "cell_type": "code",
   "execution_count": null,
   "metadata": {},
   "outputs": [],
   "source": [
    "r"
   ]
  },
  {
   "cell_type": "markdown",
   "metadata": {},
   "source": [
    "### Pseudorandom Number Generation\n",
    "\n"
   ]
  },
  {
   "cell_type": "code",
   "execution_count": null,
   "metadata": {},
   "outputs": [],
   "source": [
    "rng = np.random.RandomState(1234)"
   ]
  },
  {
   "cell_type": "code",
   "execution_count": null,
   "metadata": {},
   "outputs": [],
   "source": [
    "np.random.permutation([1, 2, 3])"
   ]
  },
  {
   "cell_type": "code",
   "execution_count": null,
   "metadata": {},
   "outputs": [],
   "source": [
    "# is the sum method faster than  cumsum??\n",
    "\n",
    "arr = np.arange(1_000_000_00).reshape((100 ,100, 10, 10, 100))"
   ]
  },
  {
   "cell_type": "code",
   "execution_count": null,
   "metadata": {},
   "outputs": [],
   "source": [
    "%timeit arr.sum()"
   ]
  },
  {
   "cell_type": "code",
   "execution_count": null,
   "metadata": {},
   "outputs": [],
   "source": [
    "%timeit arr.cumsum()[-1]"
   ]
  },
  {
   "cell_type": "markdown",
   "metadata": {},
   "source": [
    "## Broadcasting\n",
    "\n",
    "Vectorization implies that one can perform the same single operations on all the data on two given arrays at the same time (**SIMD: Single Insruction Multiple Data**).\n",
    "\n",
    "This requires that the arrays have the same size, so that the operation can be mapped element-by-element.\n",
    "\n",
    "\n",
    "However, it is possible for the arrays to be of different size and stil perform an operation in a vectorized manner. E.g.\n",
    "\n",
    "let **p** be an array of size (l, m, n). Let the operation be an addition of 2,\n",
    "i.e.\n",
    "\n",
    "- **p * 2**\n",
    "\n",
    "This operation will add 2 to all the element in p - vectorization. This is possible because 2 is sent (broadcasted) to all the elements in the array. This is achieved by transforming **2** into an **(l, m, n)** array (same size as p) containing 2's as its element. \n",
    "\n",
    "**This transformation is known as *broadcasting***\n",
    "\n",
    "\n",
    "> **Broadcasting is not vectorization, but can be used to achieve vectorization**\n",
    "\n",
    "#### Mechanism of Array Transformation: Broadcasting"
   ]
  },
  {
   "cell_type": "code",
   "execution_count": null,
   "metadata": {},
   "outputs": [],
   "source": [
    "a = np.arange((24)).reshape(2, 3, 4)\n",
    "b = np.arange(2).reshape(1, 2)"
   ]
  },
  {
   "cell_type": "code",
   "execution_count": null,
   "metadata": {},
   "outputs": [],
   "source": [
    "a + b"
   ]
  },
  {
   "cell_type": "code",
   "execution_count": null,
   "metadata": {},
   "outputs": [],
   "source": [
    "help(np.newaxis)"
   ]
  },
  {
   "cell_type": "markdown",
   "metadata": {},
   "source": [
    "\n",
    "---|||\n",
    "# Advanced Numpy Section\n",
    "\n",
    "\n",
    "\n",
    "---|||\n",
    "### Internals of the ndarray Object\n",
    "\n",
    "Internally consists of:\n",
    "\n",
    "- pointer to a block of data in RAM of **memory-mapped file**\n",
    "\n",
    "- a data type (dtype): provides information about the data stored in the cells of the memory. In numpy, each dtype has a fixed size, and a block of data (ndarray) can only contain values of the same type.\n",
    "\n",
    "    - the consequence of this is that, the total size of the memory block needed to store the data is known and fixed\n",
    "\n",
    "- A tuple: contains the shape of the ndarray\n",
    "\n",
    "- A tuple of strides: these are integers indicating the number of bytes to step in order to advance to the next element along a dimension\n",
    "\n",
    "\n",
    "---|||\n",
    "### Strides\n",
    "\n",
    "It provide a means to known the memory location of the next data in a contiguous block of memory. That is, the question, how far should I move to get to the next data, along a particular axis, is answered by the value of the stride, along that axis. \n",
    "\n",
    "Thus, indicating the number of bytes the pointer must \"move\" (accurately, it should be the number of bytes to add to the pointer's address) to get to the location of the next data along a particular axis in the memory block.\n",
    "\n",
    "**The larger the value of the stride in one axis, the more expensive it is to perform a computation along that axis**\n",
    "\n",
    "###### Examples\n",
    "\n",
    "Note: we have assumed a C order; If it were, and F ordered array, then the strides would be different.\n",
    "\n",
    "Let's say we have an array of (7, 3, 2) of float64 ==> each value in the 3d array is 8bytes (64 bits).\n",
    "\n",
    "- Along the first axis = 0 ; we have **seven** (3, 2) arrays. Each of the arrays has a total **data size of 6** (3 *2), and a **byte size of 48** (8byte each * 6 data values). \n",
    "\n",
    "    - This means that moving to **any** one of the **seven arrays**, along axis = 0, we have to move **48** bytes along that axis. More precisely, if we are in a **cell** (say *m*), on say the **first** (of the seven) array, to go to the corresponding cell (say *n*) in the next array (i.e say the second (of the seven) array), **we have to add 48 bytes to the address of the pointer to the of the cell, m.\n",
    "\n",
    "    - Hence the stride value in the first axis (0) is == 48\n",
    "\n",
    "- Along the second axis = 1; we have **three** rows (3),  each containing **two** (2) data column. Each of the rows has a total **data size of 2**, and a **byte size of 16** (8bytes for each * 2 data values).\n",
    "\n",
    "    - This also means, that moving to **any** one of the **three rows**, along the second axis (1), **we have to move 16 bytes** along that axis, to get to the next row, provided that we started from the first cell in that row.\n",
    "\n",
    "        - Precisely, if we are at the Mth row, and Pth column, then to go to the (M + 1)th row, and Pth column, then we must move 16 bytes along that column. This also apply going to the previous (M-1) rows, as long as where we are moving from is not the starting point of the ndarray data.\n",
    "\n",
    "    - Hence the stride value in the second axis (1) is == 16\n",
    "\n",
    "- Along the last axis == 2, **we have 2 columns** of data. Each having a byte size of 8. Hence moving (advancing) to the next data is simply moving the pointer 8bytes in that direction.\n",
    "\n",
    "    - Hence the stride value in the first axis (2) is == 8\n",
    "\n",
    "Therefore the stride is (48, 3, 2). Also, it is more expensive to perform computation on the first axis than it is to perform on the second and third. At the same time, it is easiest to perform a computation on the last axis.\n",
    "\n",
    "\n",
    "#### **as_strided** from the stride_tricks module\n",
    "\n",
    "This allows for the creation of ndarray, using a sequence, stride, and the shape.\n",
    "\n",
    "The default order is the \"C\" order:\n",
    "\n",
    "say we have a sequence of **length l**, a **stride of (m, n)**, and  a **shape of (r, c)**;\n",
    "\n",
    "If l > r:\n",
    "\n",
    "- using m, rows will be filled using l data of the sequence (i.e first column), and the remaining (l-r) data, the remaining (l-r) will be used to fill the next column. If all the shape is not filled, then garbage values will be used to to fill the remaining.\n",
    "\n",
    "if l < r\n",
    "\n",
    "- \n",
    "\n",
    "---|||\n",
    "### Reshaping Arrays\n",
    "\n",
    "Passing a negative one (-1) as one of the tuple in the reshape method, allows reshape to infer the proper shape from the data.\n",
    "\n",
    "An array can be arranged in two format, the C and Fortran major:\n",
    "\n",
    "- C order: elements are arranged in the first row, then second row e.t.c until the rows is filled\n",
    "\n",
    "- F order: elements are arranged in the first column, second column, third column e.t.c\n",
    "\n",
    "\n",
    "---|||\n",
    "### Flattening \n",
    "\n",
    "This is the opposite operation to reshaping, to one-dimension.\n",
    "\n",
    "This can be achieved in two ways:\n",
    "\n",
    "- **ravel** function: performs the operation in-place.\n",
    "\n",
    "- **flatten** function: performs the operation and returns a copy.\n",
    "\n",
    "---|||\n",
    "### Concatenating Arrays\n",
    "\n",
    "Concatenation combines array of the same dimension into one, along the specified dimension. This is achieved using the **concatenate** function. \n",
    "\n",
    "The use of **vstack** ==> along axis=0 (concatenate vertically)\n",
    "The use of **hstack** ==> along axis=1 (concatenate horizontally)\n",
    "\n",
    "---|||\n",
    "### Splitting Arrays\n",
    "\n",
    "Split an array by passing the location where the split should occur, using the split function.\n",
    "\n",
    "For example; np.split(array, [2, 5]) ==> that the array would be splitted at the second and fifth.\n",
    "\n",
    "Care must be taken to determine the number of arrays returned if tuple unpacking is used.\n",
    "\n",
    "\n",
    "---|||\n",
    "### Repeat and Tiling\n",
    "\n",
    "- Repeat\n",
    "\n",
    "Repeat each element along the specified axis, a certain number of times\n",
    "\n",
    "- Tile\n",
    "\n",
    "Repeat copies of an array (instead of the individual element) a given number of times, along the specified axis\n",
    "\n",
    "\n",
    "---|||\n",
    "\n",
    "### Take and Put\n",
    "\n",
    "- Take\n",
    "Take is a function that mimics sub-indexing, by taking a sequence containing the index of elements that would be returned.\n",
    "\n",
    "\n",
    "- Put\n",
    "\n",
    "Put on the other hand, takes a sequence of index and a value, which will replace the element at the passed index position\n",
    "\n",
    "\n",
    "\n",
    "### Broadcasting Deep-Dive\n",
    "\n",
    "This describes how arithmetic works between arrays of different shapes. the trailing dimension - from the end, is used to check for broadcasting capabilities.\n",
    "\n",
    "#### The BroadCasting Rule\n",
    "\n",
    "let (a, b, c) be the shape of A\n",
    "let (m, n) be the shape of B\n",
    "\n",
    "Since A and B have different shape, the only way to perform any vectorization on both of them is to use broadcasting.\n",
    "\n",
    "- Now, A is 3D and B is 2D, the larger being A, then the trailing dimension is determined by using the lower dimension, in this case B. So, given B is 2D (m, n) then the trailing dimension from the end in A is the last two axis (b,c).\n",
    "\n",
    "For A and B to be broadcastable,\n",
    "\n",
    "- either (b, c) == (m, n) ==> (b == m) and (c == n) OR\n",
    "- (m, n) == (1, 1) ==> (m == 1) and (n == 1)\n",
    "\n",
    "\n",
    "\n",
    "This logic also applies in higher-dimension\n",
    "\n",
    "### ***adding a new axis to satisfy broadcasting**\n",
    "\n",
    "This is achieved by taking a slice of the array, that needed to be broadcasted, and adding a np.newaxis, at the axis that would allow broadcasting possible"
   ]
  },
  {
   "cell_type": "code",
   "execution_count": null,
   "metadata": {},
   "outputs": [],
   "source": [
    "arr = np.arange(120).reshape(2, 3, 4, 5)\n",
    "a = np.arange(20).reshape(4, 5)\n",
    "b = np.arange(1).reshape(1, 1)\n",
    "c = np.arange(60).reshape(3, 4, 5)\n",
    "d = np.arange(1).reshape(1, 1, 1)\n",
    "e = np.arange(12).reshape(3, 4)"
   ]
  },
  {
   "cell_type": "code",
   "execution_count": 507,
   "metadata": {},
   "outputs": [
    {
     "data": {
      "text/plain": [
       "array([ 1.28, -0.42,  0.44,  1.6 ])"
      ]
     },
     "execution_count": 507,
     "metadata": {},
     "output_type": "execute_result"
    }
   ],
   "source": [
    "col = np.array([1.28, -0.42, 0.44, 1.6])\n",
    "col"
   ]
  },
  {
   "cell_type": "code",
   "execution_count": 512,
   "metadata": {},
   "outputs": [
    {
     "data": {
      "text/plain": [
       "array([[ 0.,  1.,  2.],\n",
       "       [ 3.,  4.,  5.],\n",
       "       [ 6.,  7.,  8.],\n",
       "       [ 9., 10., 11.]])"
      ]
     },
     "execution_count": 512,
     "metadata": {},
     "output_type": "execute_result"
    }
   ],
   "source": [
    "arr = np.arange(12).reshape(4, 3).astype('float64')\n",
    "arr"
   ]
  },
  {
   "cell_type": "code",
   "execution_count": 499,
   "metadata": {},
   "outputs": [
    {
     "data": {
      "text/plain": [
       "array([[ 1.28],\n",
       "       [-0.42],\n",
       "       [ 0.44],\n",
       "       [ 1.6 ]])"
      ]
     },
     "execution_count": 499,
     "metadata": {},
     "output_type": "execute_result"
    }
   ],
   "source": [
    "col[:, np.newaxis]"
   ]
  },
  {
   "cell_type": "code",
   "execution_count": 513,
   "metadata": {},
   "outputs": [],
   "source": [
    "arr[:] = col[:, np.newaxis]"
   ]
  },
  {
   "cell_type": "code",
   "execution_count": 514,
   "metadata": {},
   "outputs": [
    {
     "data": {
      "text/plain": [
       "array([[ 1.28,  1.28,  1.28],\n",
       "       [-0.42, -0.42, -0.42],\n",
       "       [ 0.44,  0.44,  0.44],\n",
       "       [ 1.6 ,  1.6 ,  1.6 ]])"
      ]
     },
     "execution_count": 514,
     "metadata": {},
     "output_type": "execute_result"
    }
   ],
   "source": [
    "arr"
   ]
  }
 ],
 "metadata": {
  "kernelspec": {
   "display_name": "Python 3",
   "language": "python",
   "name": "python3"
  },
  "language_info": {
   "codemirror_mode": {
    "name": "ipython",
    "version": 3
   },
   "file_extension": ".py",
   "mimetype": "text/x-python",
   "name": "python",
   "nbconvert_exporter": "python",
   "pygments_lexer": "ipython3",
   "version": "3.10.12"
  }
 },
 "nbformat": 4,
 "nbformat_minor": 2
}
